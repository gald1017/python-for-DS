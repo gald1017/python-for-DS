{
 "cells": [
  {
   "cell_type": "markdown",
   "metadata": {
    "tags": [
     "intro"
    ]
   },
   "source": [
    "# Grading process\n",
    "\n",
    "\n",
    "HW #1 is submitted individually. The submission notebook will be autovalidated with `papermill`. The exact command is the following:\n",
    "\n",
    "```bash\n",
    "papermill <notebook-name>.ipynb <notebook-name>-run.ipynb .ipynb -p TEST True\n",
    "```\n",
    "\n",
    "Papermill will inject new cell after each cell tagged as `parameters` (see `View > Cell toolbar > Tags`). Notebook will be executed from top to bottom in a linear order. `solutions.py` contains correct implementations used to validate your solutions.\n",
    "\n",
    "Please, **fill `STUDENT` variable with your name**, so that we can collect the results automatically. Please, **do not change `TEST` variable**.\n",
    "\n",
    "Different problems give different number of points. All problems in the basic section give 1 point, while all problems in intermediate section give 2 points.\n",
    "\n",
    "Each problem contains specific validation details. You need to fill each cell tagged `solution` with your code. Note, that solution function must self-contained, i.e. it must not use any state from the notebook itself.\n",
    "\n",
    "We will do our best to review your assignments, but please keep in mind, that for this assignment automatic grade (between $0$ and $100$) is the primary source of ground truth."
   ]
  },
  {
   "cell_type": "code",
   "execution_count": null,
   "metadata": {
    "ExecuteTime": {
     "end_time": "2019-10-30T22:26:04.111972Z",
     "start_time": "2019-10-30T22:26:04.107385Z"
    }
   },
   "outputs": [],
   "source": [
    "import numpy as np"
   ]
  },
  {
   "cell_type": "code",
   "execution_count": null,
   "metadata": {
    "ExecuteTime": {
     "end_time": "2019-10-30T22:26:04.372936Z",
     "start_time": "2019-10-30T22:26:04.364608Z"
    }
   },
   "outputs": [],
   "source": [
    "STUDENT = \"Evyatar Shpitzer\""
   ]
  },
  {
   "cell_type": "code",
   "execution_count": null,
   "metadata": {
    "tags": [
     "parameters"
    ]
   },
   "outputs": [],
   "source": [
    "ASSIGNMENT = 1\n",
    "TEST = False"
   ]
  },
  {
   "cell_type": "code",
   "execution_count": null,
   "metadata": {
    "ExecuteTime": {
     "end_time": "2019-10-30T22:39:38.188583Z",
     "start_time": "2019-10-30T22:39:38.182534Z"
    }
   },
   "outputs": [],
   "source": [
    "if TEST:\n",
    "    import solutions\n",
    "    total_grade = 0\n",
    "    MAX_POINTS = 12"
   ]
  },
  {
   "cell_type": "markdown",
   "metadata": {},
   "source": [
    "# Basic arrays\n",
    "\n",
    "Problems 1, 2 and 3 cover the correct usage of `np.arange` (or `np.linspace` for that matter), basic masking and vectorized functions (like calculating `sin` of each element of an array in a vectorized manner)."
   ]
  },
  {
   "cell_type": "markdown",
   "metadata": {
    "tags": [
     "problem"
    ]
   },
   "source": [
    "### 1. Calculate $\\sin(x)$ for $0\\leq x < 2\\pi$ with a step of $0.1$.\n",
    "\n",
    "You need to implement a function, which calculates the required array. The exact values of $x$ are $[0, 0.1, 0.2,\\ldots,6.2]$.\n",
    "\n",
    "Result must be **1-dimensional**, and **will be tested against precomputed values**.\n",
    "\n",
    "Note, that `numpy` provides [constants](https://docs.scipy.org/doc/numpy-1.15.0/reference/constants.html), you can take $\\pi$ from there. "
   ]
  },
  {
   "cell_type": "code",
   "execution_count": 2,
   "metadata": {
    "ExecuteTime": {
     "end_time": "2019-10-30T22:26:07.100307Z",
     "start_time": "2019-10-30T22:26:07.092132Z"
    },
    "tags": [
     "solution"
    ]
   },
   "outputs": [],
   "source": [
    "def sin_basic():\n",
    "    # your code goes here\n",
    "    x = np.arange(0,2*np.pi,0.1)\n",
    "    return np.sin(x)\n",
    "    \n",
    "    "
   ]
  },
  {
   "cell_type": "code",
   "execution_count": null,
   "metadata": {
    "ExecuteTime": {
     "end_time": "2019-10-30T22:26:07.334174Z",
     "start_time": "2019-10-30T22:26:07.322103Z"
    },
    "tags": [
     "validation"
    ]
   },
   "outputs": [],
   "source": [
    "PROBLEM_ID = 1\n",
    "\n",
    "if TEST:\n",
    "    total_grade += solutions.check(STUDENT, PROBLEM_ID, sin_basic)"
   ]
  },
  {
   "cell_type": "markdown",
   "metadata": {
    "tags": [
     "problem"
    ]
   },
   "source": [
    "### 2. Create a function, which calculates $n$ values of $\\sin(x)$ for $0\\leq x \\leq 2\\pi$.\n",
    "\n",
    "Both $0$ and $2\\pi$ must be included and $x$ values must be equidistant. Result must be **1-dimensional**, and **will be tested against three random values for $10 \\leq n < 100 $**.\n",
    "\n",
    "Example values to be calculated for $n=3$ are:\n",
    "\n",
    "$$\\sin(0),\\sin(\\pi),\\sin(2\\pi),$$\n",
    "\n",
    "while for $n=5$ we have\n",
    "\n",
    "$$\\sin(0),\\sin(\\pi/2),\\sin(\\pi),\\sin(3\\pi/2), \\sin(2\\pi)$$.\n"
   ]
  },
  {
   "cell_type": "code",
   "execution_count": null,
   "metadata": {
    "ExecuteTime": {
     "end_time": "2019-10-30T22:26:08.274476Z",
     "start_time": "2019-10-30T22:26:08.268426Z"
    },
    "tags": [
     "solution"
    ]
   },
   "outputs": [],
   "source": [
    "def sin_enumerated(n):\n",
    "    # your code goes here\n",
    "    x = np.linspace(0,2*np.pi,n)\n",
    "    return np.sin(x)\n",
    "    "
   ]
  },
  {
   "cell_type": "code",
   "execution_count": null,
   "metadata": {
    "ExecuteTime": {
     "end_time": "2019-10-30T22:26:08.554208Z",
     "start_time": "2019-10-30T22:26:08.542546Z"
    },
    "tags": [
     "validation"
    ]
   },
   "outputs": [],
   "source": [
    "PROBLEM_ID = 2\n",
    "\n",
    "if TEST:\n",
    "    total_grade += solutions.check(STUDENT, PROBLEM_ID, sin_enumerated)"
   ]
  },
  {
   "cell_type": "markdown",
   "metadata": {
    "tags": [
     "problem"
    ]
   },
   "source": [
    "### 3. Create a function, which calculates $n$ values of truncated $\\sin(x)$ for $0\\leq x \\leq 2\\pi$.\n",
    "\n",
    "Truncated $\\sin(x)$ is defined as the following:\n",
    "\n",
    "$$\n",
    "\\sin_{trunc}(x) =\n",
    "\\left\\{\n",
    "\\begin{array}{l}\n",
    "\\sin(x), \\sin(x)\\geq 0, \\\\\n",
    "0, \\sin(x) < 0.\n",
    "\\end{array}\\right.\n",
    "$$\n",
    "\n",
    "Otherwise, the requirements are the same as in Problem 2."
   ]
  },
  {
   "cell_type": "code",
   "execution_count": null,
   "metadata": {
    "ExecuteTime": {
     "end_time": "2019-10-30T22:26:08.950073Z",
     "start_time": "2019-10-30T22:26:08.944541Z"
    },
    "tags": [
     "solution"
    ]
   },
   "outputs": [],
   "source": [
    "def sin_truncated(n):\n",
    "    # \n",
    "    x = np.linspace(0,2*np.pi,5)\n",
    "    y = np.sin(x)\n",
    "    y[y<0] = 0\n",
    "    return y\n",
    "\n",
    "\n",
    "    "
   ]
  },
  {
   "cell_type": "code",
   "execution_count": null,
   "metadata": {
    "ExecuteTime": {
     "end_time": "2019-10-30T22:26:09.170219Z",
     "start_time": "2019-10-30T22:26:09.158251Z"
    },
    "tags": [
     "validation"
    ]
   },
   "outputs": [],
   "source": [
    "PROBLEM_ID = 3\n",
    "\n",
    "if TEST:\n",
    "    total_grade += solutions.check(STUDENT, PROBLEM_ID, sin_truncated)"
   ]
  },
  {
   "cell_type": "markdown",
   "metadata": {
    "tags": [
     "problem"
    ]
   },
   "source": [
    "### 4. Statistics on multi-dimensional arrays.\n",
    "\n",
    "Given the 3-dimensional array `arr`, calculate mean and standard deviation along dimensions $(1,2)$.\n",
    "\n",
    "For a $N\\times M \\times K$ array `arr`, result must be a **2-dimensional** array of shape $N\\times 2$, with column `0` containing mean values and column `1` containing standard deviations. For example, $(0,0)$ element of resulting array contains mean of `arr[0]`, while $(1,1)$ contains standard deviation of `arr[1]`.\n",
    "\n",
    "Your solution **will be tested against three random combinations of input array dimensions ($10 \\leq n < 100 $)**. Array values will be drawn from the standard normal distribution (`np.random.randn`).\n",
    "\n",
    "**Hint:** this problem may need to use some universal functions and array combination routines."
   ]
  },
  {
   "cell_type": "code",
   "execution_count": null,
   "metadata": {
    "ExecuteTime": {
     "end_time": "2019-10-30T22:26:09.531869Z",
     "start_time": "2019-10-30T22:26:09.523705Z"
    },
    "tags": [
     "solution"
    ]
   },
   "outputs": [],
   "source": [
    "def array_stats(arr):\n",
    "    \n",
    "    return np.asarray([arr.mean(axis=(2,1)),arr.std(axis=(2,1))]).T\n"
   ]
  },
  {
   "cell_type": "code",
   "execution_count": null,
   "metadata": {
    "ExecuteTime": {
     "end_time": "2019-10-30T22:26:09.716713Z",
     "start_time": "2019-10-30T22:26:09.707934Z"
    },
    "tags": [
     "validation"
    ]
   },
   "outputs": [],
   "source": [
    "PROBLEM_ID = 4\n",
    "\n",
    "if TEST:\n",
    "    total_grade += solutions.check(STUDENT, PROBLEM_ID, array_stats)"
   ]
  },
  {
   "cell_type": "markdown",
   "metadata": {
    "tags": [
     "problem"
    ]
   },
   "source": [
    "### 5. Softmax activation function.\n",
    "\n",
    "Given a 2-dimensional array, calculate it's $\\texttt{softmax}$ for each row. $\\texttt{softmax}$ activation for a vector is defined as the following:\n",
    "\n",
    "$$\n",
    "\\texttt{softmax} (x_i) = \\frac{e^{x_i}}{\\sum_i e^{x_i}}.\n",
    "$$\n",
    "\n",
    "Correspondingly, for entire array the expression is the following:\n",
    "\n",
    "$$\n",
    "\\texttt{softmax} (x_{ij}) = \\frac{e^{x_{ij}}}{\\sum_j e^{x_{ij}}}.\n",
    "$$\n",
    "\n",
    "\n",
    "\n",
    "For example, an input array \n",
    "\n",
    "$$\n",
    "\\left(\n",
    "\\begin{array}{cc}\n",
    "1 && 6 \\\\\n",
    "4 && 5\n",
    "\\end{array}\n",
    "\\right)\n",
    "$$\n",
    "\n",
    "results in the following $\\texttt{softmax}$ activation:\n",
    "\n",
    "$$\n",
    "\\left(\n",
    "\\begin{array}{cc}\n",
    "\\frac{e^1}{e^1 + e^6} && \\frac{e^6}{e^1 + e^6} \\\\\n",
    "\\frac{e^4}{e^4 + e^5} && \\frac{e^5}{e^4 + e^5}\n",
    "\\end{array}\n",
    "\\right)\n",
    "$$\n",
    "\n",
    "Result must be **2-dimensional**, and **will be tested against three random combinations of input array dimensions ($10 \\leq n < 100 $)**. Array elements are drawn from standard normal distribution.\n",
    "\n",
    "**Hint:** besides using universal functions, you will need to consider broadcasting properly."
   ]
  },
  {
   "cell_type": "code",
   "execution_count": null,
   "metadata": {
    "ExecuteTime": {
     "end_time": "2019-10-30T22:26:10.100800Z",
     "start_time": "2019-10-30T22:26:10.089613Z"
    },
    "tags": [
     "solution"
    ]
   },
   "outputs": [],
   "source": [
    "def softmax(arr):\n",
    "    a = np.exp(arr)\n",
    "    b = 1/np.sum(a, axis=1)\n",
    "    return np.multiply(a,b.reshape(np.size(b),1))"
   ]
  },
  {
   "cell_type": "code",
   "execution_count": null,
   "metadata": {
    "ExecuteTime": {
     "end_time": "2019-10-30T22:26:10.298555Z",
     "start_time": "2019-10-30T22:26:10.290806Z"
    },
    "tags": [
     "validation"
    ]
   },
   "outputs": [],
   "source": [
    "PROBLEM_ID = 5\n",
    "\n",
    "if TEST:\n",
    "    total_grade += solutions.check(STUDENT, PROBLEM_ID, softmax)"
   ]
  },
  {
   "cell_type": "markdown",
   "metadata": {
    "tags": [
     "problem"
    ]
   },
   "source": [
    "### 6. Class prediction.\n",
    "\n",
    "$\\texttt{softmax}$ is used to represent **probabilities** and is often used as an activation function in neural networks for multi-class classification. Hence, result of the Problem 5 may be treated as **probabilistic predictions** of some classification model.\n",
    "\n",
    "For example, $(10, 3)$ array outputted from the function in Problem 5 may be a probabilistic prediction of 3-class classification model for 10 examples. Note, that $\\texttt{softmax}$ normalizes the input, such that each row sums to $1$ (hence, resulting numbers can be treated as probabilities).\n",
    "\n",
    "In this problem, you need to calculate the exact class, i.e. determine, which probability is the highest for each example. For example, for the following array\n",
    "\n",
    "$$\n",
    "\\left(\n",
    "\\begin{array}{ccc}\n",
    "0.3 && 0.6 && 0.1 \\\\\n",
    "0.8 && 0.05 && 0.15\n",
    "\\end{array}\n",
    "\\right)\n",
    "$$\n",
    "\n",
    "the result must be\n",
    "\n",
    "$$\n",
    "\\left(\n",
    "\\begin{array}{c}\n",
    "1 \\\\\n",
    "0\n",
    "\\end{array}\n",
    "\\right)\n",
    "$$\n",
    "\n",
    "Note, that result must be **2-dimensional**, such that input array of shape $(N, M)$ is transformed into output array of shape $(N,1)$. Input arrays are generated in the same way as in Problem 5 with $\\texttt{softmax}$ applied on top."
   ]
  },
  {
   "cell_type": "code",
   "execution_count": null,
   "metadata": {
    "ExecuteTime": {
     "end_time": "2019-10-30T22:26:10.680534Z",
     "start_time": "2019-10-30T22:26:10.674286Z"
    },
    "tags": [
     "solution"
    ]
   },
   "outputs": [],
   "source": [
    "def predict(arr):\n",
    "    \n",
    "    imax = np.argmax(arr, axis=1)\n",
    "    imax = np.expand_dims(imax,axis=-1)\n",
    "    return imax"
   ]
  },
  {
   "cell_type": "code",
   "execution_count": null,
   "metadata": {
    "ExecuteTime": {
     "end_time": "2019-10-30T22:26:10.881238Z",
     "start_time": "2019-10-30T22:26:10.873344Z"
    },
    "tags": [
     "validation"
    ]
   },
   "outputs": [],
   "source": [
    "PROBLEM_ID = 6\n",
    "\n",
    "if TEST:\n",
    "    total_grade += solutions.check(STUDENT, PROBLEM_ID, predict)"
   ]
  },
  {
   "cell_type": "markdown",
   "metadata": {},
   "source": [
    "# Intermediate arrays"
   ]
  },
  {
   "cell_type": "markdown",
   "metadata": {
    "tags": [
     "problem"
    ]
   },
   "source": [
    "### 7. One-hot encoding.\n",
    "\n",
    "Given 1-dimensional array of class labels, construct it's one-hot encoded transformation. One-hot encoding of an array of shape $(N,)$ is defined as an array of shape $(N,L)$, such that $e_{ij}$ is $1$ if $i$-th example belongs to class $j$ and $0$ otherwise. $L$ is the number of classes.\n",
    "\n",
    "For example, array $(1,0,3,1,1,1,0)$ is transformed to\n",
    "\n",
    "$$\n",
    "\\left(\n",
    "\\begin{array}{cccc}\n",
    "0 && 1 && 0 && 0\\\\\n",
    "1 && 0 && 0 && 0\\\\\n",
    "0 && 0 && 0 && 1\\\\\n",
    "0 && 1 && 0 && 0\\\\\n",
    "0 && 1 && 0 && 0\\\\\n",
    "0 && 1 && 0 && 0\\\\\n",
    "1 && 0 && 0 && 0\n",
    "\\end{array}\n",
    "\\right)\n",
    "$$\n",
    "\n",
    "Class labels are consequtive integers, hence $L$ is the largest integer value in an input array. Note, that in the example above we do not have `2` in the input although the result is still $7\\times 4$ with column `2` containing all `0`'s.\n",
    "\n",
    "This function will be tested against three input arrays of random shape $(n,)$ ($10 \\leq n < 100 $) filled with random integers.\n",
    "\n",
    "**Hint:** you may need some fancy indexing."
   ]
  },
  {
   "cell_type": "code",
   "execution_count": null,
   "metadata": {
    "ExecuteTime": {
     "end_time": "2019-10-30T22:26:11.485735Z",
     "start_time": "2019-10-30T22:26:11.480300Z"
    },
    "tags": [
     "solution"
    ]
   },
   "outputs": [],
   "source": [
    "def onehot(labels):\n",
    "    a = np.zeros((np.size(labels),labels.max()+1))\n",
    "    a[np.arange(np.size(labels)), labels] = 1\n",
    "    return a"
   ]
  },
  {
   "cell_type": "code",
   "execution_count": null,
   "metadata": {
    "ExecuteTime": {
     "end_time": "2019-10-30T22:26:11.681172Z",
     "start_time": "2019-10-30T22:26:11.675846Z"
    },
    "tags": [
     "validation"
    ]
   },
   "outputs": [],
   "source": [
    "PROBLEM_ID = 7\n",
    "\n",
    "if TEST:\n",
    "    total_grade += solutions.check(STUDENT, PROBLEM_ID, onehot)"
   ]
  },
  {
   "cell_type": "markdown",
   "metadata": {
    "tags": [
     "problem"
    ]
   },
   "source": [
    "### 8. Fixing missing values.\n",
    "\n",
    "Given an array, which contains some $NaN$s (not-a-number, represented as `np.nan`), positive and negative infinities (represented as `np.inf`), contruct a \"repaired\" version of that array. All missing or broken values must be replaced by average of valid elements of an array.\n",
    "\n",
    "For example, array $(0., np.nan, 2., np.inf)$ must be transformed to $(0., 1., 2., 1.)$.\n",
    "\n",
    "Input arrays will be drawn from standard normal distribution, with small fraction of values transformed to either `np.nan`, `np.inf` or `-np.inf`.\n",
    "\n",
    "**Hint:** you will need some masking to achieve the goal, as well as `np.isnan` and `np.isinf`."
   ]
  },
  {
   "cell_type": "code",
   "execution_count": null,
   "metadata": {
    "ExecuteTime": {
     "end_time": "2019-10-30T22:26:12.413494Z",
     "start_time": "2019-10-30T22:26:12.408306Z"
    },
    "tags": [
     "solution"
    ]
   },
   "outputs": [],
   "source": [
    "def fix(arr):\n",
    "    avg = np.average(arr[np.logical_not(np.isnan(arr) + np.isinf(arr))])\n",
    "    arr[np.isnan(arr) + np.isinf(arr)] = avg\n",
    "    \n",
    "    return arr"
   ]
  },
  {
   "cell_type": "code",
   "execution_count": null,
   "metadata": {
    "ExecuteTime": {
     "end_time": "2019-10-30T22:26:12.602616Z",
     "start_time": "2019-10-30T22:26:12.596587Z"
    },
    "tags": [
     "validation"
    ]
   },
   "outputs": [],
   "source": [
    "PROBLEM_ID = 8\n",
    "\n",
    "if TEST:\n",
    "    total_grade += solutions.check(STUDENT, PROBLEM_ID, fix)"
   ]
  },
  {
   "cell_type": "markdown",
   "metadata": {
    "tags": [
     "problem"
    ]
   },
   "source": [
    "### 9. Calculate class distribution.\n",
    "\n",
    "Given 1-dimensional array of class labels, calculate occurrence of each class.\n",
    "\n",
    "For example, array $(1,0,3,1,1,1,0)$ is transformed to $(2/7, 4/7, 0, 1/7)$. Class labels are consequtive integers, in the same way as in Problem 7 (note, that class `2` is not present in the input array, but it's occurence, although `0`, is included in the output).\n",
    "\n",
    "Note the ordering and consider using one-hot representation to calculate class counts."
   ]
  },
  {
   "cell_type": "code",
   "execution_count": null,
   "metadata": {
    "ExecuteTime": {
     "end_time": "2019-10-30T22:26:13.015372Z",
     "start_time": "2019-10-30T22:26:13.008340Z"
    },
    "tags": [
     "solution"
    ]
   },
   "outputs": [],
   "source": [
    "def onehot(labels):\n",
    "    a = np.zeros((np.size(labels),labels.max()+1))\n",
    "    a[np.arange(np.size(labels)), labels] = 1\n",
    "    return a\n",
    "\n",
    "def class_freq(labels):\n",
    "    \n",
    "    freq = np.sum(onehot(labels), axis=0)*1/labels.size\n",
    "    return freq\n",
    "    "
   ]
  },
  {
   "cell_type": "code",
   "execution_count": null,
   "metadata": {
    "ExecuteTime": {
     "end_time": "2019-10-30T22:26:13.218968Z",
     "start_time": "2019-10-30T22:26:13.214080Z"
    },
    "tags": [
     "validation"
    ]
   },
   "outputs": [],
   "source": [
    "PROBLEM_ID = 9\n",
    "\n",
    "if TEST:\n",
    "    total_grade += solutions.check(STUDENT, PROBLEM_ID, class_freq)"
   ]
  },
  {
   "cell_type": "markdown",
   "metadata": {},
   "source": [
    "# Your grade"
   ]
  },
  {
   "cell_type": "code",
   "execution_count": null,
   "metadata": {
    "ExecuteTime": {
     "end_time": "2019-10-30T22:39:26.661611Z",
     "start_time": "2019-10-30T22:39:26.654545Z"
    }
   },
   "outputs": [],
   "source": [
    "if TEST:\n",
    "    print(f\"{STUDENT}: {int(100 * total_grade / MAX_POINTS)}\")"
   ]
  },
  {
   "cell_type": "code",
   "execution_count": null,
   "metadata": {},
   "outputs": [],
   "source": []
  }
 ],
 "metadata": {
  "@webio": {
   "lastCommId": null,
   "lastKernelId": null
  },
  "kernelspec": {
   "display_name": "Python 3",
   "language": "python",
   "name": "python3"
  },
  "language_info": {
   "codemirror_mode": {
    "name": "ipython",
    "version": 3
   },
   "file_extension": ".py",
   "mimetype": "text/x-python",
   "name": "python",
   "nbconvert_exporter": "python",
   "pygments_lexer": "ipython3",
   "version": "3.7.3"
  }
 },
 "nbformat": 4,
 "nbformat_minor": 2
}
