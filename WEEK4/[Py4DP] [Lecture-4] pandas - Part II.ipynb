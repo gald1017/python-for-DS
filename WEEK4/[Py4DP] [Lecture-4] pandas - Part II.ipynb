{
 "cells": [
  {
   "cell_type": "markdown",
   "metadata": {},
   "source": [
    "# Advanced `pandas`"
   ]
  },
  {
   "cell_type": "code",
   "execution_count": 1,
   "metadata": {
    "ExecuteTime": {
     "end_time": "2019-12-12T07:43:16.491934Z",
     "start_time": "2019-12-12T07:43:15.943849Z"
    }
   },
   "outputs": [
    {
     "name": "stdout",
     "output_type": "stream",
     "text": [
      "Populating the interactive namespace from numpy and matplotlib\n"
     ]
    }
   ],
   "source": [
    "%pylab inline\n",
    "plt.style.use(\"bmh\")"
   ]
  },
  {
   "cell_type": "code",
   "execution_count": 2,
   "metadata": {
    "ExecuteTime": {
     "end_time": "2019-12-12T07:43:16.820457Z",
     "start_time": "2019-12-12T07:43:16.496128Z"
    }
   },
   "outputs": [],
   "source": [
    "import numpy as np\n",
    "import pandas as pd\n",
    "import re"
   ]
  },
  {
   "cell_type": "markdown",
   "metadata": {},
   "source": [
    "## Split-apply-combine"
   ]
  },
  {
   "cell_type": "code",
   "execution_count": 3,
   "metadata": {
    "ExecuteTime": {
     "end_time": "2019-12-12T07:43:17.834408Z",
     "start_time": "2019-12-12T07:43:17.804296Z"
    }
   },
   "outputs": [],
   "source": [
    "titanic_train = pd.read_csv(\"train.csv\", index_col=\"PassengerId\")\n",
    "titanic_test = pd.read_csv(\"test.csv\", index_col=\"PassengerId\")\n",
    "titanic = pd.concat([titanic_train, titanic_test], sort=False)"
   ]
  },
  {
   "cell_type": "code",
   "execution_count": 4,
   "metadata": {
    "ExecuteTime": {
     "end_time": "2019-12-12T07:43:18.522469Z",
     "start_time": "2019-12-12T07:43:18.487798Z"
    }
   },
   "outputs": [
    {
     "data": {
      "text/html": [
       "<div>\n",
       "<style scoped>\n",
       "    .dataframe tbody tr th:only-of-type {\n",
       "        vertical-align: middle;\n",
       "    }\n",
       "\n",
       "    .dataframe tbody tr th {\n",
       "        vertical-align: top;\n",
       "    }\n",
       "\n",
       "    .dataframe thead th {\n",
       "        text-align: right;\n",
       "    }\n",
       "</style>\n",
       "<table border=\"1\" class=\"dataframe\">\n",
       "  <thead>\n",
       "    <tr style=\"text-align: right;\">\n",
       "      <th></th>\n",
       "      <th>Survived</th>\n",
       "      <th>Pclass</th>\n",
       "      <th>Name</th>\n",
       "      <th>Sex</th>\n",
       "      <th>Age</th>\n",
       "      <th>SibSp</th>\n",
       "      <th>Parch</th>\n",
       "      <th>Ticket</th>\n",
       "      <th>Fare</th>\n",
       "      <th>Cabin</th>\n",
       "      <th>Embarked</th>\n",
       "    </tr>\n",
       "    <tr>\n",
       "      <th>PassengerId</th>\n",
       "      <th></th>\n",
       "      <th></th>\n",
       "      <th></th>\n",
       "      <th></th>\n",
       "      <th></th>\n",
       "      <th></th>\n",
       "      <th></th>\n",
       "      <th></th>\n",
       "      <th></th>\n",
       "      <th></th>\n",
       "      <th></th>\n",
       "    </tr>\n",
       "  </thead>\n",
       "  <tbody>\n",
       "    <tr>\n",
       "      <th>1</th>\n",
       "      <td>0.0</td>\n",
       "      <td>3</td>\n",
       "      <td>Braund, Mr. Owen Harris</td>\n",
       "      <td>male</td>\n",
       "      <td>22.0</td>\n",
       "      <td>1</td>\n",
       "      <td>0</td>\n",
       "      <td>A/5 21171</td>\n",
       "      <td>7.2500</td>\n",
       "      <td>NaN</td>\n",
       "      <td>S</td>\n",
       "    </tr>\n",
       "    <tr>\n",
       "      <th>2</th>\n",
       "      <td>1.0</td>\n",
       "      <td>1</td>\n",
       "      <td>Cumings, Mrs. John Bradley (Florence Briggs Th...</td>\n",
       "      <td>female</td>\n",
       "      <td>38.0</td>\n",
       "      <td>1</td>\n",
       "      <td>0</td>\n",
       "      <td>PC 17599</td>\n",
       "      <td>71.2833</td>\n",
       "      <td>C85</td>\n",
       "      <td>C</td>\n",
       "    </tr>\n",
       "    <tr>\n",
       "      <th>3</th>\n",
       "      <td>1.0</td>\n",
       "      <td>3</td>\n",
       "      <td>Heikkinen, Miss. Laina</td>\n",
       "      <td>female</td>\n",
       "      <td>26.0</td>\n",
       "      <td>0</td>\n",
       "      <td>0</td>\n",
       "      <td>STON/O2. 3101282</td>\n",
       "      <td>7.9250</td>\n",
       "      <td>NaN</td>\n",
       "      <td>S</td>\n",
       "    </tr>\n",
       "    <tr>\n",
       "      <th>4</th>\n",
       "      <td>1.0</td>\n",
       "      <td>1</td>\n",
       "      <td>Futrelle, Mrs. Jacques Heath (Lily May Peel)</td>\n",
       "      <td>female</td>\n",
       "      <td>35.0</td>\n",
       "      <td>1</td>\n",
       "      <td>0</td>\n",
       "      <td>113803</td>\n",
       "      <td>53.1000</td>\n",
       "      <td>C123</td>\n",
       "      <td>S</td>\n",
       "    </tr>\n",
       "    <tr>\n",
       "      <th>5</th>\n",
       "      <td>0.0</td>\n",
       "      <td>3</td>\n",
       "      <td>Allen, Mr. William Henry</td>\n",
       "      <td>male</td>\n",
       "      <td>35.0</td>\n",
       "      <td>0</td>\n",
       "      <td>0</td>\n",
       "      <td>373450</td>\n",
       "      <td>8.0500</td>\n",
       "      <td>NaN</td>\n",
       "      <td>S</td>\n",
       "    </tr>\n",
       "  </tbody>\n",
       "</table>\n",
       "</div>"
      ],
      "text/plain": [
       "             Survived  Pclass  \\\n",
       "PassengerId                     \n",
       "1                 0.0       3   \n",
       "2                 1.0       1   \n",
       "3                 1.0       3   \n",
       "4                 1.0       1   \n",
       "5                 0.0       3   \n",
       "\n",
       "                                                          Name     Sex   Age  \\\n",
       "PassengerId                                                                    \n",
       "1                                      Braund, Mr. Owen Harris    male  22.0   \n",
       "2            Cumings, Mrs. John Bradley (Florence Briggs Th...  female  38.0   \n",
       "3                                       Heikkinen, Miss. Laina  female  26.0   \n",
       "4                 Futrelle, Mrs. Jacques Heath (Lily May Peel)  female  35.0   \n",
       "5                                     Allen, Mr. William Henry    male  35.0   \n",
       "\n",
       "             SibSp  Parch            Ticket     Fare Cabin Embarked  \n",
       "PassengerId                                                          \n",
       "1                1      0         A/5 21171   7.2500   NaN        S  \n",
       "2                1      0          PC 17599  71.2833   C85        C  \n",
       "3                0      0  STON/O2. 3101282   7.9250   NaN        S  \n",
       "4                1      0            113803  53.1000  C123        S  \n",
       "5                0      0            373450   8.0500   NaN        S  "
      ]
     },
     "execution_count": 4,
     "metadata": {},
     "output_type": "execute_result"
    }
   ],
   "source": [
    "titanic.head()"
   ]
  },
  {
   "cell_type": "markdown",
   "metadata": {},
   "source": [
    "# Scalar output"
   ]
  },
  {
   "cell_type": "code",
   "execution_count": null,
   "metadata": {
    "ExecuteTime": {
     "end_time": "2019-11-29T07:50:20.487421Z",
     "start_time": "2019-11-29T07:50:20.481318Z"
    }
   },
   "outputs": [],
   "source": [
    "class_groups = titanic.groupby(\"Pclass\")"
   ]
  },
  {
   "cell_type": "code",
   "execution_count": null,
   "metadata": {
    "ExecuteTime": {
     "end_time": "2019-11-29T07:50:37.186561Z",
     "start_time": "2019-11-29T07:50:37.179041Z"
    }
   },
   "outputs": [],
   "source": [
    "class_groups"
   ]
  },
  {
   "cell_type": "code",
   "execution_count": null,
   "metadata": {
    "ExecuteTime": {
     "end_time": "2019-11-29T07:51:05.758834Z",
     "start_time": "2019-11-29T07:51:05.722600Z"
    }
   },
   "outputs": [],
   "source": [
    "class_groups.mean()"
   ]
  },
  {
   "cell_type": "code",
   "execution_count": null,
   "metadata": {
    "ExecuteTime": {
     "end_time": "2019-11-29T07:53:26.929109Z",
     "start_time": "2019-11-29T07:53:26.901458Z"
    }
   },
   "outputs": [],
   "source": [
    "age_groups = titanic.Parch.groupby((5 + 10*(titanic.Age//10)))"
   ]
  },
  {
   "cell_type": "code",
   "execution_count": null,
   "metadata": {
    "ExecuteTime": {
     "end_time": "2019-11-29T07:53:44.038386Z",
     "start_time": "2019-11-29T07:53:44.032189Z"
    }
   },
   "outputs": [],
   "source": [
    "age_groups"
   ]
  },
  {
   "cell_type": "code",
   "execution_count": null,
   "metadata": {
    "ExecuteTime": {
     "end_time": "2019-11-29T07:55:52.493946Z",
     "start_time": "2019-11-29T07:55:52.481828Z"
    }
   },
   "outputs": [],
   "source": [
    "age_groups.mean() # Note index name"
   ]
  },
  {
   "cell_type": "code",
   "execution_count": null,
   "metadata": {
    "ExecuteTime": {
     "end_time": "2019-11-29T07:59:50.908766Z",
     "start_time": "2019-11-29T07:59:50.900768Z"
    }
   },
   "outputs": [],
   "source": [
    "age_groups_npy = titanic.Parch.groupby((5 + 10*(titanic.Age//10)).values)"
   ]
  },
  {
   "cell_type": "code",
   "execution_count": null,
   "metadata": {
    "ExecuteTime": {
     "end_time": "2019-11-29T07:59:51.360904Z",
     "start_time": "2019-11-29T07:59:51.336917Z"
    }
   },
   "outputs": [],
   "source": [
    "age_groups_npy.mean()"
   ]
  },
  {
   "cell_type": "code",
   "execution_count": null,
   "metadata": {
    "ExecuteTime": {
     "end_time": "2019-11-29T08:01:35.896722Z",
     "start_time": "2019-11-29T08:01:35.881737Z"
    }
   },
   "outputs": [],
   "source": [
    "age_groups_multi = titanic.Parch.groupby([(5 + 10*(titanic.Age//10)), titanic.Pclass])"
   ]
  },
  {
   "cell_type": "code",
   "execution_count": null,
   "metadata": {
    "ExecuteTime": {
     "end_time": "2019-11-29T08:00:54.105556Z",
     "start_time": "2019-11-29T08:00:54.089776Z"
    }
   },
   "outputs": [],
   "source": [
    "age_groups_multi = titanic.Parch.groupby([titanic.Pclass, (5 + 10*(titanic.Age//10))])"
   ]
  },
  {
   "cell_type": "code",
   "execution_count": null,
   "metadata": {
    "ExecuteTime": {
     "end_time": "2019-11-29T08:01:02.459319Z",
     "start_time": "2019-11-29T08:01:02.447132Z"
    }
   },
   "outputs": [],
   "source": [
    "age_groups_multi"
   ]
  },
  {
   "cell_type": "code",
   "execution_count": null,
   "metadata": {
    "ExecuteTime": {
     "end_time": "2019-11-29T08:01:40.220470Z",
     "start_time": "2019-11-29T08:01:40.200459Z"
    }
   },
   "outputs": [],
   "source": [
    "age_groups_multi.mean()"
   ]
  },
  {
   "cell_type": "code",
   "execution_count": null,
   "metadata": {
    "ExecuteTime": {
     "end_time": "2019-11-29T08:03:08.281919Z",
     "start_time": "2019-11-29T08:03:08.259963Z"
    }
   },
   "outputs": [],
   "source": [
    "age_groups_multi.mean().unstack()"
   ]
  },
  {
   "cell_type": "code",
   "execution_count": null,
   "metadata": {
    "ExecuteTime": {
     "end_time": "2019-11-29T08:03:47.499719Z",
     "start_time": "2019-11-29T08:03:47.491562Z"
    }
   },
   "outputs": [],
   "source": [
    "age_groups_mixed = titanic.groupby([(5 + 10*(titanic.Age//10)), \"Pclass\"])"
   ]
  },
  {
   "cell_type": "code",
   "execution_count": null,
   "metadata": {
    "ExecuteTime": {
     "end_time": "2019-11-26T16:31:38.144674Z",
     "start_time": "2019-11-26T16:31:38.071058Z"
    }
   },
   "outputs": [],
   "source": [
    "titanic"
   ]
  },
  {
   "cell_type": "code",
   "execution_count": null,
   "metadata": {
    "ExecuteTime": {
     "end_time": "2019-11-26T16:31:48.648298Z",
     "start_time": "2019-11-26T16:31:48.629088Z"
    }
   },
   "outputs": [],
   "source": [
    "5 + 10*(titanic.Age//10)"
   ]
  },
  {
   "cell_type": "code",
   "execution_count": null,
   "metadata": {
    "ExecuteTime": {
     "end_time": "2019-11-29T08:08:57.500914Z",
     "start_time": "2019-11-29T08:08:57.486089Z"
    }
   },
   "outputs": [],
   "source": [
    "age_groups_mixed.Parch.mean()#.unstack()"
   ]
  },
  {
   "cell_type": "code",
   "execution_count": null,
   "metadata": {
    "ExecuteTime": {
     "end_time": "2019-11-29T08:07:15.669643Z",
     "start_time": "2019-11-29T08:07:15.660155Z"
    }
   },
   "outputs": [],
   "source": [
    "print(age_groups_mixed.Parch.mean())"
   ]
  },
  {
   "cell_type": "markdown",
   "metadata": {},
   "source": [
    "# Series output"
   ]
  },
  {
   "cell_type": "code",
   "execution_count": null,
   "metadata": {
    "ExecuteTime": {
     "end_time": "2019-11-29T08:09:20.872029Z",
     "start_time": "2019-11-29T08:09:20.867749Z"
    }
   },
   "outputs": [],
   "source": [
    "class_groups = titanic.groupby(\"Pclass\") # Nothing is calculated yet"
   ]
  },
  {
   "cell_type": "code",
   "execution_count": null,
   "metadata": {},
   "outputs": [],
   "source": [
    "n = titanic.groupby([\"Pclass\", \"Sex\"]).Age.mean()"
   ]
  },
  {
   "cell_type": "code",
   "execution_count": null,
   "metadata": {},
   "outputs": [],
   "source": [
    "dict(n)"
   ]
  },
  {
   "cell_type": "code",
   "execution_count": null,
   "metadata": {},
   "outputs": [],
   "source": [
    "a=titanic[(titanic.Sex == 'male') & (titanic.Pclass == 3)].fillna(0)\n"
   ]
  },
  {
   "cell_type": "code",
   "execution_count": null,
   "metadata": {},
   "outputs": [],
   "source": [
    "a"
   ]
  },
  {
   "cell_type": "code",
   "execution_count": null,
   "metadata": {},
   "outputs": [],
   "source": [
    "titanic[(titanic.Sex == 'male') & (titanic.Pclass == 3)]"
   ]
  },
  {
   "cell_type": "code",
   "execution_count": null,
   "metadata": {
    "ExecuteTime": {
     "end_time": "2019-11-29T08:09:47.026203Z",
     "start_time": "2019-11-29T08:09:47.012818Z"
    }
   },
   "outputs": [],
   "source": [
    "titanic.Fare.describe()"
   ]
  },
  {
   "cell_type": "code",
   "execution_count": null,
   "metadata": {
    "ExecuteTime": {
     "end_time": "2019-11-29T08:11:41.685150Z",
     "start_time": "2019-11-29T08:11:41.632705Z"
    }
   },
   "outputs": [],
   "source": [
    "class_groups.Fare.describe()"
   ]
  },
  {
   "cell_type": "code",
   "execution_count": null,
   "metadata": {
    "ExecuteTime": {
     "end_time": "2019-11-29T08:10:47.209137Z",
     "start_time": "2019-11-29T08:10:47.168717Z"
    }
   },
   "outputs": [],
   "source": [
    "class_groups.apply(lambda x: x.Fare.describe()) # Note column index name"
   ]
  },
  {
   "cell_type": "code",
   "execution_count": null,
   "metadata": {
    "ExecuteTime": {
     "end_time": "2019-11-29T08:12:07.683328Z",
     "start_time": "2019-11-29T08:12:07.672683Z"
    }
   },
   "outputs": [],
   "source": [
    "titanic.groupby(\"Sex\").Parch.mean()"
   ]
  },
  {
   "cell_type": "code",
   "execution_count": null,
   "metadata": {
    "ExecuteTime": {
     "end_time": "2019-11-29T08:13:07.831114Z",
     "start_time": "2019-11-29T08:13:07.795466Z"
    }
   },
   "outputs": [],
   "source": [
    "class_groups.apply(lambda x: x.groupby(\"Sex\").Parch.mean()) # Note column index name"
   ]
  },
  {
   "cell_type": "code",
   "execution_count": null,
   "metadata": {
    "ExecuteTime": {
     "end_time": "2019-11-29T08:14:53.540370Z",
     "start_time": "2019-11-29T08:14:53.486423Z"
    }
   },
   "outputs": [],
   "source": [
    "class_groups.apply(lambda x: x[x.Parch==0].groupby(\"Sex\").size())"
   ]
  },
  {
   "cell_type": "code",
   "execution_count": null,
   "metadata": {
    "ExecuteTime": {
     "end_time": "2019-11-29T08:15:49.628182Z",
     "start_time": "2019-11-29T08:15:49.611140Z"
    }
   },
   "outputs": [],
   "source": [
    "titanic[titanic.Parch!=0].groupby([\"Sex\", \"Embarked\"]).size()"
   ]
  },
  {
   "cell_type": "code",
   "execution_count": null,
   "metadata": {
    "ExecuteTime": {
     "end_time": "2019-11-29T08:16:38.189816Z",
     "start_time": "2019-11-29T08:16:38.153973Z"
    }
   },
   "outputs": [],
   "source": [
    "class_groups.apply(lambda x: x[x.Parch!=0].groupby([\"Sex\", \"Embarked\"]).size())"
   ]
  },
  {
   "cell_type": "code",
   "execution_count": null,
   "metadata": {
    "ExecuteTime": {
     "end_time": "2019-11-29T08:19:36.832730Z",
     "start_time": "2019-11-29T08:19:36.784401Z"
    }
   },
   "outputs": [],
   "source": [
    "result = (class_groups\n",
    "          .apply(lambda x: x[x.Parch!=0].groupby([\"Sex\", \"Embarked\"]).size())\n",
    "          .unstack([1,2]))"
   ]
  },
  {
   "cell_type": "code",
   "execution_count": null,
   "metadata": {
    "ExecuteTime": {
     "end_time": "2019-11-29T08:19:37.550713Z",
     "start_time": "2019-11-29T08:19:37.518241Z"
    }
   },
   "outputs": [],
   "source": [
    "result"
   ]
  },
  {
   "cell_type": "code",
   "execution_count": null,
   "metadata": {
    "ExecuteTime": {
     "end_time": "2019-11-29T08:21:20.758367Z",
     "start_time": "2019-11-29T08:21:20.739653Z"
    }
   },
   "outputs": [],
   "source": [
    "result.loc[:, (\"female\", \"C\")]"
   ]
  },
  {
   "cell_type": "code",
   "execution_count": null,
   "metadata": {
    "ExecuteTime": {
     "end_time": "2019-11-29T08:21:42.077282Z",
     "start_time": "2019-11-29T08:21:42.010742Z"
    }
   },
   "outputs": [],
   "source": [
    "for gi, group in class_groups:\n",
    "    print(group)"
   ]
  },
  {
   "cell_type": "code",
   "execution_count": null,
   "metadata": {
    "ExecuteTime": {
     "end_time": "2019-11-29T08:22:40.080463Z",
     "start_time": "2019-11-29T08:22:40.049475Z"
    }
   },
   "outputs": [],
   "source": [
    "result.loc[:, [(\"female\", \"C\"), (\"female\", \"S\")]]"
   ]
  },
  {
   "cell_type": "code",
   "execution_count": null,
   "metadata": {
    "ExecuteTime": {
     "end_time": "2019-11-29T08:22:46.652744Z",
     "start_time": "2019-11-29T08:22:46.629164Z"
    }
   },
   "outputs": [],
   "source": [
    "result.iloc[:, [0, 1]]"
   ]
  },
  {
   "cell_type": "markdown",
   "metadata": {},
   "source": [
    "# DataFrame output"
   ]
  },
  {
   "cell_type": "code",
   "execution_count": null,
   "metadata": {
    "ExecuteTime": {
     "end_time": "2019-11-29T08:24:10.739951Z",
     "start_time": "2019-11-29T08:24:10.725364Z"
    }
   },
   "outputs": [],
   "source": [
    "titanic[[\"SibSp\", \"Parch\"]].head()"
   ]
  },
  {
   "cell_type": "code",
   "execution_count": null,
   "metadata": {
    "ExecuteTime": {
     "end_time": "2019-11-29T08:24:29.149454Z",
     "start_time": "2019-11-29T08:24:29.121194Z"
    }
   },
   "outputs": [],
   "source": [
    "(titanic[titanic.Parch!=0].groupby([\"Sex\", \"Embarked\"])[[\"SibSp\", \"Parch\"]]\n",
    "        .mean())"
   ]
  },
  {
   "cell_type": "code",
   "execution_count": null,
   "metadata": {
    "ExecuteTime": {
     "end_time": "2019-11-29T08:25:42.885679Z",
     "start_time": "2019-11-29T08:25:42.817193Z"
    }
   },
   "outputs": [],
   "source": [
    "(class_groups\n",
    " .apply(lambda x: x[x.Parch!=0].groupby([\"Sex\", \"Embarked\"])[[\"SibSp\", \"Parch\"]]\n",
    "        .mean()))"
   ]
  },
  {
   "cell_type": "markdown",
   "metadata": {},
   "source": [
    "## Mixing group keys"
   ]
  },
  {
   "cell_type": "code",
   "execution_count": null,
   "metadata": {
    "ExecuteTime": {
     "end_time": "2019-11-29T08:29:06.999894Z",
     "start_time": "2019-11-29T08:29:06.966667Z"
    }
   },
   "outputs": [],
   "source": [
    "titanic.head()"
   ]
  },
  {
   "cell_type": "code",
   "execution_count": null,
   "metadata": {
    "ExecuteTime": {
     "end_time": "2019-11-26T15:57:11.260636Z",
     "start_time": "2019-11-26T15:57:11.219258Z"
    }
   },
   "outputs": [],
   "source": [
    "?titanic.set_index"
   ]
  },
  {
   "cell_type": "code",
   "execution_count": null,
   "metadata": {
    "ExecuteTime": {
     "end_time": "2019-11-29T08:30:08.103918Z",
     "start_time": "2019-11-29T08:30:08.093677Z"
    }
   },
   "outputs": [],
   "source": [
    "titanic_idx = titanic.reset_index().set_index((5 + 10*(titanic.Age//10)))"
   ]
  },
  {
   "cell_type": "code",
   "execution_count": null,
   "metadata": {
    "ExecuteTime": {
     "end_time": "2019-11-29T08:30:12.959766Z",
     "start_time": "2019-11-29T08:30:12.932544Z"
    }
   },
   "outputs": [],
   "source": [
    "titanic_idx.head()"
   ]
  },
  {
   "cell_type": "code",
   "execution_count": null,
   "metadata": {
    "ExecuteTime": {
     "end_time": "2019-11-29T08:32:13.977127Z",
     "start_time": "2019-11-29T08:32:13.957383Z"
    }
   },
   "outputs": [],
   "source": [
    "titanic_idx.groupby([pd.Grouper(level=0), \"Pclass\"]).Parch.mean()"
   ]
  },
  {
   "cell_type": "code",
   "execution_count": null,
   "metadata": {
    "ExecuteTime": {
     "end_time": "2019-11-29T08:32:17.895479Z",
     "start_time": "2019-11-29T08:32:17.875655Z"
    }
   },
   "outputs": [],
   "source": [
    "titanic_idx.groupby([titanic_idx.index, \"Pclass\"]).Parch.mean()"
   ]
  },
  {
   "cell_type": "markdown",
   "metadata": {},
   "source": [
    "# pd.Grouper"
   ]
  },
  {
   "cell_type": "code",
   "execution_count": null,
   "metadata": {
    "ExecuteTime": {
     "end_time": "2019-11-26T16:02:13.373256Z",
     "start_time": "2019-11-26T16:02:13.363680Z"
    }
   },
   "outputs": [],
   "source": [
    "class_emb_groups = titanic.groupby([pd.Grouper(\"Embarked\"), \"Pclass\"])"
   ]
  },
  {
   "cell_type": "code",
   "execution_count": null,
   "metadata": {
    "ExecuteTime": {
     "end_time": "2019-11-26T16:02:13.979319Z",
     "start_time": "2019-11-26T16:02:13.944415Z"
    }
   },
   "outputs": [],
   "source": [
    "class_emb_groups.size()"
   ]
  },
  {
   "cell_type": "markdown",
   "metadata": {},
   "source": [
    "# Join operations"
   ]
  },
  {
   "cell_type": "code",
   "execution_count": null,
   "metadata": {
    "ExecuteTime": {
     "end_time": "2019-11-29T09:02:17.425518Z",
     "start_time": "2019-11-29T09:02:17.419145Z"
    }
   },
   "outputs": [],
   "source": [
    "a = pd.DataFrame(np.arange(8).reshape((4,2)),\n",
    "                 columns=[\"a\", \"b\"],\n",
    "                 index=[\"a\", \"b\", \"a\", \"b\"])\n",
    "b = pd.DataFrame(10 + np.arange(4).reshape((4,-1)),\n",
    "                 columns=[\"d\"],\n",
    "                 index=[\"d\", \"b\", \"c\", \"b\"])"
   ]
  },
  {
   "cell_type": "code",
   "execution_count": null,
   "metadata": {
    "ExecuteTime": {
     "end_time": "2019-11-29T09:02:28.646286Z",
     "start_time": "2019-11-29T09:02:28.627623Z"
    }
   },
   "outputs": [],
   "source": [
    "print(a)\n",
    "print(b)"
   ]
  },
  {
   "cell_type": "code",
   "execution_count": null,
   "metadata": {
    "ExecuteTime": {
     "end_time": "2019-11-29T09:02:39.808281Z",
     "start_time": "2019-11-29T09:02:39.778962Z"
    }
   },
   "outputs": [],
   "source": [
    "a.join(b) # default is left join"
   ]
  },
  {
   "cell_type": "code",
   "execution_count": null,
   "metadata": {
    "ExecuteTime": {
     "end_time": "2019-11-29T09:04:20.183143Z",
     "start_time": "2019-11-29T09:04:20.162586Z"
    }
   },
   "outputs": [],
   "source": [
    "a.join(b, how=\"inner\")"
   ]
  },
  {
   "cell_type": "code",
   "execution_count": null,
   "metadata": {
    "ExecuteTime": {
     "end_time": "2019-11-29T09:05:06.760353Z",
     "start_time": "2019-11-29T09:05:06.739187Z"
    }
   },
   "outputs": [],
   "source": [
    "print(a)\n",
    "print(b)"
   ]
  },
  {
   "cell_type": "code",
   "execution_count": null,
   "metadata": {
    "ExecuteTime": {
     "end_time": "2019-11-29T09:05:09.929789Z",
     "start_time": "2019-11-29T09:05:09.914992Z"
    }
   },
   "outputs": [],
   "source": [
    "a.join(b, how=\"right\")"
   ]
  },
  {
   "cell_type": "code",
   "execution_count": null,
   "metadata": {
    "ExecuteTime": {
     "end_time": "2019-11-29T09:07:35.754036Z",
     "start_time": "2019-11-29T09:07:35.732333Z"
    }
   },
   "outputs": [],
   "source": [
    "a.join(b, how=\"outer\", on=\"\")"
   ]
  },
  {
   "cell_type": "code",
   "execution_count": null,
   "metadata": {
    "ExecuteTime": {
     "end_time": "2019-11-29T09:13:37.916288Z",
     "start_time": "2019-11-29T09:13:37.893991Z"
    }
   },
   "outputs": [],
   "source": [
    "c = pd.DataFrame(np.arange(8).reshape((4,2)),\n",
    "                 columns=[\"a\", \"b\"],\n",
    "                 index=pd.MultiIndex.from_tuples([(\"a\", \"A\"), (\"b\", \"E\"), (\"a\", \"Y\"), (\"b\", \"R\")], names=(\"lower\", \"upper\")))"
   ]
  },
  {
   "cell_type": "code",
   "execution_count": null,
   "metadata": {
    "ExecuteTime": {
     "end_time": "2019-11-29T09:13:39.134741Z",
     "start_time": "2019-11-29T09:13:39.119014Z"
    }
   },
   "outputs": [],
   "source": [
    "c"
   ]
  },
  {
   "cell_type": "code",
   "execution_count": null,
   "metadata": {
    "ExecuteTime": {
     "end_time": "2019-11-29T09:12:30.093321Z",
     "start_time": "2019-11-29T09:12:30.005048Z"
    }
   },
   "outputs": [],
   "source": [
    "a.join?"
   ]
  },
  {
   "cell_type": "code",
   "execution_count": null,
   "metadata": {
    "ExecuteTime": {
     "end_time": "2019-11-29T09:14:58.115871Z",
     "start_time": "2019-11-29T09:14:58.082986Z"
    }
   },
   "outputs": [],
   "source": [
    "c.join(a[a.a<10], on=\"lower\", rsuffix=\"_right\")"
   ]
  },
  {
   "cell_type": "code",
   "execution_count": null,
   "metadata": {
    "ExecuteTime": {
     "end_time": "2019-11-29T09:17:46.848350Z",
     "start_time": "2019-11-29T09:17:46.813999Z"
    }
   },
   "outputs": [],
   "source": [
    "titanic.head()"
   ]
  },
  {
   "cell_type": "code",
   "execution_count": null,
   "metadata": {
    "ExecuteTime": {
     "end_time": "2019-11-29T09:21:42.499752Z",
     "start_time": "2019-11-29T09:21:42.411866Z"
    }
   },
   "outputs": [],
   "source": [
    "titanic.replace(re.compile(r'\\s+\\(.*\\)'), '')"
   ]
  },
  {
   "cell_type": "code",
   "execution_count": 5,
   "metadata": {
    "ExecuteTime": {
     "end_time": "2019-11-29T09:22:03.702056Z",
     "start_time": "2019-11-29T09:22:03.602571Z"
    }
   },
   "outputs": [],
   "source": [
    "family_names = (titanic\n",
    "                .replace(re.compile(r'\\s+\\(.*\\)'), '')\n",
    "                .replace(re.compile(\"Mrs.\"), \"Mr.\"))[[\"Name\", \"Sex\"]]"
   ]
  },
  {
   "cell_type": "code",
   "execution_count": 6,
   "metadata": {},
   "outputs": [
    {
     "ename": "KeyError",
     "evalue": "'PassengerId'",
     "output_type": "error",
     "traceback": [
      "\u001b[1;31m---------------------------------------------------------------------------\u001b[0m",
      "\u001b[1;31mKeyError\u001b[0m                                  Traceback (most recent call last)",
      "\u001b[1;32m~\\Anaconda3\\lib\\site-packages\\pandas\\core\\indexes\\base.py\u001b[0m in \u001b[0;36mget_loc\u001b[1;34m(self, key, method, tolerance)\u001b[0m\n\u001b[0;32m   2656\u001b[0m             \u001b[1;32mtry\u001b[0m\u001b[1;33m:\u001b[0m\u001b[1;33m\u001b[0m\u001b[1;33m\u001b[0m\u001b[0m\n\u001b[1;32m-> 2657\u001b[1;33m                 \u001b[1;32mreturn\u001b[0m \u001b[0mself\u001b[0m\u001b[1;33m.\u001b[0m\u001b[0m_engine\u001b[0m\u001b[1;33m.\u001b[0m\u001b[0mget_loc\u001b[0m\u001b[1;33m(\u001b[0m\u001b[0mkey\u001b[0m\u001b[1;33m)\u001b[0m\u001b[1;33m\u001b[0m\u001b[1;33m\u001b[0m\u001b[0m\n\u001b[0m\u001b[0;32m   2658\u001b[0m             \u001b[1;32mexcept\u001b[0m \u001b[0mKeyError\u001b[0m\u001b[1;33m:\u001b[0m\u001b[1;33m\u001b[0m\u001b[1;33m\u001b[0m\u001b[0m\n",
      "\u001b[1;32mpandas/_libs/index.pyx\u001b[0m in \u001b[0;36mpandas._libs.index.IndexEngine.get_loc\u001b[1;34m()\u001b[0m\n",
      "\u001b[1;32mpandas/_libs/index.pyx\u001b[0m in \u001b[0;36mpandas._libs.index.IndexEngine.get_loc\u001b[1;34m()\u001b[0m\n",
      "\u001b[1;32mpandas/_libs/hashtable_class_helper.pxi\u001b[0m in \u001b[0;36mpandas._libs.hashtable.PyObjectHashTable.get_item\u001b[1;34m()\u001b[0m\n",
      "\u001b[1;32mpandas/_libs/hashtable_class_helper.pxi\u001b[0m in \u001b[0;36mpandas._libs.hashtable.PyObjectHashTable.get_item\u001b[1;34m()\u001b[0m\n",
      "\u001b[1;31mKeyError\u001b[0m: 'PassengerId'",
      "\nDuring handling of the above exception, another exception occurred:\n",
      "\u001b[1;31mKeyError\u001b[0m                                  Traceback (most recent call last)",
      "\u001b[1;32m<ipython-input-6-3fa885ba969f>\u001b[0m in \u001b[0;36m<module>\u001b[1;34m\u001b[0m\n\u001b[1;32m----> 1\u001b[1;33m \u001b[0mfamily_names\u001b[0m\u001b[1;33m[\u001b[0m\u001b[1;34m\"PassengerId\"\u001b[0m\u001b[1;33m]\u001b[0m\u001b[1;33m\u001b[0m\u001b[1;33m\u001b[0m\u001b[0m\n\u001b[0m",
      "\u001b[1;32m~\\Anaconda3\\lib\\site-packages\\pandas\\core\\frame.py\u001b[0m in \u001b[0;36m__getitem__\u001b[1;34m(self, key)\u001b[0m\n\u001b[0;32m   2925\u001b[0m             \u001b[1;32mif\u001b[0m \u001b[0mself\u001b[0m\u001b[1;33m.\u001b[0m\u001b[0mcolumns\u001b[0m\u001b[1;33m.\u001b[0m\u001b[0mnlevels\u001b[0m \u001b[1;33m>\u001b[0m \u001b[1;36m1\u001b[0m\u001b[1;33m:\u001b[0m\u001b[1;33m\u001b[0m\u001b[1;33m\u001b[0m\u001b[0m\n\u001b[0;32m   2926\u001b[0m                 \u001b[1;32mreturn\u001b[0m \u001b[0mself\u001b[0m\u001b[1;33m.\u001b[0m\u001b[0m_getitem_multilevel\u001b[0m\u001b[1;33m(\u001b[0m\u001b[0mkey\u001b[0m\u001b[1;33m)\u001b[0m\u001b[1;33m\u001b[0m\u001b[1;33m\u001b[0m\u001b[0m\n\u001b[1;32m-> 2927\u001b[1;33m             \u001b[0mindexer\u001b[0m \u001b[1;33m=\u001b[0m \u001b[0mself\u001b[0m\u001b[1;33m.\u001b[0m\u001b[0mcolumns\u001b[0m\u001b[1;33m.\u001b[0m\u001b[0mget_loc\u001b[0m\u001b[1;33m(\u001b[0m\u001b[0mkey\u001b[0m\u001b[1;33m)\u001b[0m\u001b[1;33m\u001b[0m\u001b[1;33m\u001b[0m\u001b[0m\n\u001b[0m\u001b[0;32m   2928\u001b[0m             \u001b[1;32mif\u001b[0m \u001b[0mis_integer\u001b[0m\u001b[1;33m(\u001b[0m\u001b[0mindexer\u001b[0m\u001b[1;33m)\u001b[0m\u001b[1;33m:\u001b[0m\u001b[1;33m\u001b[0m\u001b[1;33m\u001b[0m\u001b[0m\n\u001b[0;32m   2929\u001b[0m                 \u001b[0mindexer\u001b[0m \u001b[1;33m=\u001b[0m \u001b[1;33m[\u001b[0m\u001b[0mindexer\u001b[0m\u001b[1;33m]\u001b[0m\u001b[1;33m\u001b[0m\u001b[1;33m\u001b[0m\u001b[0m\n",
      "\u001b[1;32m~\\Anaconda3\\lib\\site-packages\\pandas\\core\\indexes\\base.py\u001b[0m in \u001b[0;36mget_loc\u001b[1;34m(self, key, method, tolerance)\u001b[0m\n\u001b[0;32m   2657\u001b[0m                 \u001b[1;32mreturn\u001b[0m \u001b[0mself\u001b[0m\u001b[1;33m.\u001b[0m\u001b[0m_engine\u001b[0m\u001b[1;33m.\u001b[0m\u001b[0mget_loc\u001b[0m\u001b[1;33m(\u001b[0m\u001b[0mkey\u001b[0m\u001b[1;33m)\u001b[0m\u001b[1;33m\u001b[0m\u001b[1;33m\u001b[0m\u001b[0m\n\u001b[0;32m   2658\u001b[0m             \u001b[1;32mexcept\u001b[0m \u001b[0mKeyError\u001b[0m\u001b[1;33m:\u001b[0m\u001b[1;33m\u001b[0m\u001b[1;33m\u001b[0m\u001b[0m\n\u001b[1;32m-> 2659\u001b[1;33m                 \u001b[1;32mreturn\u001b[0m \u001b[0mself\u001b[0m\u001b[1;33m.\u001b[0m\u001b[0m_engine\u001b[0m\u001b[1;33m.\u001b[0m\u001b[0mget_loc\u001b[0m\u001b[1;33m(\u001b[0m\u001b[0mself\u001b[0m\u001b[1;33m.\u001b[0m\u001b[0m_maybe_cast_indexer\u001b[0m\u001b[1;33m(\u001b[0m\u001b[0mkey\u001b[0m\u001b[1;33m)\u001b[0m\u001b[1;33m)\u001b[0m\u001b[1;33m\u001b[0m\u001b[1;33m\u001b[0m\u001b[0m\n\u001b[0m\u001b[0;32m   2660\u001b[0m         \u001b[0mindexer\u001b[0m \u001b[1;33m=\u001b[0m \u001b[0mself\u001b[0m\u001b[1;33m.\u001b[0m\u001b[0mget_indexer\u001b[0m\u001b[1;33m(\u001b[0m\u001b[1;33m[\u001b[0m\u001b[0mkey\u001b[0m\u001b[1;33m]\u001b[0m\u001b[1;33m,\u001b[0m \u001b[0mmethod\u001b[0m\u001b[1;33m=\u001b[0m\u001b[0mmethod\u001b[0m\u001b[1;33m,\u001b[0m \u001b[0mtolerance\u001b[0m\u001b[1;33m=\u001b[0m\u001b[0mtolerance\u001b[0m\u001b[1;33m)\u001b[0m\u001b[1;33m\u001b[0m\u001b[1;33m\u001b[0m\u001b[0m\n\u001b[0;32m   2661\u001b[0m         \u001b[1;32mif\u001b[0m \u001b[0mindexer\u001b[0m\u001b[1;33m.\u001b[0m\u001b[0mndim\u001b[0m \u001b[1;33m>\u001b[0m \u001b[1;36m1\u001b[0m \u001b[1;32mor\u001b[0m \u001b[0mindexer\u001b[0m\u001b[1;33m.\u001b[0m\u001b[0msize\u001b[0m \u001b[1;33m>\u001b[0m \u001b[1;36m1\u001b[0m\u001b[1;33m:\u001b[0m\u001b[1;33m\u001b[0m\u001b[1;33m\u001b[0m\u001b[0m\n",
      "\u001b[1;32mpandas/_libs/index.pyx\u001b[0m in \u001b[0;36mpandas._libs.index.IndexEngine.get_loc\u001b[1;34m()\u001b[0m\n",
      "\u001b[1;32mpandas/_libs/index.pyx\u001b[0m in \u001b[0;36mpandas._libs.index.IndexEngine.get_loc\u001b[1;34m()\u001b[0m\n",
      "\u001b[1;32mpandas/_libs/hashtable_class_helper.pxi\u001b[0m in \u001b[0;36mpandas._libs.hashtable.PyObjectHashTable.get_item\u001b[1;34m()\u001b[0m\n",
      "\u001b[1;32mpandas/_libs/hashtable_class_helper.pxi\u001b[0m in \u001b[0;36mpandas._libs.hashtable.PyObjectHashTable.get_item\u001b[1;34m()\u001b[0m\n",
      "\u001b[1;31mKeyError\u001b[0m: 'PassengerId'"
     ]
    }
   ],
   "source": [
    "family_names[\"PassengerId\"]"
   ]
  },
  {
   "cell_type": "code",
   "execution_count": null,
   "metadata": {
    "ExecuteTime": {
     "end_time": "2019-11-29T09:22:07.760239Z",
     "start_time": "2019-11-29T09:22:07.717188Z"
    }
   },
   "outputs": [],
   "source": [
    "titanic.head(5)"
   ]
  },
  {
   "cell_type": "code",
   "execution_count": null,
   "metadata": {
    "ExecuteTime": {
     "end_time": "2019-11-29T09:22:11.150129Z",
     "start_time": "2019-11-29T09:22:11.116768Z"
    }
   },
   "outputs": [],
   "source": [
    "family_names.head()"
   ]
  },
  {
   "cell_type": "code",
   "execution_count": 7,
   "metadata": {
    "ExecuteTime": {
     "end_time": "2019-11-29T09:23:45.614324Z",
     "start_time": "2019-11-29T09:23:45.599568Z"
    }
   },
   "outputs": [],
   "source": [
    "family_names = family_names[(family_names.Sex==\"female\") & family_names.Name.str.contains(\"Mr.\")]"
   ]
  },
  {
   "cell_type": "code",
   "execution_count": null,
   "metadata": {
    "ExecuteTime": {
     "end_time": "2019-11-29T09:23:47.412326Z",
     "start_time": "2019-11-29T09:23:47.394549Z"
    }
   },
   "outputs": [],
   "source": [
    "family_names.head()"
   ]
  },
  {
   "cell_type": "code",
   "execution_count": 8,
   "metadata": {
    "ExecuteTime": {
     "end_time": "2019-11-29T09:24:33.221038Z",
     "start_time": "2019-11-29T09:24:33.188739Z"
    }
   },
   "outputs": [
    {
     "data": {
      "text/html": [
       "<div>\n",
       "<style scoped>\n",
       "    .dataframe tbody tr th:only-of-type {\n",
       "        vertical-align: middle;\n",
       "    }\n",
       "\n",
       "    .dataframe tbody tr th {\n",
       "        vertical-align: top;\n",
       "    }\n",
       "\n",
       "    .dataframe thead th {\n",
       "        text-align: right;\n",
       "    }\n",
       "</style>\n",
       "<table border=\"1\" class=\"dataframe\">\n",
       "  <thead>\n",
       "    <tr style=\"text-align: right;\">\n",
       "      <th></th>\n",
       "      <th>PassengerId</th>\n",
       "      <th>Sex</th>\n",
       "    </tr>\n",
       "    <tr>\n",
       "      <th>Name</th>\n",
       "      <th></th>\n",
       "      <th></th>\n",
       "    </tr>\n",
       "  </thead>\n",
       "  <tbody>\n",
       "    <tr>\n",
       "      <th>Cumings, Mr. John Bradley</th>\n",
       "      <td>2</td>\n",
       "      <td>female</td>\n",
       "    </tr>\n",
       "    <tr>\n",
       "      <th>Futrelle, Mr. Jacques Heath</th>\n",
       "      <td>4</td>\n",
       "      <td>female</td>\n",
       "    </tr>\n",
       "    <tr>\n",
       "      <th>Johnson, Mr. Oscar W</th>\n",
       "      <td>9</td>\n",
       "      <td>female</td>\n",
       "    </tr>\n",
       "    <tr>\n",
       "      <th>Nasser, Mr. Nicholas</th>\n",
       "      <td>10</td>\n",
       "      <td>female</td>\n",
       "    </tr>\n",
       "    <tr>\n",
       "      <th>Hewlett, Mr.</th>\n",
       "      <td>16</td>\n",
       "      <td>female</td>\n",
       "    </tr>\n",
       "    <tr>\n",
       "      <th>Vander Planke, Mr. Julius</th>\n",
       "      <td>19</td>\n",
       "      <td>female</td>\n",
       "    </tr>\n",
       "    <tr>\n",
       "      <th>Masselmani, Mr. Fatima</th>\n",
       "      <td>20</td>\n",
       "      <td>female</td>\n",
       "    </tr>\n",
       "    <tr>\n",
       "      <th>Asplund, Mr. Carl Oscar</th>\n",
       "      <td>26</td>\n",
       "      <td>female</td>\n",
       "    </tr>\n",
       "    <tr>\n",
       "      <th>Spencer, Mr. William Augustus</th>\n",
       "      <td>32</td>\n",
       "      <td>female</td>\n",
       "    </tr>\n",
       "    <tr>\n",
       "      <th>Ahlin, Mr. Johan</th>\n",
       "      <td>41</td>\n",
       "      <td>female</td>\n",
       "    </tr>\n",
       "    <tr>\n",
       "      <th>Turpin, Mr. William John Robert</th>\n",
       "      <td>42</td>\n",
       "      <td>female</td>\n",
       "    </tr>\n",
       "    <tr>\n",
       "      <th>Arnold-Franchi, Mr. Josef</th>\n",
       "      <td>50</td>\n",
       "      <td>female</td>\n",
       "    </tr>\n",
       "    <tr>\n",
       "      <th>Harper, Mr. Henry Sleeper</th>\n",
       "      <td>53</td>\n",
       "      <td>female</td>\n",
       "    </tr>\n",
       "    <tr>\n",
       "      <th>Faunthorpe, Mr. Lizzie</th>\n",
       "      <td>54</td>\n",
       "      <td>female</td>\n",
       "    </tr>\n",
       "    <tr>\n",
       "      <th>Nye, Mr.</th>\n",
       "      <td>67</td>\n",
       "      <td>female</td>\n",
       "    </tr>\n",
       "    <tr>\n",
       "      <th>Backstrom, Mr. Karl Alfred</th>\n",
       "      <td>86</td>\n",
       "      <td>female</td>\n",
       "    </tr>\n",
       "    <tr>\n",
       "      <th>Doling, Mr. John T</th>\n",
       "      <td>99</td>\n",
       "      <td>female</td>\n",
       "    </tr>\n",
       "    <tr>\n",
       "      <th>Robins, Mr. Alexander A</th>\n",
       "      <td>133</td>\n",
       "      <td>female</td>\n",
       "    </tr>\n",
       "    <tr>\n",
       "      <th>Weisz, Mr. Leopold</th>\n",
       "      <td>134</td>\n",
       "      <td>female</td>\n",
       "    </tr>\n",
       "    <tr>\n",
       "      <th>Boulos, Mr. Joseph</th>\n",
       "      <td>141</td>\n",
       "      <td>female</td>\n",
       "    </tr>\n",
       "    <tr>\n",
       "      <th>Hakkarainen, Mr. Pekka Pietari</th>\n",
       "      <td>143</td>\n",
       "      <td>female</td>\n",
       "    </tr>\n",
       "    <tr>\n",
       "      <th>Pears, Mr. Thomas</th>\n",
       "      <td>152</td>\n",
       "      <td>female</td>\n",
       "    </tr>\n",
       "    <tr>\n",
       "      <th>Watt, Mr. James</th>\n",
       "      <td>162</td>\n",
       "      <td>female</td>\n",
       "    </tr>\n",
       "    <tr>\n",
       "      <th>Chibnall, Mr.</th>\n",
       "      <td>167</td>\n",
       "      <td>female</td>\n",
       "    </tr>\n",
       "    <tr>\n",
       "      <th>Skoog, Mr. William</th>\n",
       "      <td>168</td>\n",
       "      <td>female</td>\n",
       "    </tr>\n",
       "    <tr>\n",
       "      <th>O'Brien, Mr. Thomas</th>\n",
       "      <td>187</td>\n",
       "      <td>female</td>\n",
       "    </tr>\n",
       "    <tr>\n",
       "      <th>Pinsky, Mr.</th>\n",
       "      <td>191</td>\n",
       "      <td>female</td>\n",
       "    </tr>\n",
       "    <tr>\n",
       "      <th>Brown, Mr. James Joseph</th>\n",
       "      <td>195</td>\n",
       "      <td>female</td>\n",
       "    </tr>\n",
       "    <tr>\n",
       "      <th>Harris, Mr. Henry Birkhardt</th>\n",
       "      <td>231</td>\n",
       "      <td>female</td>\n",
       "    </tr>\n",
       "    <tr>\n",
       "      <th>Hamalainen, Mr. William</th>\n",
       "      <td>248</td>\n",
       "      <td>female</td>\n",
       "    </tr>\n",
       "    <tr>\n",
       "      <th>...</th>\n",
       "      <td>...</td>\n",
       "      <td>...</td>\n",
       "    </tr>\n",
       "    <tr>\n",
       "      <th>Douglas, Mr. Walter Donald</th>\n",
       "      <td>1131</td>\n",
       "      <td>female</td>\n",
       "    </tr>\n",
       "    <tr>\n",
       "      <th>Lindstrom, Mr. Carl Johan</th>\n",
       "      <td>1132</td>\n",
       "      <td>female</td>\n",
       "    </tr>\n",
       "    <tr>\n",
       "      <th>Christy, Mr.</th>\n",
       "      <td>1133</td>\n",
       "      <td>female</td>\n",
       "    </tr>\n",
       "    <tr>\n",
       "      <th>Karnes, Mr. J Frank</th>\n",
       "      <td>1138</td>\n",
       "      <td>female</td>\n",
       "    </tr>\n",
       "    <tr>\n",
       "      <th>Hold, Mr. Stephen</th>\n",
       "      <td>1140</td>\n",
       "      <td>female</td>\n",
       "    </tr>\n",
       "    <tr>\n",
       "      <th>Khalil, Mr. Betros\"</th>\n",
       "      <td>1141</td>\n",
       "      <td>female</td>\n",
       "    </tr>\n",
       "    <tr>\n",
       "      <th>Wells, Mr. Arthur Henry\"</th>\n",
       "      <td>1154</td>\n",
       "      <td>female</td>\n",
       "    </tr>\n",
       "    <tr>\n",
       "      <th>Clark, Mr. Walter Miller</th>\n",
       "      <td>1164</td>\n",
       "      <td>female</td>\n",
       "    </tr>\n",
       "    <tr>\n",
       "      <th>Crosby, Mr. Edward Gifford</th>\n",
       "      <td>1197</td>\n",
       "      <td>female</td>\n",
       "    </tr>\n",
       "    <tr>\n",
       "      <th>Hansen, Mr. Claus Peter</th>\n",
       "      <td>1201</td>\n",
       "      <td>female</td>\n",
       "    </tr>\n",
       "    <tr>\n",
       "      <th>White, Mr. John Stuart</th>\n",
       "      <td>1206</td>\n",
       "      <td>female</td>\n",
       "    </tr>\n",
       "    <tr>\n",
       "      <th>Davies, Mr. John Morgan</th>\n",
       "      <td>1222</td>\n",
       "      <td>female</td>\n",
       "    </tr>\n",
       "    <tr>\n",
       "      <th>Nakid, Mr. Said\"</th>\n",
       "      <td>1225</td>\n",
       "      <td>female</td>\n",
       "    </tr>\n",
       "    <tr>\n",
       "      <th>Cardeza, Mr. James Warburton Martinez</th>\n",
       "      <td>1235</td>\n",
       "      <td>female</td>\n",
       "    </tr>\n",
       "    <tr>\n",
       "      <th>Whabee, Mr. George Joseph</th>\n",
       "      <td>1239</td>\n",
       "      <td>female</td>\n",
       "    </tr>\n",
       "    <tr>\n",
       "      <th>Greenfield, Mr. Leo David</th>\n",
       "      <td>1242</td>\n",
       "      <td>female</td>\n",
       "    </tr>\n",
       "    <tr>\n",
       "      <th>Brown, Mr. John Murray</th>\n",
       "      <td>1248</td>\n",
       "      <td>female</td>\n",
       "    </tr>\n",
       "    <tr>\n",
       "      <th>Lindell, Mr. Edvard Bengtsson</th>\n",
       "      <td>1251</td>\n",
       "      <td>female</td>\n",
       "    </tr>\n",
       "    <tr>\n",
       "      <th>Mallet, Mr. Albert</th>\n",
       "      <td>1253</td>\n",
       "      <td>female</td>\n",
       "    </tr>\n",
       "    <tr>\n",
       "      <th>Ware, Mr. John James</th>\n",
       "      <td>1254</td>\n",
       "      <td>female</td>\n",
       "    </tr>\n",
       "    <tr>\n",
       "      <th>Harder, Mr. George Achilles</th>\n",
       "      <td>1256</td>\n",
       "      <td>female</td>\n",
       "    </tr>\n",
       "    <tr>\n",
       "      <th>Sage, Mr. John</th>\n",
       "      <td>1257</td>\n",
       "      <td>female</td>\n",
       "    </tr>\n",
       "    <tr>\n",
       "      <th>Gibson, Mr. Leonard</th>\n",
       "      <td>1260</td>\n",
       "      <td>female</td>\n",
       "    </tr>\n",
       "    <tr>\n",
       "      <th>Dodge, Mr. Washington</th>\n",
       "      <td>1266</td>\n",
       "      <td>female</td>\n",
       "    </tr>\n",
       "    <tr>\n",
       "      <th>Risien, Mr. Samuel</th>\n",
       "      <td>1274</td>\n",
       "      <td>female</td>\n",
       "    </tr>\n",
       "    <tr>\n",
       "      <th>McNamee, Mr. Neal</th>\n",
       "      <td>1275</td>\n",
       "      <td>female</td>\n",
       "    </tr>\n",
       "    <tr>\n",
       "      <th>Lines, Mr. Ernest H</th>\n",
       "      <td>1283</td>\n",
       "      <td>female</td>\n",
       "    </tr>\n",
       "    <tr>\n",
       "      <th>Smith, Mr. Lucien Philip</th>\n",
       "      <td>1287</td>\n",
       "      <td>female</td>\n",
       "    </tr>\n",
       "    <tr>\n",
       "      <th>Frolicher-Stehli, Mr. Maxmillian</th>\n",
       "      <td>1289</td>\n",
       "      <td>female</td>\n",
       "    </tr>\n",
       "    <tr>\n",
       "      <th>Minahan, Mr. William Edward</th>\n",
       "      <td>1303</td>\n",
       "      <td>female</td>\n",
       "    </tr>\n",
       "  </tbody>\n",
       "</table>\n",
       "<p>197 rows × 2 columns</p>\n",
       "</div>"
      ],
      "text/plain": [
       "                                       PassengerId     Sex\n",
       "Name                                                      \n",
       "Cumings, Mr. John Bradley                        2  female\n",
       "Futrelle, Mr. Jacques Heath                      4  female\n",
       "Johnson, Mr. Oscar W                             9  female\n",
       "Nasser, Mr. Nicholas                            10  female\n",
       "Hewlett, Mr.                                    16  female\n",
       "Vander Planke, Mr. Julius                       19  female\n",
       "Masselmani, Mr. Fatima                          20  female\n",
       "Asplund, Mr. Carl Oscar                         26  female\n",
       "Spencer, Mr. William Augustus                   32  female\n",
       "Ahlin, Mr. Johan                                41  female\n",
       "Turpin, Mr. William John Robert                 42  female\n",
       "Arnold-Franchi, Mr. Josef                       50  female\n",
       "Harper, Mr. Henry Sleeper                       53  female\n",
       "Faunthorpe, Mr. Lizzie                          54  female\n",
       "Nye, Mr.                                        67  female\n",
       "Backstrom, Mr. Karl Alfred                      86  female\n",
       "Doling, Mr. John T                              99  female\n",
       "Robins, Mr. Alexander A                        133  female\n",
       "Weisz, Mr. Leopold                             134  female\n",
       "Boulos, Mr. Joseph                             141  female\n",
       "Hakkarainen, Mr. Pekka Pietari                 143  female\n",
       "Pears, Mr. Thomas                              152  female\n",
       "Watt, Mr. James                                162  female\n",
       "Chibnall, Mr.                                  167  female\n",
       "Skoog, Mr. William                             168  female\n",
       "O'Brien, Mr. Thomas                            187  female\n",
       "Pinsky, Mr.                                    191  female\n",
       "Brown, Mr. James Joseph                        195  female\n",
       "Harris, Mr. Henry Birkhardt                    231  female\n",
       "Hamalainen, Mr. William                        248  female\n",
       "...                                            ...     ...\n",
       "Douglas, Mr. Walter Donald                    1131  female\n",
       "Lindstrom, Mr. Carl Johan                     1132  female\n",
       "Christy, Mr.                                  1133  female\n",
       "Karnes, Mr. J Frank                           1138  female\n",
       "Hold, Mr. Stephen                             1140  female\n",
       "Khalil, Mr. Betros\"                           1141  female\n",
       "Wells, Mr. Arthur Henry\"                      1154  female\n",
       "Clark, Mr. Walter Miller                      1164  female\n",
       "Crosby, Mr. Edward Gifford                    1197  female\n",
       "Hansen, Mr. Claus Peter                       1201  female\n",
       "White, Mr. John Stuart                        1206  female\n",
       "Davies, Mr. John Morgan                       1222  female\n",
       "Nakid, Mr. Said\"                              1225  female\n",
       "Cardeza, Mr. James Warburton Martinez         1235  female\n",
       "Whabee, Mr. George Joseph                     1239  female\n",
       "Greenfield, Mr. Leo David                     1242  female\n",
       "Brown, Mr. John Murray                        1248  female\n",
       "Lindell, Mr. Edvard Bengtsson                 1251  female\n",
       "Mallet, Mr. Albert                            1253  female\n",
       "Ware, Mr. John James                          1254  female\n",
       "Harder, Mr. George Achilles                   1256  female\n",
       "Sage, Mr. John                                1257  female\n",
       "Gibson, Mr. Leonard                           1260  female\n",
       "Dodge, Mr. Washington                         1266  female\n",
       "Risien, Mr. Samuel                            1274  female\n",
       "McNamee, Mr. Neal                             1275  female\n",
       "Lines, Mr. Ernest H                           1283  female\n",
       "Smith, Mr. Lucien Philip                      1287  female\n",
       "Frolicher-Stehli, Mr. Maxmillian              1289  female\n",
       "Minahan, Mr. William Edward                   1303  female\n",
       "\n",
       "[197 rows x 2 columns]"
      ]
     },
     "execution_count": 8,
     "metadata": {},
     "output_type": "execute_result"
    }
   ],
   "source": [
    "family_names.reset_index().set_index(\"Name\")#[\"PassengerId\"]"
   ]
  },
  {
   "cell_type": "code",
   "execution_count": 9,
   "metadata": {
    "ExecuteTime": {
     "end_time": "2019-11-29T09:25:38.129076Z",
     "start_time": "2019-11-29T09:25:38.110207Z"
    }
   },
   "outputs": [],
   "source": [
    "titanic = (titanic.join(family_names\n",
    "                        .reset_index()\n",
    "                        .set_index(\"Name\")[\"PassengerId\"],\n",
    "                        on=\"Name\", rsuffix=\"_Spouse\"))"
   ]
  },
  {
   "cell_type": "code",
   "execution_count": null,
   "metadata": {
    "ExecuteTime": {
     "end_time": "2019-11-29T09:25:40.982780Z",
     "start_time": "2019-11-29T09:25:40.940677Z"
    }
   },
   "outputs": [],
   "source": [
    "titanic.head(25)"
   ]
  },
  {
   "cell_type": "code",
   "execution_count": null,
   "metadata": {
    "ExecuteTime": {
     "end_time": "2019-11-29T09:27:47.417828Z",
     "start_time": "2019-11-29T09:27:47.387456Z"
    }
   },
   "outputs": [],
   "source": [
    "titanic.rename({\"PassengerId\":\"PassengerId_Spouse\"}, axis=1, inplace=True)"
   ]
  },
  {
   "cell_type": "code",
   "execution_count": null,
   "metadata": {
    "ExecuteTime": {
     "end_time": "2019-11-29T09:27:53.897957Z",
     "start_time": "2019-11-29T09:27:53.867239Z"
    }
   },
   "outputs": [],
   "source": [
    "titanic.head()"
   ]
  },
  {
   "cell_type": "code",
   "execution_count": null,
   "metadata": {
    "ExecuteTime": {
     "end_time": "2019-11-29T09:36:24.706582Z",
     "start_time": "2019-11-29T09:36:24.661797Z"
    }
   },
   "outputs": [],
   "source": [
    "?titanic.join"
   ]
  },
  {
   "cell_type": "code",
   "execution_count": null,
   "metadata": {
    "ExecuteTime": {
     "end_time": "2019-11-29T09:33:02.350426Z",
     "start_time": "2019-11-29T09:33:02.331439Z"
    }
   },
   "outputs": [],
   "source": [
    "titanic = titanic.join(titanic[[\"Name\", \"Age\"]],\n",
    "                       on=\"PassengerId_Spouse\", rsuffix=\"_Spouse\")"
   ]
  },
  {
   "cell_type": "code",
   "execution_count": null,
   "metadata": {
    "ExecuteTime": {
     "end_time": "2019-11-29T09:33:04.049800Z",
     "start_time": "2019-11-29T09:33:03.964400Z"
    }
   },
   "outputs": [],
   "source": [
    "titanic"
   ]
  },
  {
   "cell_type": "code",
   "execution_count": null,
   "metadata": {
    "ExecuteTime": {
     "end_time": "2019-11-29T09:39:37.820084Z",
     "start_time": "2019-11-29T09:39:37.777535Z"
    },
    "scrolled": false
   },
   "outputs": [],
   "source": [
    "(titanic[titanic.PassengerId_Spouse.notnull()]\n",
    " [[\"Pclass\", \"Name\", \"Age\", \"Name_Spouse\", \"Age_Spouse\"]])"
   ]
  },
  {
   "cell_type": "code",
   "execution_count": null,
   "metadata": {
    "ExecuteTime": {
     "end_time": "2019-11-29T09:41:07.910038Z",
     "start_time": "2019-11-29T09:41:07.890173Z"
    }
   },
   "outputs": [],
   "source": [
    "titanic.Pclass.value_counts()"
   ]
  },
  {
   "cell_type": "code",
   "execution_count": null,
   "metadata": {
    "ExecuteTime": {
     "end_time": "2019-11-29T09:40:19.131581Z",
     "start_time": "2019-11-29T09:40:19.116943Z"
    }
   },
   "outputs": [],
   "source": [
    "titanic[titanic.PassengerId_Spouse.notnull()].groupby(\"Pclass\").size()"
   ]
  },
  {
   "cell_type": "code",
   "execution_count": null,
   "metadata": {
    "ExecuteTime": {
     "end_time": "2019-11-29T09:43:45.295273Z",
     "start_time": "2019-11-29T09:43:45.284864Z"
    }
   },
   "outputs": [],
   "source": [
    "titanic.Age - titanic.Age_Spouse"
   ]
  },
  {
   "cell_type": "code",
   "execution_count": null,
   "metadata": {
    "ExecuteTime": {
     "end_time": "2019-11-29T09:42:25.274993Z",
     "start_time": "2019-11-29T09:42:25.236617Z"
    }
   },
   "outputs": [],
   "source": [
    "(titanic.Age - titanic.Age_Spouse).groupby(titanic.Pclass).agg([\"min\", \"max\", \"mean\", \"std\", \"count\"])"
   ]
  },
  {
   "cell_type": "code",
   "execution_count": null,
   "metadata": {
    "ExecuteTime": {
     "end_time": "2019-11-29T09:45:06.092796Z",
     "start_time": "2019-11-29T09:45:06.082132Z"
    }
   },
   "outputs": [],
   "source": [
    "titanic.loc[742]"
   ]
  },
  {
   "cell_type": "code",
   "execution_count": null,
   "metadata": {
    "ExecuteTime": {
     "end_time": "2019-11-29T09:47:47.431861Z",
     "start_time": "2019-11-29T09:47:47.416096Z"
    }
   },
   "outputs": [],
   "source": [
    "(titanic.Age - titanic.Age_Spouse).sort_values()"
   ]
  },
  {
   "cell_type": "code",
   "execution_count": null,
   "metadata": {
    "ExecuteTime": {
     "end_time": "2019-11-19T12:21:57.324066Z",
     "start_time": "2019-11-19T12:21:57.316031Z"
    }
   },
   "outputs": [],
   "source": [
    "FTS_COLS = titanic.columns[1:-3].tolist()\n",
    "FTS_COLS.remove(\"Cabin\")"
   ]
  },
  {
   "cell_type": "code",
   "execution_count": null,
   "metadata": {
    "ExecuteTime": {
     "end_time": "2019-11-19T12:21:57.505802Z",
     "start_time": "2019-11-19T12:21:57.480633Z"
    }
   },
   "outputs": [],
   "source": [
    "titanic.info()"
   ]
  },
  {
   "cell_type": "code",
   "execution_count": null,
   "metadata": {
    "ExecuteTime": {
     "end_time": "2019-11-19T12:21:59.449213Z",
     "start_time": "2019-11-19T12:21:59.436105Z"
    }
   },
   "outputs": [],
   "source": [
    "titanic[FTS_COLS].isnull().any(axis=1).sum()"
   ]
  },
  {
   "cell_type": "code",
   "execution_count": null,
   "metadata": {
    "ExecuteTime": {
     "end_time": "2019-11-19T12:22:08.079905Z",
     "start_time": "2019-11-19T12:22:08.056634Z"
    }
   },
   "outputs": [],
   "source": [
    "titanic[(titanic.Age - titanic.Age_Spouse)<0][[\"Pclass\", \"Name\", \"Age\", \"Name_Spouse\", \"Age_Spouse\"]]"
   ]
  },
  {
   "cell_type": "code",
   "execution_count": null,
   "metadata": {},
   "outputs": [],
   "source": []
  }
 ],
 "metadata": {
  "@webio": {
   "lastCommId": null,
   "lastKernelId": null
  },
  "kernelspec": {
   "display_name": "Python 3",
   "language": "python",
   "name": "python3"
  },
  "language_info": {
   "codemirror_mode": {
    "name": "ipython",
    "version": 3
   },
   "file_extension": ".py",
   "mimetype": "text/x-python",
   "name": "python",
   "nbconvert_exporter": "python",
   "pygments_lexer": "ipython3",
   "version": "3.7.3"
  }
 },
 "nbformat": 4,
 "nbformat_minor": 2
}
