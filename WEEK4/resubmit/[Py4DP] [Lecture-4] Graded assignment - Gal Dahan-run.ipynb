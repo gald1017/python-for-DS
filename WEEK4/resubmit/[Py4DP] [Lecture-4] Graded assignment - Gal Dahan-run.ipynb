{
 "cells": [
  {
   "cell_type": "markdown",
   "metadata": {
    "papermill": {
     "duration": 0.012741,
     "end_time": "2020-11-27T00:02:40.124207",
     "exception": false,
     "start_time": "2020-11-27T00:02:40.111466",
     "status": "completed"
    },
    "tags": []
   },
   "source": [
    "# Notes\n",
    "\n",
    "This assignment is devoted to `pandas`. It covers indexing and filtering, and some `groupby` and `join` operations. The assignment roughly corresponds to Week 4 and the beginning of Week 5 of the course.\n",
    "\n",
    "The main dataset you'll be using is [Titanic](https://www.kaggle.com/c/titanic). Please, note, that you must not rely on any specific location for the dataset, hence, any code like\n",
    "\n",
    "```python\n",
    "titanic_train = pd.read_csv(\"<location>/train.csv\")\n",
    "```\n",
    "\n",
    "will fail and your notebook won't be validated and graded. Inputs to the functions are described explicitly in each case, and that's the only thing you can rely on."
   ]
  },
  {
   "cell_type": "code",
   "execution_count": 1,
   "metadata": {
    "ExecuteTime": {
     "end_time": "2019-12-12T07:42:25.600794Z",
     "start_time": "2019-12-12T07:42:25.049149Z"
    },
    "execution": {
     "iopub.execute_input": "2020-11-27T00:02:40.148850Z",
     "iopub.status.busy": "2020-11-27T00:02:40.148528Z",
     "iopub.status.idle": "2020-11-27T00:02:40.389666Z",
     "shell.execute_reply": "2020-11-27T00:02:40.389281Z"
    },
    "papermill": {
     "duration": 0.255251,
     "end_time": "2020-11-27T00:02:40.389760",
     "exception": false,
     "start_time": "2020-11-27T00:02:40.134509",
     "status": "completed"
    },
    "scrolled": true,
    "tags": []
   },
   "outputs": [
    {
     "name": "stdout",
     "output_type": "stream",
     "text": [
      "Populating the interactive namespace from numpy and matplotlib\n"
     ]
    }
   ],
   "source": [
    "%pylab inline\n",
    "plt.style.use(\"bmh\")"
   ]
  },
  {
   "cell_type": "code",
   "execution_count": 2,
   "metadata": {
    "ExecuteTime": {
     "end_time": "2019-12-12T07:42:25.610011Z",
     "start_time": "2019-12-12T07:42:25.605263Z"
    },
    "execution": {
     "iopub.execute_input": "2020-11-27T00:02:40.414573Z",
     "iopub.status.busy": "2020-11-27T00:02:40.414216Z",
     "iopub.status.idle": "2020-11-27T00:02:40.416376Z",
     "shell.execute_reply": "2020-11-27T00:02:40.415962Z"
    },
    "papermill": {
     "duration": 0.015759,
     "end_time": "2020-11-27T00:02:40.416459",
     "exception": false,
     "start_time": "2020-11-27T00:02:40.400700",
     "status": "completed"
    },
    "tags": []
   },
   "outputs": [],
   "source": [
    "plt.rcParams[\"figure.figsize\"] = (6,6)"
   ]
  },
  {
   "cell_type": "code",
   "execution_count": 3,
   "metadata": {
    "ExecuteTime": {
     "end_time": "2019-12-12T07:42:26.294404Z",
     "start_time": "2019-12-12T07:42:25.864539Z"
    },
    "execution": {
     "iopub.execute_input": "2020-11-27T00:02:40.442499Z",
     "iopub.status.busy": "2020-11-27T00:02:40.442165Z",
     "iopub.status.idle": "2020-11-27T00:02:40.566217Z",
     "shell.execute_reply": "2020-11-27T00:02:40.565824Z"
    },
    "papermill": {
     "duration": 0.137976,
     "end_time": "2020-11-27T00:02:40.566302",
     "exception": false,
     "start_time": "2020-11-27T00:02:40.428326",
     "status": "completed"
    },
    "scrolled": true,
    "tags": []
   },
   "outputs": [],
   "source": [
    "import numpy as np\n",
    "import pandas as pd"
   ]
  },
  {
   "cell_type": "code",
   "execution_count": 4,
   "metadata": {
    "ExecuteTime": {
     "end_time": "2019-12-12T07:42:27.329433Z",
     "start_time": "2019-12-12T07:42:27.323905Z"
    },
    "execution": {
     "iopub.execute_input": "2020-11-27T00:02:40.591784Z",
     "iopub.status.busy": "2020-11-27T00:02:40.591373Z",
     "iopub.status.idle": "2020-11-27T00:02:40.593207Z",
     "shell.execute_reply": "2020-11-27T00:02:40.592937Z"
    },
    "papermill": {
     "duration": 0.015764,
     "end_time": "2020-11-27T00:02:40.593281",
     "exception": false,
     "start_time": "2020-11-27T00:02:40.577517",
     "status": "completed"
    },
    "tags": [
     "parameters"
    ]
   },
   "outputs": [],
   "source": [
    "STUDENT = \"Gal Dahan and Evyater Shpitzer\"\n",
    "ASSIGNMENT = 4\n",
    "TEST = False"
   ]
  },
  {
   "cell_type": "code",
   "execution_count": 5,
   "metadata": {
    "execution": {
     "iopub.execute_input": "2020-11-27T00:02:40.618769Z",
     "iopub.status.busy": "2020-11-27T00:02:40.618301Z",
     "iopub.status.idle": "2020-11-27T00:02:40.620241Z",
     "shell.execute_reply": "2020-11-27T00:02:40.619911Z"
    },
    "papermill": {
     "duration": 0.015572,
     "end_time": "2020-11-27T00:02:40.620314",
     "exception": false,
     "start_time": "2020-11-27T00:02:40.604742",
     "status": "completed"
    },
    "tags": [
     "injected-parameters"
    ]
   },
   "outputs": [],
   "source": [
    "# Parameters\n",
    "TEST = True\n"
   ]
  },
  {
   "cell_type": "code",
   "execution_count": 6,
   "metadata": {
    "ExecuteTime": {
     "end_time": "2019-12-12T07:42:27.767876Z",
     "start_time": "2019-12-12T07:42:27.757195Z"
    },
    "execution": {
     "iopub.execute_input": "2020-11-27T00:02:40.646545Z",
     "iopub.status.busy": "2020-11-27T00:02:40.646197Z",
     "iopub.status.idle": "2020-11-27T00:02:40.656413Z",
     "shell.execute_reply": "2020-11-27T00:02:40.656129Z"
    },
    "papermill": {
     "duration": 0.02472,
     "end_time": "2020-11-27T00:02:40.656493",
     "exception": false,
     "start_time": "2020-11-27T00:02:40.631773",
     "status": "completed"
    },
    "tags": []
   },
   "outputs": [],
   "source": [
    "if TEST:\n",
    "    import solutions\n",
    "    total_grade = 0\n",
    "    MAX_POINTS = 16"
   ]
  },
  {
   "cell_type": "markdown",
   "metadata": {
    "papermill": {
     "duration": 0.011783,
     "end_time": "2020-11-27T00:02:40.679715",
     "exception": false,
     "start_time": "2020-11-27T00:02:40.667932",
     "status": "completed"
    },
    "tags": []
   },
   "source": [
    "# Indexing and filtering"
   ]
  },
  {
   "cell_type": "markdown",
   "metadata": {
    "papermill": {
     "duration": 0.012275,
     "end_time": "2020-11-27T00:02:40.704706",
     "exception": false,
     "start_time": "2020-11-27T00:02:40.692431",
     "status": "completed"
    },
    "tags": []
   },
   "source": [
    "### 1. Fixing age (1 point).\n",
    "\n",
    "There are several known mistakes in the Titanic dataset.\n",
    "\n",
    "Namely, [Julia Florence Siegel](https://www.encyclopedia-titanica.org/titanic-survivor/julia-florence-cavendish.html) (Mrs. Tyrell William Cavendish) is mistakenly marked as being 76 years old (the age she actually died, but many years after Titanic).\n",
    "\n",
    "You must **replace the corresponding age value in the dataframe with her actual age at the time** (25) and return the dataset. Input is **indexed** with `PassengerId` and is a **concatenation of train and test sets**. You must return a copy of the input dataframe, and not perform replacement in the original dataframe. Structure and indexing must be the same as in input."
   ]
  },
  {
   "cell_type": "code",
   "execution_count": 7,
   "metadata": {
    "ExecuteTime": {
     "end_time": "2019-12-12T07:45:36.685351Z",
     "start_time": "2019-12-12T07:45:36.675825Z"
    },
    "execution": {
     "iopub.execute_input": "2020-11-27T00:02:40.733502Z",
     "iopub.status.busy": "2020-11-27T00:02:40.733154Z",
     "iopub.status.idle": "2020-11-27T00:02:40.735084Z",
     "shell.execute_reply": "2020-11-27T00:02:40.734736Z"
    },
    "papermill": {
     "duration": 0.01792,
     "end_time": "2020-11-27T00:02:40.735158",
     "exception": false,
     "start_time": "2020-11-27T00:02:40.717238",
     "status": "completed"
    },
    "tags": []
   },
   "outputs": [],
   "source": [
    "if not TEST:\n",
    "    df1 = pd.read_csv(\"train.csv\")\n",
    "    df2 = pd.read_csv(\"test.csv\")\n",
    "    df = pd.concat([df1,df2], sort=False)\n",
    "    \n",
    "def fix_age(df):\n",
    "    \"\"\"Fix age for Julia Florence Siegel.\"\"\"\n",
    "    b = df.copy()\n",
    "    b.loc[b[\"Name\"].str.contains(\"Julia Florence Siegel\"),\"Age\"] = 25\n",
    "    return b\n",
    "    "
   ]
  },
  {
   "cell_type": "code",
   "execution_count": 8,
   "metadata": {
    "execution": {
     "iopub.execute_input": "2020-11-27T00:02:40.762514Z",
     "iopub.status.busy": "2020-11-27T00:02:40.762160Z",
     "iopub.status.idle": "2020-11-27T00:02:40.768020Z",
     "shell.execute_reply": "2020-11-27T00:02:40.767684Z"
    },
    "papermill": {
     "duration": 0.020737,
     "end_time": "2020-11-27T00:02:40.768096",
     "exception": false,
     "start_time": "2020-11-27T00:02:40.747359",
     "status": "completed"
    },
    "tags": []
   },
   "outputs": [
    {
     "name": "stdout",
     "output_type": "stream",
     "text": [
      "\u001b[1m\u001b[32m[Gal Dahan and Evyater Shpitzer] [Problem 1] correct!\u001b[0m\n"
     ]
    }
   ],
   "source": [
    "PROBLEM_ID = 1\n",
    "\n",
    "if TEST:\n",
    "    total_grade += solutions.check(STUDENT, PROBLEM_ID, fix_age)"
   ]
  },
  {
   "cell_type": "markdown",
   "metadata": {
    "papermill": {
     "duration": 0.012907,
     "end_time": "2020-11-27T00:02:40.793596",
     "exception": false,
     "start_time": "2020-11-27T00:02:40.780689",
     "status": "completed"
    },
    "tags": []
   },
   "source": [
    "### 2. Embarkment port distribution (1 point).\n",
    "\n",
    "You must find the value counts for embarkment port (`Embarked` column) for the passengers, who travelled in 3-d class, were male and between 20 and 30 years old (both inclusive). No need to treat missing values separately.\n",
    "\n",
    "Input is **indexed** with `PassengerId` and is a **concatenation of train and test sets**. You must return **series**, indexed with values from `Embarked`, according to `.value_counts()` method semantics:\n",
    "\n",
    "```\n",
    "S    <number of passengers in 3-d class, embarked at S, 20<=Age<=30>\n",
    "C    <...>\n",
    "Q    <...>\n",
    "Name: Embarked, dtype: int64\n",
    "```"
   ]
  },
  {
   "cell_type": "code",
   "execution_count": 3,
   "metadata": {
    "ExecuteTime": {
     "end_time": "2019-12-12T08:09:19.622389Z",
     "start_time": "2019-12-12T08:09:19.617595Z"
    },
    "execution": {
     "iopub.execute_input": "2020-11-27T00:02:40.823636Z",
     "iopub.status.busy": "2020-11-27T00:02:40.823258Z",
     "iopub.status.idle": "2020-11-27T00:02:40.825085Z",
     "shell.execute_reply": "2020-11-27T00:02:40.824734Z"
    },
    "papermill": {
     "duration": 0.018153,
     "end_time": "2020-11-27T00:02:40.825158",
     "exception": false,
     "start_time": "2020-11-27T00:02:40.807005",
     "status": "completed"
    },
    "tags": []
   },
   "outputs": [],
   "source": [
    "def embarked_stats(df):\n",
    "    \"\"\"Calculate embarkment port statistics.\"\"\"\n",
    "    return df[(df[\"Age\"]<=30) & (df[\"Age\"]>=20) & (df[\"Pclass\"]>=3) & (df[\"Sex\"]>='male')][\"Embarked\"].value_counts()"
   ]
  },
  {
   "cell_type": "code",
   "execution_count": 2,
   "metadata": {
    "ExecuteTime": {
     "end_time": "2019-11-13T23:25:50.106449Z",
     "start_time": "2019-11-13T23:25:50.095086Z"
    },
    "execution": {
     "iopub.execute_input": "2020-11-27T00:02:40.854080Z",
     "iopub.status.busy": "2020-11-27T00:02:40.853705Z",
     "iopub.status.idle": "2020-11-27T00:02:40.860818Z",
     "shell.execute_reply": "2020-11-27T00:02:40.860484Z"
    },
    "papermill": {
     "duration": 0.023224,
     "end_time": "2020-11-27T00:02:40.860897",
     "exception": false,
     "start_time": "2020-11-27T00:02:40.837673",
     "status": "completed"
    },
    "tags": []
   },
   "outputs": [
    {
     "ename": "NameError",
     "evalue": "name 'TEST' is not defined",
     "output_type": "error",
     "traceback": [
      "\u001b[1;31m---------------------------------------------------------------------------\u001b[0m",
      "\u001b[1;31mNameError\u001b[0m                                 Traceback (most recent call last)",
      "\u001b[1;32m<ipython-input-2-edae59ff30f2>\u001b[0m in \u001b[0;36m<module>\u001b[1;34m\u001b[0m\n\u001b[0;32m      1\u001b[0m \u001b[0mPROBLEM_ID\u001b[0m \u001b[1;33m=\u001b[0m \u001b[1;36m2\u001b[0m\u001b[1;33m\u001b[0m\u001b[1;33m\u001b[0m\u001b[0m\n\u001b[0;32m      2\u001b[0m \u001b[1;33m\u001b[0m\u001b[0m\n\u001b[1;32m----> 3\u001b[1;33m \u001b[1;32mif\u001b[0m \u001b[0mTEST\u001b[0m\u001b[1;33m:\u001b[0m\u001b[1;33m\u001b[0m\u001b[1;33m\u001b[0m\u001b[0m\n\u001b[0m\u001b[0;32m      4\u001b[0m     \u001b[0mtotal_grade\u001b[0m \u001b[1;33m+=\u001b[0m \u001b[0msolutions\u001b[0m\u001b[1;33m.\u001b[0m\u001b[0mcheck\u001b[0m\u001b[1;33m(\u001b[0m\u001b[0mSTUDENT\u001b[0m\u001b[1;33m,\u001b[0m \u001b[0mPROBLEM_ID\u001b[0m\u001b[1;33m,\u001b[0m \u001b[0membarked_stats\u001b[0m\u001b[1;33m)\u001b[0m\u001b[1;33m\u001b[0m\u001b[1;33m\u001b[0m\u001b[0m\n",
      "\u001b[1;31mNameError\u001b[0m: name 'TEST' is not defined"
     ]
    }
   ],
   "source": [
    "PROBLEM_ID = 2\n",
    "\n",
    "if TEST:\n",
    "    total_grade += solutions.check(STUDENT, PROBLEM_ID, embarked_stats)"
   ]
  },
  {
   "cell_type": "markdown",
   "metadata": {
    "papermill": {
     "duration": 0.01292,
     "end_time": "2020-11-27T00:02:40.885712",
     "exception": false,
     "start_time": "2020-11-27T00:02:40.872792",
     "status": "completed"
    },
    "tags": []
   },
   "source": [
    "### 3. Fill missing age values (1 point).\n",
    "\n",
    "Some age values are missing in the Titanic dataset. You need to calculate average age over all passengers, and fill missing age values in `Age` column.\n",
    "\n",
    "Input is **indexed** with `PassengerId` and is a **concatenation of train and test sets**. Output must be a **new** dataframe with the same structure, but without missing values in `Age` column."
   ]
  },
  {
   "cell_type": "code",
   "execution_count": 11,
   "metadata": {
    "ExecuteTime": {
     "end_time": "2019-11-25T08:26:56.688466Z",
     "start_time": "2019-11-25T08:26:56.684610Z"
    },
    "execution": {
     "iopub.execute_input": "2020-11-27T00:02:40.916183Z",
     "iopub.status.busy": "2020-11-27T00:02:40.915827Z",
     "iopub.status.idle": "2020-11-27T00:02:40.917875Z",
     "shell.execute_reply": "2020-11-27T00:02:40.917426Z"
    },
    "papermill": {
     "duration": 0.018406,
     "end_time": "2020-11-27T00:02:40.917956",
     "exception": false,
     "start_time": "2020-11-27T00:02:40.899550",
     "status": "completed"
    },
    "tags": []
   },
   "outputs": [],
   "source": [
    "def fix_age(df):\n",
    "    \"\"\"Fix missing age values.\"\"\"\n",
    "    new_df = df.copy()   \n",
    "    new_df.fillna({'Age':new_df.Age.mean()}, inplace=True)\n",
    "    \n",
    "    return new_df"
   ]
  },
  {
   "cell_type": "code",
   "execution_count": 12,
   "metadata": {
    "ExecuteTime": {
     "end_time": "2019-11-25T10:03:45.213116Z",
     "start_time": "2019-11-25T10:03:45.199909Z"
    },
    "execution": {
     "iopub.execute_input": "2020-11-27T00:02:40.947752Z",
     "iopub.status.busy": "2020-11-27T00:02:40.947381Z",
     "iopub.status.idle": "2020-11-27T00:02:40.950251Z",
     "shell.execute_reply": "2020-11-27T00:02:40.950505Z"
    },
    "papermill": {
     "duration": 0.019714,
     "end_time": "2020-11-27T00:02:40.950597",
     "exception": false,
     "start_time": "2020-11-27T00:02:40.930883",
     "status": "completed"
    },
    "tags": []
   },
   "outputs": [
    {
     "name": "stdout",
     "output_type": "stream",
     "text": [
      "\u001b[1m\u001b[33m[Gal Dahan and Evyater Shpitzer] [Problem 3] failed: \u001b[0m\n",
      "exception is 'NoneType' object has no attribute 'index'\n",
      "\n"
     ]
    }
   ],
   "source": [
    "PROBLEM_ID = 3\n",
    "\n",
    "if TEST:\n",
    "    total_grade += solutions.check(STUDENT, PROBLEM_ID, fix_age)"
   ]
  },
  {
   "cell_type": "markdown",
   "metadata": {
    "papermill": {
     "duration": 0.013652,
     "end_time": "2020-11-27T00:02:40.976913",
     "exception": false,
     "start_time": "2020-11-27T00:02:40.963261",
     "status": "completed"
    },
    "tags": []
   },
   "source": [
    "### 4. Child travelling alone (1 point).\n",
    "\n",
    "You must find a child (`Age<10`) on-board, who was travelling without siblings or parents and find a name of her nursemaid.\n",
    "\n",
    "Input is **indexed** with `PassengerId` and is a **concatenation of train and test sets**. Output must be a **tuple** of two strings, collected from `Name` column, with one being child's name and second being nursemaid's name. It's known, that there's **only one child** like this."
   ]
  },
  {
   "cell_type": "code",
   "execution_count": 13,
   "metadata": {
    "ExecuteTime": {
     "end_time": "2019-11-13T23:15:11.348224Z",
     "start_time": "2019-11-13T23:15:11.334569Z"
    },
    "execution": {
     "iopub.execute_input": "2020-11-27T00:02:41.007550Z",
     "iopub.status.busy": "2020-11-27T00:02:41.007184Z",
     "iopub.status.idle": "2020-11-27T00:02:41.009034Z",
     "shell.execute_reply": "2020-11-27T00:02:41.008675Z"
    },
    "papermill": {
     "duration": 0.01862,
     "end_time": "2020-11-27T00:02:41.009115",
     "exception": false,
     "start_time": "2020-11-27T00:02:40.990495",
     "status": "completed"
    },
    "tags": []
   },
   "outputs": [],
   "source": [
    "def get_nursemaid(df):\n",
    "    a = list(df[df.Ticket == df[(df.Age <= 10) & (df.SibSp == 0) & (df.Parch == 0)].Ticket.iloc[0]].Name)\n",
    "    return tuple((a[1], a[0]))"
   ]
  },
  {
   "cell_type": "code",
   "execution_count": 14,
   "metadata": {
    "ExecuteTime": {
     "end_time": "2019-11-13T23:25:50.106449Z",
     "start_time": "2019-11-13T23:25:50.095086Z"
    },
    "execution": {
     "iopub.execute_input": "2020-11-27T00:02:41.040351Z",
     "iopub.status.busy": "2020-11-27T00:02:41.040020Z",
     "iopub.status.idle": "2020-11-27T00:02:41.045116Z",
     "shell.execute_reply": "2020-11-27T00:02:41.044782Z"
    },
    "papermill": {
     "duration": 0.02271,
     "end_time": "2020-11-27T00:02:41.045192",
     "exception": false,
     "start_time": "2020-11-27T00:02:41.022482",
     "status": "completed"
    },
    "tags": []
   },
   "outputs": [
    {
     "name": "stdout",
     "output_type": "stream",
     "text": [
      "\u001b[1m\u001b[31m[Gal Dahan and Evyater Shpitzer] [Problem 4] incorrect: \u001b[0m\n",
      "correct = ('Emanuel, Miss. Virginia Ethel', 'Dowdell, Miss. Elizabeth')\n",
      "submitted = ('Dowdell, Miss. Elizabeth', 'Emanuel, Miss. Virginia Ethel')\n",
      "\n"
     ]
    }
   ],
   "source": [
    "PROBLEM_ID = 4\n",
    "\n",
    "if TEST:\n",
    "    total_grade += solutions.check(STUDENT, PROBLEM_ID, get_nursemaid)"
   ]
  },
  {
   "cell_type": "markdown",
   "metadata": {
    "papermill": {
     "duration": 0.013758,
     "end_time": "2020-11-27T00:02:41.071691",
     "exception": false,
     "start_time": "2020-11-27T00:02:41.057933",
     "status": "completed"
    },
    "tags": []
   },
   "source": [
    "### 5. Port with the most children embarked (1 point).\n",
    "\n",
    "You must find, which port had the largest percentage of children (`Age<10`) embarked, i.e. number of children divided by total number of passengers embarked.\n",
    "\n",
    "Input is **indexed** with `PassengerId` and is a **concatenation of train and test sets**. Output must be a **single string** with port letter."
   ]
  },
  {
   "cell_type": "code",
   "execution_count": 15,
   "metadata": {
    "ExecuteTime": {
     "end_time": "2019-11-25T08:26:56.688466Z",
     "start_time": "2019-11-25T08:26:56.684610Z"
    },
    "execution": {
     "iopub.execute_input": "2020-11-27T00:02:41.103722Z",
     "iopub.status.busy": "2020-11-27T00:02:41.103324Z",
     "iopub.status.idle": "2020-11-27T00:02:41.105149Z",
     "shell.execute_reply": "2020-11-27T00:02:41.104804Z"
    },
    "papermill": {
     "duration": 0.019467,
     "end_time": "2020-11-27T00:02:41.105227",
     "exception": false,
     "start_time": "2020-11-27T00:02:41.085760",
     "status": "completed"
    },
    "tags": []
   },
   "outputs": [],
   "source": [
    "def get_port(df):\n",
    "    \"\"\"Get port with the most children embarked.\"\"\"\n",
    "    num_of_embarked = dict(df.Embarked.value_counts())\n",
    "    num_of_childrens_embarked = dict(df[df.Age < 10].Embarked.value_counts())\n",
    "    max_mean = 0\n",
    "    port = \"Q\"\n",
    "    \n",
    "    for k in num_of_embarked.keys():\n",
    "        if max_mean < num_of_childrens_embarked[k] / num_of_embarked[k]:\n",
    "            max_mean = num_of_childrens_embarked[k] / num_of_embarked[k]\n",
    "            port = k\n",
    "            \n",
    "    return port\n",
    "    "
   ]
  },
  {
   "cell_type": "code",
   "execution_count": 16,
   "metadata": {
    "ExecuteTime": {
     "end_time": "2019-11-25T08:27:11.838257Z",
     "start_time": "2019-11-25T08:27:11.720830Z"
    },
    "execution": {
     "iopub.execute_input": "2020-11-27T00:02:41.137928Z",
     "iopub.status.busy": "2020-11-27T00:02:41.135619Z",
     "iopub.status.idle": "2020-11-27T00:02:41.141089Z",
     "shell.execute_reply": "2020-11-27T00:02:41.140756Z"
    },
    "papermill": {
     "duration": 0.022855,
     "end_time": "2020-11-27T00:02:41.141164",
     "exception": false,
     "start_time": "2020-11-27T00:02:41.118309",
     "status": "completed"
    },
    "tags": []
   },
   "outputs": [
    {
     "name": "stdout",
     "output_type": "stream",
     "text": [
      "\u001b[1m\u001b[32m[Gal Dahan and Evyater Shpitzer] [Problem 5] correct!\u001b[0m\n"
     ]
    }
   ],
   "source": [
    "PROBLEM_ID = 5\n",
    "\n",
    "if TEST:\n",
    "    total_grade += solutions.check(STUDENT, PROBLEM_ID, get_port)"
   ]
  },
  {
   "cell_type": "markdown",
   "metadata": {
    "papermill": {
     "duration": 0.01174,
     "end_time": "2020-11-27T00:02:41.164805",
     "exception": false,
     "start_time": "2020-11-27T00:02:41.153065",
     "status": "completed"
    },
    "tags": []
   },
   "source": [
    "### 6. Passengers per ticket (2 points).\n",
    "\n",
    "Calculate average and maximum number of passengers per ticket.\n",
    "\n",
    "Input is **indexed** with `PassengerId` and is a **concatenation of train and test sets**. Output must be a **tuple** of two values - average and mean number of passengers per ticket."
   ]
  },
  {
   "cell_type": "code",
   "execution_count": 17,
   "metadata": {
    "ExecuteTime": {
     "end_time": "2019-11-25T08:26:56.688466Z",
     "start_time": "2019-11-25T08:26:56.684610Z"
    },
    "execution": {
     "iopub.execute_input": "2020-11-27T00:02:41.193378Z",
     "iopub.status.busy": "2020-11-27T00:02:41.193054Z",
     "iopub.status.idle": "2020-11-27T00:02:41.194953Z",
     "shell.execute_reply": "2020-11-27T00:02:41.194625Z"
    },
    "papermill": {
     "duration": 0.017964,
     "end_time": "2020-11-27T00:02:41.195026",
     "exception": false,
     "start_time": "2020-11-27T00:02:41.177062",
     "status": "completed"
    },
    "tags": []
   },
   "outputs": [],
   "source": [
    "def get_ticket_stats(df):\n",
    "    \"\"\"Calculate passenger per ticket statistics.\"\"\"\n",
    "    g=df.groupby('Ticket') \n",
    "    b = [g.get_group(x).shape[0] for x in g.groups]\n",
    "    return ( np.average(b), np.max(b))"
   ]
  },
  {
   "cell_type": "code",
   "execution_count": 18,
   "metadata": {
    "ExecuteTime": {
     "end_time": "2019-11-25T08:27:11.838257Z",
     "start_time": "2019-11-25T08:27:11.720830Z"
    },
    "execution": {
     "iopub.execute_input": "2020-11-27T00:02:41.224196Z",
     "iopub.status.busy": "2020-11-27T00:02:41.223836Z",
     "iopub.status.idle": "2020-11-27T00:02:41.364856Z",
     "shell.execute_reply": "2020-11-27T00:02:41.365111Z"
    },
    "papermill": {
     "duration": 0.157522,
     "end_time": "2020-11-27T00:02:41.365209",
     "exception": false,
     "start_time": "2020-11-27T00:02:41.207687",
     "status": "completed"
    },
    "tags": []
   },
   "outputs": [
    {
     "name": "stdout",
     "output_type": "stream",
     "text": [
      "\u001b[1m\u001b[31m[Gal Dahan and Evyater Shpitzer] [Problem 6] incorrect: \u001b[0m\n",
      "correct = (1.4090419806243273, 11)\n",
      "submitted = (11, 1.4090419806243273)\n",
      "\n"
     ]
    }
   ],
   "source": [
    "PROBLEM_ID = 6\n",
    "\n",
    "if TEST:\n",
    "    total_grade += solutions.check(STUDENT, PROBLEM_ID, get_ticket_stats)"
   ]
  },
  {
   "cell_type": "markdown",
   "metadata": {
    "papermill": {
     "duration": 0.011895,
     "end_time": "2020-11-27T00:02:41.389064",
     "exception": false,
     "start_time": "2020-11-27T00:02:41.377169",
     "status": "completed"
    },
    "tags": []
   },
   "source": [
    "### 7. Fare per passenger (3 points).\n",
    "\n",
    "For each individual ticket, you must calculate **fare per person for that ticket**, and then calculate averages for each class. Note, that you will need to apply `groupby` and you may consider using `.first()` of resulting `DataFrameGroupBy`. Also, caferully consider, in which order calculations are performed.\n",
    "\n",
    "Input is **indexed** with `PassengerId` and is a **concatenation of train and test sets**. Output must be `pd.Series` with three elements, indexed by class:\n",
    "\n",
    "```\n",
    "1    <average per person fare in class 1>\n",
    "2    <...>\n",
    "3    <...>\n",
    "Name: Pclass, dtype: float64\n",
    "```"
   ]
  },
  {
   "cell_type": "code",
   "execution_count": 19,
   "metadata": {
    "ExecuteTime": {
     "end_time": "2019-11-25T08:26:56.688466Z",
     "start_time": "2019-11-25T08:26:56.684610Z"
    },
    "execution": {
     "iopub.execute_input": "2020-11-27T00:02:41.421292Z",
     "iopub.status.busy": "2020-11-27T00:02:41.420938Z",
     "iopub.status.idle": "2020-11-27T00:02:41.422751Z",
     "shell.execute_reply": "2020-11-27T00:02:41.422418Z"
    },
    "papermill": {
     "duration": 0.021431,
     "end_time": "2020-11-27T00:02:41.422831",
     "exception": false,
     "start_time": "2020-11-27T00:02:41.401400",
     "status": "completed"
    },
    "tags": []
   },
   "outputs": [],
   "source": [
    "def get_fare_per_pass(df):\n",
    "    \"\"\"Calculate fare per passenger for different classes.\"\"\"\n",
    "    t = df[df[\"Pclass\"] == 1].groupby(\"Ticket\").first().reset_index()\n",
    "    c = df[df[\"Pclass\"] == 1].Ticket.value_counts().reset_index(name=\"count\")\n",
    "    c[\"Ticket\"] = c[\"index\"]\n",
    "    y=c.merge(t)\n",
    "    y['avg'] = y['Fare'] / y['count']\n",
    "    \n",
    "    t = df[df[\"Pclass\"] == 2].groupby(\"Ticket\").first().reset_index()\n",
    "    c = df[df[\"Pclass\"] == 2].Ticket.value_counts().reset_index(name=\"count\")\n",
    "    c[\"Ticket\"] = c[\"index\"]\n",
    "    y2=c.merge(t)\n",
    "    y2['avg'] = y2['Fare'] / y2['count']\n",
    "    \n",
    "    t = df[df[\"Pclass\"] == 3].groupby(\"Ticket\").first().reset_index()\n",
    "    c = df[df[\"Pclass\"] == 3].Ticket.value_counts().reset_index(name=\"count\")\n",
    "    c[\"Ticket\"] = c[\"index\"]\n",
    "    y3=c.merge(t)\n",
    "    y3['avg'] = y3['Fare'] / y3['count']\n",
    "    \n",
    "    f = pd.Series(data=[y.avg.mean(), y2.avg.mean(), y3.avg.mean()], index=[1,2,3],name=\"Pclass\")\n",
    "    return f \n",
    "    \n",
    "    \n",
    "    "
   ]
  },
  {
   "cell_type": "code",
   "execution_count": 20,
   "metadata": {
    "ExecuteTime": {
     "end_time": "2019-11-25T08:27:11.838257Z",
     "start_time": "2019-11-25T08:27:11.720830Z"
    },
    "execution": {
     "iopub.execute_input": "2020-11-27T00:02:41.452819Z",
     "iopub.status.busy": "2020-11-27T00:02:41.451514Z",
     "iopub.status.idle": "2020-11-27T00:02:41.534424Z",
     "shell.execute_reply": "2020-11-27T00:02:41.534085Z"
    },
    "papermill": {
     "duration": 0.099078,
     "end_time": "2020-11-27T00:02:41.534521",
     "exception": false,
     "start_time": "2020-11-27T00:02:41.435443",
     "status": "completed"
    },
    "tags": []
   },
   "outputs": [
    {
     "name": "stdout",
     "output_type": "stream",
     "text": [
      "\u001b[1m\u001b[31m[Gal Dahan and Evyater Shpitzer] [Problem 7] incorrect: \u001b[0m\n",
      "correct = [Pclass\n",
      "1    33.910500\n",
      "2    11.411010\n",
      "3     7.328701\n",
      "Name: fare_per_pass, dtype: float64, Pclass\n",
      "1    33.91050\n",
      "2    11.41101\n",
      "3     7.32959\n",
      "Name: fare_per_pass, dtype: float64, Pclass\n",
      "1    33.910500\n",
      "2    11.411010\n",
      "3     7.329146\n",
      "Name: fare_per_pass, dtype: float64]\n",
      "submitted = 1    31.670478\n",
      "2    11.814324\n",
      "3     7.700893\n",
      "Name: Pclass, dtype: float64\n",
      "\n"
     ]
    }
   ],
   "source": [
    "PROBLEM_ID = 7\n",
    "\n",
    "if TEST:\n",
    "    total_grade += solutions.check(STUDENT, PROBLEM_ID, get_fare_per_pass)"
   ]
  },
  {
   "cell_type": "markdown",
   "metadata": {
    "papermill": {
     "duration": 0.012453,
     "end_time": "2020-11-27T00:02:41.560050",
     "exception": false,
     "start_time": "2020-11-27T00:02:41.547597",
     "status": "completed"
    },
    "tags": []
   },
   "source": [
    "### 8. Fill missing age values (3 points).\n",
    "\n",
    "In problem 3 you filled missing age values with global average over all passengers. Now, you need to fill them **according to class and sex**. For example, for a female passenger from 2d class, missing age value must be filled with average age of females in 2d class.\n",
    "\n",
    "In this problem, you may need joins and `.apply()`, although there are several ways to get the same result.\n",
    "\n",
    "Input is **indexed** with `PassengerId` and is a **concatenation of train and test sets**. Output must be a **new** dataframe with the same structure as input, but without missing values in `Age` column."
   ]
  },
  {
   "cell_type": "code",
   "execution_count": 21,
   "metadata": {
    "ExecuteTime": {
     "end_time": "2019-11-25T08:26:56.688466Z",
     "start_time": "2019-11-25T08:26:56.684610Z"
    },
    "execution": {
     "iopub.execute_input": "2020-11-27T00:02:41.591390Z",
     "iopub.status.busy": "2020-11-27T00:02:41.591059Z",
     "iopub.status.idle": "2020-11-27T00:02:41.593128Z",
     "shell.execute_reply": "2020-11-27T00:02:41.592789Z"
    },
    "papermill": {
     "duration": 0.019784,
     "end_time": "2020-11-27T00:02:41.593207",
     "exception": false,
     "start_time": "2020-11-27T00:02:41.573423",
     "status": "completed"
    },
    "tags": []
   },
   "outputs": [],
   "source": [
    "def fix_age_groupped(df):\n",
    "    \"\"\"Fill missing age values.\"\"\"\n",
    "    a=[]\n",
    "    female_avg = dict(df[df.Sex == 'female'].groupby('Pclass').Age.mean())\n",
    "    male_avg = dict(df[df.Sex == 'male'].groupby('Pclass').Age.mean())\n",
    "    \n",
    "    for i  in female_avg.keys():\n",
    "        a.append(df.loc[(df.Sex == 'female') & (df.Pclass == i)].fillna({'Age':female_avg[i]})) \n",
    "        \n",
    "    for i  in male_avg.keys():\n",
    "        a.append(df.loc[(df.Sex == 'male') & (df.Pclass == i)].fillna({'Age':male_avg[i]})) \n",
    "    \n",
    "    return pd.concat(a) # this will reorder the df. if its not ok we should think in diffrent way\n",
    "\n",
    "    \n",
    "    \n",
    "    "
   ]
  },
  {
   "cell_type": "code",
   "execution_count": 22,
   "metadata": {
    "ExecuteTime": {
     "end_time": "2019-11-25T08:27:11.838257Z",
     "start_time": "2019-11-25T08:27:11.720830Z"
    },
    "execution": {
     "iopub.execute_input": "2020-11-27T00:02:41.622411Z",
     "iopub.status.busy": "2020-11-27T00:02:41.622066Z",
     "iopub.status.idle": "2020-11-27T00:02:41.639560Z",
     "shell.execute_reply": "2020-11-27T00:02:41.639158Z"
    },
    "papermill": {
     "duration": 0.033802,
     "end_time": "2020-11-27T00:02:41.639671",
     "exception": false,
     "start_time": "2020-11-27T00:02:41.605869",
     "status": "completed"
    },
    "tags": []
   },
   "outputs": [
    {
     "name": "stdout",
     "output_type": "stream",
     "text": [
      "\u001b[1m\u001b[32m[Gal Dahan and Evyater Shpitzer] [Problem 8] correct!\u001b[0m\n"
     ]
    }
   ],
   "source": [
    "PROBLEM_ID = 8\n",
    "\n",
    "if TEST:\n",
    "    total_grade += solutions.check(STUDENT, PROBLEM_ID, fix_age_groupped)"
   ]
  },
  {
   "cell_type": "markdown",
   "metadata": {
    "papermill": {
     "duration": 0.012827,
     "end_time": "2020-11-27T00:02:41.665340",
     "exception": false,
     "start_time": "2020-11-27T00:02:41.652513",
     "status": "completed"
    },
    "tags": []
   },
   "source": [
    "### 9. Finding couples (3 points).\n",
    "\n",
    "Based on the code from Lecture 5, build a dataframe of couples. Filter it by survival status: select those couples, in which only one of spouses survived or none of two. Built survival statistics by class, i.e. ratio of the number couples with partial survival or couples which died together, divided by total number of couples in class. If the survival status of one or both of spouses is not known, it must be considered as `0`.\n",
    "\n",
    "Input is **indexed** with `PassengerId` and is a **concatenation of train and test sets**. Output must be `Series` with three elements indexed by values from `Pclass` column (see P7 as a reference)."
   ]
  },
  {
   "cell_type": "code",
   "execution_count": 23,
   "metadata": {
    "ExecuteTime": {
     "end_time": "2019-11-25T08:26:56.688466Z",
     "start_time": "2019-11-25T08:26:56.684610Z"
    },
    "execution": {
     "iopub.execute_input": "2020-11-27T00:02:41.699158Z",
     "iopub.status.busy": "2020-11-27T00:02:41.698814Z",
     "iopub.status.idle": "2020-11-27T00:02:41.700579Z",
     "shell.execute_reply": "2020-11-27T00:02:41.700245Z"
    },
    "papermill": {
     "duration": 0.02154,
     "end_time": "2020-11-27T00:02:41.700652",
     "exception": false,
     "start_time": "2020-11-27T00:02:41.679112",
     "status": "completed"
    },
    "tags": []
   },
   "outputs": [],
   "source": [
    "def find_couples(df):\n",
    "    \"\"\"Fill missing age values.\"\"\"\n",
    "    new_df = df.copy()\n",
    "    new_df.fillna({'Survived':0}, inplace=True) \n",
    "    \n",
    "    family_names = (new_df\n",
    "                     .replace(re.compile(r'\\s+\\(.*\\)'), '')\n",
    "                     .replace(re.compile(\"Mrs.\"), \"Mr.\"))[[\"Name\", \"Sex\"]]\n",
    "\n",
    "    family_names = family_names[(family_names.Sex==\"female\") & family_names.Name.str.contains(\"Mr.\")]\n",
    "\n",
    "    family_names.reset_index().set_index(\"Name\")#[\"PassengerId\"]\n",
    "\n",
    "    new_df = (new_df.join(family_names\n",
    "                            .reset_index()\n",
    "                            .set_index(\"Name\")[\"PassengerId\"],\n",
    "                             on=\"Name\", rsuffix=\"_Spouse\"))\n",
    "\n",
    "    new_df.rename({\"PassengerId\":\"PassengerId_Spouse\"}, axis=1, inplace=True)\n",
    "\n",
    "    new_df = new_df.join(new_df[[\"Name\", \"Age\",\"Survived\"]],\n",
    "                            on=\"PassengerId_Spouse\", rsuffix=\"_Spouse\")\n",
    "\n",
    "\n",
    "    couple_df = new_df[new_df.PassengerId_Spouse.notnull()]\n",
    "    \n",
    "    couple_df[\"Sum_of_Survived\"] = couple_df.Survived_Spouse + couple_df.Survived \n",
    "    \n",
    "    res = couple_df[couple_df.Sum_of_Survived < 2].groupby(\"Pclass\")[\"Sum_of_Survived\"].count() / couple_df.groupby(\"Pclass\")[\"Sum_of_Survived\"].count()\n",
    "    \n",
    "    \n",
    "    \n",
    "    return res"
   ]
  },
  {
   "cell_type": "code",
   "execution_count": 24,
   "metadata": {
    "ExecuteTime": {
     "end_time": "2019-11-25T08:27:11.838257Z",
     "start_time": "2019-11-25T08:27:11.720830Z"
    },
    "execution": {
     "iopub.execute_input": "2020-11-27T00:02:41.730611Z",
     "iopub.status.busy": "2020-11-27T00:02:41.730269Z",
     "iopub.status.idle": "2020-11-27T00:02:41.868396Z",
     "shell.execute_reply": "2020-11-27T00:02:41.868691Z"
    },
    "papermill": {
     "duration": 0.155173,
     "end_time": "2020-11-27T00:02:41.868797",
     "exception": false,
     "start_time": "2020-11-27T00:02:41.713624",
     "status": "completed"
    },
    "tags": []
   },
   "outputs": [
    {
     "name": "stdout",
     "output_type": "stream",
     "text": [
      "\u001b[1m\u001b[32m[Gal Dahan and Evyater Shpitzer] [Problem 9] correct!\u001b[0m\n"
     ]
    },
    {
     "name": "stderr",
     "output_type": "stream",
     "text": [
      "<ipython-input-23-d175daa0b87b>:27: SettingWithCopyWarning: \n",
      "A value is trying to be set on a copy of a slice from a DataFrame.\n",
      "Try using .loc[row_indexer,col_indexer] = value instead\n",
      "\n",
      "See the caveats in the documentation: https://pandas.pydata.org/pandas-docs/stable/user_guide/indexing.html#returning-a-view-versus-a-copy\n",
      "  couple_df[\"Sum_of_Survived\"] = couple_df.Survived_Spouse + couple_df.Survived\n",
      "<ipython-input-23-d175daa0b87b>:27: SettingWithCopyWarning: \n",
      "A value is trying to be set on a copy of a slice from a DataFrame.\n",
      "Try using .loc[row_indexer,col_indexer] = value instead\n",
      "\n",
      "See the caveats in the documentation: https://pandas.pydata.org/pandas-docs/stable/user_guide/indexing.html#returning-a-view-versus-a-copy\n",
      "  couple_df[\"Sum_of_Survived\"] = couple_df.Survived_Spouse + couple_df.Survived\n",
      "<ipython-input-23-d175daa0b87b>:27: SettingWithCopyWarning: \n",
      "A value is trying to be set on a copy of a slice from a DataFrame.\n",
      "Try using .loc[row_indexer,col_indexer] = value instead\n",
      "\n",
      "See the caveats in the documentation: https://pandas.pydata.org/pandas-docs/stable/user_guide/indexing.html#returning-a-view-versus-a-copy\n",
      "  couple_df[\"Sum_of_Survived\"] = couple_df.Survived_Spouse + couple_df.Survived\n"
     ]
    }
   ],
   "source": [
    "PROBLEM_ID = 9\n",
    "\n",
    "if TEST:\n",
    "    total_grade += solutions.check(STUDENT, PROBLEM_ID, find_couples)"
   ]
  },
  {
   "cell_type": "code",
   "execution_count": 25,
   "metadata": {
    "execution": {
     "iopub.execute_input": "2020-11-27T00:02:41.901635Z",
     "iopub.status.busy": "2020-11-27T00:02:41.901258Z",
     "iopub.status.idle": "2020-11-27T00:02:41.903500Z",
     "shell.execute_reply": "2020-11-27T00:02:41.903120Z"
    },
    "papermill": {
     "duration": 0.020004,
     "end_time": "2020-11-27T00:02:41.903588",
     "exception": false,
     "start_time": "2020-11-27T00:02:41.883584",
     "status": "completed"
    },
    "tags": []
   },
   "outputs": [
    {
     "name": "stdout",
     "output_type": "stream",
     "text": [
      "Gal Dahan and Evyater Shpitzer: 50\n"
     ]
    }
   ],
   "source": [
    "if TEST:\n",
    "    print(f\"{STUDENT}: {int(100 * total_grade / MAX_POINTS)}\")"
   ]
  }
 ],
 "metadata": {
  "@webio": {
   "lastCommId": null,
   "lastKernelId": null
  },
  "kernelspec": {
   "display_name": "Python 3",
   "language": "python",
   "name": "python3"
  },
  "language_info": {
   "codemirror_mode": {
    "name": "ipython",
    "version": 3
   },
   "file_extension": ".py",
   "mimetype": "text/x-python",
   "name": "python",
   "nbconvert_exporter": "python",
   "pygments_lexer": "ipython3",
   "version": "3.7.3"
  },
  "papermill": {
   "default_parameters": {},
   "duration": 2.797333,
   "end_time": "2020-11-27T00:02:42.225029",
   "environment_variables": {},
   "exception": null,
   "input_path": "[Py4DP] [Lecture-4] Graded assignment - Gal Dahan.ipynb",
   "output_path": "[Py4DP] [Lecture-4] Graded assignment - Gal Dahan-run.ipynb",
   "parameters": {
    "TEST": true
   },
   "start_time": "2020-11-27T00:02:39.427696",
   "version": "2.2.0"
  }
 },
 "nbformat": 4,
 "nbformat_minor": 2
}
