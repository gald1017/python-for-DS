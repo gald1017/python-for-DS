{
 "cells": [
  {
   "cell_type": "markdown",
   "metadata": {},
   "source": [
    "# `pandas`"
   ]
  },
  {
   "cell_type": "code",
   "execution_count": null,
   "metadata": {
    "ExecuteTime": {
     "end_time": "2019-11-22T07:53:11.415063Z",
     "start_time": "2019-11-22T07:53:10.028029Z"
    }
   },
   "outputs": [],
   "source": [
    "%pylab inline\n",
    "plt.style.use('ggplot')"
   ]
  },
  {
   "cell_type": "code",
   "execution_count": null,
   "metadata": {
    "ExecuteTime": {
     "end_time": "2019-11-22T07:53:12.254985Z",
     "start_time": "2019-11-22T07:53:11.421490Z"
    }
   },
   "outputs": [],
   "source": [
    "import numpy as np\n",
    "import pandas as pd"
   ]
  },
  {
   "cell_type": "markdown",
   "metadata": {},
   "source": [
    "## Creating `pd.Series`"
   ]
  },
  {
   "cell_type": "code",
   "execution_count": null,
   "metadata": {
    "ExecuteTime": {
     "end_time": "2019-11-19T15:05:09.482653Z",
     "start_time": "2019-11-19T15:05:09.469730Z"
    }
   },
   "outputs": [],
   "source": [
    "s = pd.Series(np.random.randn(10))\n",
    "s"
   ]
  },
  {
   "cell_type": "code",
   "execution_count": null,
   "metadata": {
    "ExecuteTime": {
     "end_time": "2019-11-19T15:05:09.772338Z",
     "start_time": "2019-11-19T15:05:09.766254Z"
    }
   },
   "outputs": [],
   "source": [
    "s = pd.Series(np.random.randn(10), name=\"random_series\")\n",
    "s"
   ]
  },
  {
   "cell_type": "code",
   "execution_count": null,
   "metadata": {
    "ExecuteTime": {
     "end_time": "2019-11-19T15:05:10.343318Z",
     "start_time": "2019-11-19T15:05:10.335682Z"
    }
   },
   "outputs": [],
   "source": [
    "s = pd.Series(np.random.randn(10), name=\"random_series\",\n",
    "              index=np.random.randint(23, size=(10,)))\n",
    "s"
   ]
  },
  {
   "cell_type": "code",
   "execution_count": null,
   "metadata": {
    "ExecuteTime": {
     "end_time": "2019-11-19T15:05:17.076291Z",
     "start_time": "2019-11-19T15:05:17.069972Z"
    }
   },
   "outputs": [],
   "source": [
    "s.index"
   ]
  },
  {
   "cell_type": "code",
   "execution_count": null,
   "metadata": {
    "ExecuteTime": {
     "end_time": "2019-11-19T15:05:18.174541Z",
     "start_time": "2019-11-19T15:05:18.163393Z"
    }
   },
   "outputs": [],
   "source": [
    "s = pd.Series(np.random.randn(10), name=\"random_series\",\n",
    "              index=pd.Index(np.random.randint(23, size=(10,)), name=\"main_index\"))\n",
    "s"
   ]
  },
  {
   "cell_type": "code",
   "execution_count": null,
   "metadata": {
    "ExecuteTime": {
     "end_time": "2019-11-19T15:05:18.945224Z",
     "start_time": "2019-11-19T15:05:18.940316Z"
    }
   },
   "outputs": [],
   "source": [
    "s.index"
   ]
  },
  {
   "cell_type": "code",
   "execution_count": null,
   "metadata": {
    "ExecuteTime": {
     "end_time": "2019-11-19T15:05:46.711083Z",
     "start_time": "2019-11-19T15:05:46.705183Z"
    }
   },
   "outputs": [],
   "source": [
    "s"
   ]
  },
  {
   "cell_type": "code",
   "execution_count": null,
   "metadata": {
    "ExecuteTime": {
     "end_time": "2019-11-19T15:06:17.367185Z",
     "start_time": "2019-11-19T15:06:17.361589Z"
    }
   },
   "outputs": [],
   "source": [
    "# Index with a single occurence\n",
    "s[8]"
   ]
  },
  {
   "cell_type": "code",
   "execution_count": null,
   "metadata": {
    "ExecuteTime": {
     "end_time": "2019-11-19T15:05:58.663675Z",
     "start_time": "2019-11-19T15:05:58.652969Z"
    }
   },
   "outputs": [],
   "source": [
    "# Index with multiple occurences\n",
    "s[[21]]"
   ]
  },
  {
   "cell_type": "code",
   "execution_count": null,
   "metadata": {
    "ExecuteTime": {
     "end_time": "2019-11-15T09:58:56.701905Z",
     "start_time": "2019-11-15T09:58:56.689244Z"
    }
   },
   "outputs": [],
   "source": [
    "s"
   ]
  },
  {
   "cell_type": "code",
   "execution_count": null,
   "metadata": {
    "ExecuteTime": {
     "end_time": "2019-11-19T11:42:33.817075Z",
     "start_time": "2019-11-19T11:42:33.811659Z"
    }
   },
   "outputs": [],
   "source": [
    "s[21].iloc[0]"
   ]
  },
  {
   "cell_type": "code",
   "execution_count": null,
   "metadata": {
    "ExecuteTime": {
     "end_time": "2019-11-19T11:42:36.817153Z",
     "start_time": "2019-11-19T11:42:36.807907Z"
    }
   },
   "outputs": [],
   "source": [
    "s.iloc[1]"
   ]
  },
  {
   "cell_type": "code",
   "execution_count": null,
   "metadata": {
    "ExecuteTime": {
     "end_time": "2019-11-19T15:06:23.475802Z",
     "start_time": "2019-11-19T15:06:23.468674Z"
    }
   },
   "outputs": [],
   "source": [
    "s = pd.Series({'a':3, 'c':6, 'b':2}, name=\"dict_series\")\n",
    "s"
   ]
  },
  {
   "cell_type": "code",
   "execution_count": null,
   "metadata": {
    "ExecuteTime": {
     "end_time": "2019-11-19T15:06:24.218271Z",
     "start_time": "2019-11-19T15:06:24.211736Z"
    }
   },
   "outputs": [],
   "source": [
    "s.index"
   ]
  },
  {
   "cell_type": "code",
   "execution_count": null,
   "metadata": {
    "ExecuteTime": {
     "end_time": "2019-11-19T15:06:34.961986Z",
     "start_time": "2019-11-19T15:06:34.955500Z"
    }
   },
   "outputs": [],
   "source": [
    "s[0], s['a'], s.iloc[0]"
   ]
  },
  {
   "cell_type": "code",
   "execution_count": null,
   "metadata": {
    "ExecuteTime": {
     "end_time": "2019-11-19T15:06:54.726530Z",
     "start_time": "2019-11-19T15:06:54.717933Z"
    }
   },
   "outputs": [],
   "source": [
    "s['a':'c']"
   ]
  },
  {
   "cell_type": "code",
   "execution_count": null,
   "metadata": {
    "ExecuteTime": {
     "end_time": "2019-11-19T15:07:21.537916Z",
     "start_time": "2019-11-19T15:07:21.530524Z"
    }
   },
   "outputs": [],
   "source": [
    "s.sort_index()['a':'c']"
   ]
  },
  {
   "cell_type": "markdown",
   "metadata": {},
   "source": [
    "## Creating `pd.DataFrame`"
   ]
  },
  {
   "cell_type": "code",
   "execution_count": null,
   "metadata": {
    "ExecuteTime": {
     "end_time": "2019-11-22T07:54:03.180978Z",
     "start_time": "2019-11-22T07:54:03.130828Z"
    }
   },
   "outputs": [],
   "source": [
    "df = pd.DataFrame(np.arange(20).reshape((5,4)))\n",
    "df"
   ]
  },
  {
   "cell_type": "code",
   "execution_count": null,
   "metadata": {
    "ExecuteTime": {
     "end_time": "2019-11-22T07:54:31.335197Z",
     "start_time": "2019-11-22T07:54:31.306095Z"
    }
   },
   "outputs": [],
   "source": [
    "df = pd.DataFrame(np.arange(20).reshape((5,4)),\n",
    "                  columns=['a', 'b', 'c', 'd'])\n",
    "df"
   ]
  },
  {
   "cell_type": "code",
   "execution_count": null,
   "metadata": {
    "ExecuteTime": {
     "end_time": "2019-11-22T07:55:46.552379Z",
     "start_time": "2019-11-22T07:55:46.509107Z"
    }
   },
   "outputs": [],
   "source": [
    "import string\n",
    "df = pd.DataFrame(np.arange(20).reshape((5,4)),\n",
    "                  columns=['a', 'b', 'c', 'd'],\n",
    "                  index=np.random.choice(list(string.ascii_lowercase), 5, replace=False))\n",
    "df"
   ]
  },
  {
   "cell_type": "code",
   "execution_count": null,
   "metadata": {
    "ExecuteTime": {
     "end_time": "2019-11-22T07:55:54.264361Z",
     "start_time": "2019-11-22T07:55:54.254992Z"
    }
   },
   "outputs": [],
   "source": [
    "df.columns"
   ]
  },
  {
   "cell_type": "code",
   "execution_count": null,
   "metadata": {
    "ExecuteTime": {
     "end_time": "2019-11-22T07:55:56.694203Z",
     "start_time": "2019-11-22T07:55:56.683866Z"
    }
   },
   "outputs": [],
   "source": [
    "df.index"
   ]
  },
  {
   "cell_type": "code",
   "execution_count": null,
   "metadata": {
    "ExecuteTime": {
     "end_time": "2019-11-22T07:56:49.372488Z",
     "start_time": "2019-11-22T07:56:49.358509Z"
    }
   },
   "outputs": [],
   "source": [
    "df['a']"
   ]
  },
  {
   "cell_type": "code",
   "execution_count": null,
   "metadata": {
    "ExecuteTime": {
     "end_time": "2019-11-22T07:57:52.516581Z",
     "start_time": "2019-11-22T07:57:52.213871Z"
    }
   },
   "outputs": [],
   "source": [
    "df['z']"
   ]
  },
  {
   "cell_type": "code",
   "execution_count": null,
   "metadata": {
    "ExecuteTime": {
     "end_time": "2019-11-22T07:57:21.115919Z",
     "start_time": "2019-11-22T07:57:21.098043Z"
    }
   },
   "outputs": [],
   "source": [
    "type(df['a'])"
   ]
  },
  {
   "cell_type": "code",
   "execution_count": null,
   "metadata": {
    "ExecuteTime": {
     "end_time": "2019-11-22T08:01:24.735218Z",
     "start_time": "2019-11-22T08:01:24.711759Z"
    }
   },
   "outputs": [],
   "source": [
    "df.loc[[\"z\"]]"
   ]
  },
  {
   "cell_type": "code",
   "execution_count": null,
   "metadata": {
    "ExecuteTime": {
     "end_time": "2019-11-22T08:04:03.933775Z",
     "start_time": "2019-11-22T08:04:03.905374Z"
    }
   },
   "outputs": [],
   "source": [
    "df.loc[[\"z\"]]"
   ]
  },
  {
   "cell_type": "code",
   "execution_count": null,
   "metadata": {
    "ExecuteTime": {
     "end_time": "2019-11-22T08:03:36.486369Z",
     "start_time": "2019-11-22T08:03:36.469718Z"
    }
   },
   "outputs": [],
   "source": [
    "df.loc[[\"z\"], \"a\"]"
   ]
  },
  {
   "cell_type": "code",
   "execution_count": null,
   "metadata": {
    "ExecuteTime": {
     "end_time": "2019-11-22T07:58:49.375855Z",
     "start_time": "2019-11-22T07:58:49.343536Z"
    }
   },
   "outputs": [],
   "source": [
    "df"
   ]
  },
  {
   "cell_type": "code",
   "execution_count": null,
   "metadata": {
    "ExecuteTime": {
     "end_time": "2019-11-22T08:06:34.523422Z",
     "start_time": "2019-11-22T08:06:34.506120Z"
    }
   },
   "outputs": [],
   "source": [
    "# Indexing with right and wrong order\n",
    "\n",
    "# df['n':'r']\n",
    "df['r':'z']"
   ]
  },
  {
   "cell_type": "markdown",
   "metadata": {},
   "source": [
    "# Indexing `pd.Series`"
   ]
  },
  {
   "cell_type": "code",
   "execution_count": null,
   "metadata": {
    "ExecuteTime": {
     "end_time": "2019-11-22T08:09:09.974881Z",
     "start_time": "2019-11-22T08:09:09.955607Z"
    }
   },
   "outputs": [],
   "source": [
    "N_ELEMS = 20\n",
    "s = pd.Series(np.random.randint(20, size=(N_ELEMS,)),\n",
    "              index=list(string.ascii_lowercase)[:N_ELEMS],\n",
    "              name='randint_series')\n",
    "s"
   ]
  },
  {
   "cell_type": "markdown",
   "metadata": {},
   "source": [
    "## Indexing with `[]`"
   ]
  },
  {
   "cell_type": "code",
   "execution_count": null,
   "metadata": {
    "ExecuteTime": {
     "end_time": "2019-11-19T11:45:14.962117Z",
     "start_time": "2019-11-19T11:45:14.953765Z"
    }
   },
   "outputs": [],
   "source": [
    "s"
   ]
  },
  {
   "cell_type": "code",
   "execution_count": null,
   "metadata": {
    "ExecuteTime": {
     "end_time": "2019-11-22T08:09:30.535508Z",
     "start_time": "2019-11-22T08:09:30.526501Z"
    }
   },
   "outputs": [],
   "source": [
    "s['i'] # But there's a caveat: it may be series or just an element"
   ]
  },
  {
   "cell_type": "code",
   "execution_count": null,
   "metadata": {
    "ExecuteTime": {
     "end_time": "2019-11-22T08:09:32.520886Z",
     "start_time": "2019-11-22T08:09:32.508686Z"
    }
   },
   "outputs": [],
   "source": [
    "s[['i']]"
   ]
  },
  {
   "cell_type": "code",
   "execution_count": null,
   "metadata": {
    "ExecuteTime": {
     "end_time": "2019-11-22T08:09:42.155953Z",
     "start_time": "2019-11-22T08:09:42.141736Z"
    }
   },
   "outputs": [],
   "source": [
    "s['a':'z']"
   ]
  },
  {
   "cell_type": "code",
   "execution_count": null,
   "metadata": {
    "ExecuteTime": {
     "end_time": "2019-11-22T08:09:53.104506Z",
     "start_time": "2019-11-22T08:09:53.085061Z"
    }
   },
   "outputs": [],
   "source": [
    "s[['k', 'q', 'a', 'r']]"
   ]
  },
  {
   "cell_type": "code",
   "execution_count": null,
   "metadata": {
    "ExecuteTime": {
     "end_time": "2019-11-22T08:10:00.060377Z",
     "start_time": "2019-11-22T08:10:00.047847Z"
    }
   },
   "outputs": [],
   "source": [
    "s[5:3:-1]"
   ]
  },
  {
   "cell_type": "markdown",
   "metadata": {},
   "source": [
    "## Indexing with `.loc`"
   ]
  },
  {
   "cell_type": "code",
   "execution_count": null,
   "metadata": {
    "ExecuteTime": {
     "end_time": "2019-11-22T08:11:11.162056Z",
     "start_time": "2019-11-22T08:11:11.149711Z"
    }
   },
   "outputs": [],
   "source": [
    "s_int_idx = pd.Series(np.random.randint(20, size=(N_ELEMS,)),\n",
    "                      index=np.random.choice(N_ELEMS, N_ELEMS, replace=False),\n",
    "                      name='randint_series')\n",
    "s_int_idx"
   ]
  },
  {
   "cell_type": "code",
   "execution_count": null,
   "metadata": {
    "ExecuteTime": {
     "end_time": "2019-11-22T08:12:04.688803Z",
     "start_time": "2019-11-22T08:12:04.666362Z"
    }
   },
   "outputs": [],
   "source": [
    "s_int_idx[2:15]"
   ]
  },
  {
   "cell_type": "code",
   "execution_count": null,
   "metadata": {
    "ExecuteTime": {
     "end_time": "2019-11-22T08:13:01.799674Z",
     "start_time": "2019-11-22T08:13:01.786540Z"
    }
   },
   "outputs": [],
   "source": [
    "s_int_idx[2]"
   ]
  },
  {
   "cell_type": "code",
   "execution_count": null,
   "metadata": {
    "ExecuteTime": {
     "end_time": "2019-11-22T08:13:27.690284Z",
     "start_time": "2019-11-22T08:13:27.673310Z"
    }
   },
   "outputs": [],
   "source": [
    "s_int_idx[2:5]"
   ]
  },
  {
   "cell_type": "code",
   "execution_count": null,
   "metadata": {
    "ExecuteTime": {
     "end_time": "2019-11-22T08:13:56.026253Z",
     "start_time": "2019-11-22T08:13:56.005377Z"
    }
   },
   "outputs": [],
   "source": [
    "s_int_idx[s_int_idx.index.isin(range(2,6))]"
   ]
  },
  {
   "cell_type": "code",
   "execution_count": null,
   "metadata": {
    "ExecuteTime": {
     "end_time": "2019-11-22T08:14:31.570554Z",
     "start_time": "2019-11-22T08:14:31.549832Z"
    }
   },
   "outputs": [],
   "source": [
    "s_int_idx.loc[2:5]"
   ]
  },
  {
   "cell_type": "code",
   "execution_count": null,
   "metadata": {
    "ExecuteTime": {
     "end_time": "2019-11-22T08:14:56.400345Z",
     "start_time": "2019-11-22T08:14:56.385716Z"
    }
   },
   "outputs": [],
   "source": [
    "s_int_idx.iloc[2:5]"
   ]
  },
  {
   "cell_type": "code",
   "execution_count": null,
   "metadata": {
    "ExecuteTime": {
     "end_time": "2019-11-22T08:15:50.100779Z",
     "start_time": "2019-11-22T08:15:49.967437Z"
    }
   },
   "outputs": [],
   "source": [
    "s_int_idx.loc[2:456]"
   ]
  },
  {
   "cell_type": "code",
   "execution_count": null,
   "metadata": {
    "ExecuteTime": {
     "end_time": "2019-11-15T11:04:55.528655Z",
     "start_time": "2019-11-15T11:04:55.521887Z"
    }
   },
   "outputs": [],
   "source": [
    "s_int_idx.mean()"
   ]
  },
  {
   "cell_type": "code",
   "execution_count": null,
   "metadata": {
    "ExecuteTime": {
     "end_time": "2019-11-22T08:16:35.737640Z",
     "start_time": "2019-11-22T08:16:35.723320Z"
    }
   },
   "outputs": [],
   "source": [
    "s_sorted = s_int_idx.sort_index()"
   ]
  },
  {
   "cell_type": "code",
   "execution_count": null,
   "metadata": {
    "ExecuteTime": {
     "end_time": "2019-11-22T08:16:38.172124Z",
     "start_time": "2019-11-22T08:16:38.163659Z"
    }
   },
   "outputs": [],
   "source": [
    "s_sorted.index.is_monotonic"
   ]
  },
  {
   "cell_type": "code",
   "execution_count": null,
   "metadata": {
    "ExecuteTime": {
     "end_time": "2019-11-22T08:19:02.898524Z",
     "start_time": "2019-11-22T08:19:02.887459Z"
    }
   },
   "outputs": [],
   "source": [
    "s_sorted.loc[2:5]"
   ]
  },
  {
   "cell_type": "code",
   "execution_count": null,
   "metadata": {
    "ExecuteTime": {
     "end_time": "2019-11-22T08:25:13.872672Z",
     "start_time": "2019-11-22T08:25:13.852011Z"
    }
   },
   "outputs": [],
   "source": [
    "s_trick = pd.Series([1,2,3,4], index=[2,3,4,4])\n",
    "s_trick.loc[2:4]"
   ]
  },
  {
   "cell_type": "code",
   "execution_count": null,
   "metadata": {
    "ExecuteTime": {
     "end_time": "2019-11-22T08:25:21.443416Z",
     "start_time": "2019-11-22T08:25:21.429994Z"
    }
   },
   "outputs": [],
   "source": [
    "s_trick"
   ]
  },
  {
   "cell_type": "code",
   "execution_count": null,
   "metadata": {
    "ExecuteTime": {
     "end_time": "2019-11-19T15:26:45.739951Z",
     "start_time": "2019-11-19T15:26:45.735719Z"
    }
   },
   "outputs": [],
   "source": [
    "s_trick.index.is_monotonic"
   ]
  },
  {
   "cell_type": "code",
   "execution_count": null,
   "metadata": {
    "ExecuteTime": {
     "end_time": "2019-11-19T15:22:20.395918Z",
     "start_time": "2019-11-19T15:22:20.387572Z"
    }
   },
   "outputs": [],
   "source": [
    "s_int_idx.sort_index().loc[2:6]"
   ]
  },
  {
   "cell_type": "code",
   "execution_count": null,
   "metadata": {
    "ExecuteTime": {
     "end_time": "2019-11-22T08:26:27.721990Z",
     "start_time": "2019-11-22T08:26:27.709338Z"
    }
   },
   "outputs": [],
   "source": [
    "s_int_idx"
   ]
  },
  {
   "cell_type": "code",
   "execution_count": null,
   "metadata": {
    "ExecuteTime": {
     "end_time": "2019-11-22T08:26:13.865062Z",
     "start_time": "2019-11-22T08:26:13.850033Z"
    }
   },
   "outputs": [],
   "source": [
    "s_int_idx[s_int_idx.index!=11]"
   ]
  },
  {
   "cell_type": "code",
   "execution_count": null,
   "metadata": {
    "ExecuteTime": {
     "end_time": "2019-11-22T08:28:05.175620Z",
     "start_time": "2019-11-22T08:28:05.155895Z"
    }
   },
   "outputs": [],
   "source": [
    "s_int_idx[(s_int_idx>15) | (s_int_idx<5)]"
   ]
  },
  {
   "cell_type": "code",
   "execution_count": null,
   "metadata": {
    "ExecuteTime": {
     "end_time": "2019-11-22T08:28:55.380668Z",
     "start_time": "2019-11-22T08:28:55.358326Z"
    }
   },
   "outputs": [],
   "source": [
    "s_int_idx.loc[s_int_idx!=14]"
   ]
  },
  {
   "cell_type": "code",
   "execution_count": null,
   "metadata": {
    "ExecuteTime": {
     "end_time": "2019-11-19T15:28:47.435825Z",
     "start_time": "2019-11-19T15:28:47.428336Z"
    }
   },
   "outputs": [],
   "source": [
    "s_int_idx"
   ]
  },
  {
   "cell_type": "code",
   "execution_count": null,
   "metadata": {
    "ExecuteTime": {
     "end_time": "2019-11-19T15:28:22.561357Z",
     "start_time": "2019-11-19T15:28:22.551944Z"
    }
   },
   "outputs": [],
   "source": [
    "s_int_idx[s_int_idx.index!=11]"
   ]
  },
  {
   "cell_type": "markdown",
   "metadata": {},
   "source": [
    "## Indexing with `.iloc`"
   ]
  },
  {
   "cell_type": "code",
   "execution_count": null,
   "metadata": {
    "ExecuteTime": {
     "end_time": "2019-11-22T08:29:56.711018Z",
     "start_time": "2019-11-22T08:29:56.685007Z"
    }
   },
   "outputs": [],
   "source": [
    "s"
   ]
  },
  {
   "cell_type": "code",
   "execution_count": null,
   "metadata": {
    "ExecuteTime": {
     "end_time": "2019-11-22T08:30:00.077549Z",
     "start_time": "2019-11-22T08:30:00.065593Z"
    }
   },
   "outputs": [],
   "source": [
    "s.iloc[5:8]"
   ]
  },
  {
   "cell_type": "code",
   "execution_count": null,
   "metadata": {
    "ExecuteTime": {
     "end_time": "2019-11-22T08:30:23.087458Z",
     "start_time": "2019-11-22T08:30:23.067832Z"
    }
   },
   "outputs": [],
   "source": [
    "s.shape"
   ]
  },
  {
   "cell_type": "code",
   "execution_count": null,
   "metadata": {
    "ExecuteTime": {
     "end_time": "2019-11-22T08:32:17.121225Z",
     "start_time": "2019-11-22T08:32:17.105944Z"
    }
   },
   "outputs": [],
   "source": [
    "s.iloc[15:20]"
   ]
  },
  {
   "cell_type": "code",
   "execution_count": null,
   "metadata": {
    "ExecuteTime": {
     "end_time": "2019-11-22T08:33:00.357396Z",
     "start_time": "2019-11-22T08:33:00.329772Z"
    }
   },
   "outputs": [],
   "source": [
    "s.iloc[[3, 9, 8]]"
   ]
  },
  {
   "cell_type": "code",
   "execution_count": null,
   "metadata": {
    "ExecuteTime": {
     "end_time": "2019-11-19T15:41:00.936036Z",
     "start_time": "2019-11-19T15:41:00.930132Z"
    }
   },
   "outputs": [],
   "source": [
    "s"
   ]
  },
  {
   "cell_type": "code",
   "execution_count": null,
   "metadata": {
    "ExecuteTime": {
     "end_time": "2019-11-22T08:33:17.172287Z",
     "start_time": "2019-11-22T08:33:17.158992Z"
    }
   },
   "outputs": [],
   "source": [
    "s.iloc[[3, 9]]"
   ]
  },
  {
   "cell_type": "code",
   "execution_count": null,
   "metadata": {
    "ExecuteTime": {
     "end_time": "2019-11-22T08:33:20.106939Z",
     "start_time": "2019-11-22T08:33:20.077976Z"
    }
   },
   "outputs": [],
   "source": [
    "s.loc[[\"d\", \"j\"]]"
   ]
  },
  {
   "cell_type": "markdown",
   "metadata": {},
   "source": [
    "# Indexing `pd.DataFrame`"
   ]
  },
  {
   "cell_type": "code",
   "execution_count": null,
   "metadata": {
    "ExecuteTime": {
     "end_time": "2019-11-22T08:48:11.738432Z",
     "start_time": "2019-11-22T08:48:11.707003Z"
    }
   },
   "outputs": [],
   "source": [
    "df = pd.DataFrame(np.arange(20).reshape((5,4)),\n",
    "                  columns=['d', 'c', 'b', 'a'],\n",
    "                  index=np.random.choice(list(string.ascii_lowercase), 5, replace=False))\n",
    "df"
   ]
  },
  {
   "cell_type": "code",
   "execution_count": null,
   "metadata": {
    "ExecuteTime": {
     "end_time": "2019-11-22T08:48:23.847833Z",
     "start_time": "2019-11-22T08:48:23.822478Z"
    }
   },
   "outputs": [],
   "source": [
    "df[2:5]"
   ]
  },
  {
   "cell_type": "code",
   "execution_count": null,
   "metadata": {
    "ExecuteTime": {
     "end_time": "2019-11-22T08:49:05.425395Z",
     "start_time": "2019-11-22T08:49:05.310104Z"
    }
   },
   "outputs": [],
   "source": [
    "df['e'] # Nope, it doesn't work that way"
   ]
  },
  {
   "cell_type": "code",
   "execution_count": null,
   "metadata": {
    "ExecuteTime": {
     "end_time": "2019-11-22T08:49:35.866944Z",
     "start_time": "2019-11-22T08:49:35.855448Z"
    }
   },
   "outputs": [],
   "source": [
    "df['a']"
   ]
  },
  {
   "cell_type": "code",
   "execution_count": null,
   "metadata": {
    "ExecuteTime": {
     "end_time": "2019-11-22T08:49:51.861004Z",
     "start_time": "2019-11-22T08:49:51.817073Z"
    }
   },
   "outputs": [],
   "source": [
    "df[['b']]"
   ]
  },
  {
   "cell_type": "code",
   "execution_count": null,
   "metadata": {
    "ExecuteTime": {
     "end_time": "2019-11-22T08:50:20.158248Z",
     "start_time": "2019-11-22T08:50:20.126476Z"
    }
   },
   "outputs": [],
   "source": [
    "df"
   ]
  },
  {
   "cell_type": "code",
   "execution_count": null,
   "metadata": {
    "ExecuteTime": {
     "end_time": "2019-11-22T08:50:20.868649Z",
     "start_time": "2019-11-22T08:50:20.858082Z"
    }
   },
   "outputs": [],
   "source": [
    "df.columns"
   ]
  },
  {
   "cell_type": "code",
   "execution_count": null,
   "metadata": {
    "ExecuteTime": {
     "end_time": "2019-11-22T08:50:46.787696Z",
     "start_time": "2019-11-22T08:50:46.765817Z"
    }
   },
   "outputs": [],
   "source": [
    "df[df.columns[2:]]"
   ]
  },
  {
   "cell_type": "code",
   "execution_count": null,
   "metadata": {
    "ExecuteTime": {
     "end_time": "2019-11-22T08:51:41.164278Z",
     "start_time": "2019-11-22T08:51:41.136839Z"
    }
   },
   "outputs": [],
   "source": [
    "df.iloc[:, 2:]"
   ]
  },
  {
   "cell_type": "code",
   "execution_count": null,
   "metadata": {
    "ExecuteTime": {
     "end_time": "2019-11-22T08:52:19.399798Z",
     "start_time": "2019-11-22T08:52:19.374679Z"
    }
   },
   "outputs": [],
   "source": [
    "df"
   ]
  },
  {
   "cell_type": "code",
   "execution_count": null,
   "metadata": {
    "ExecuteTime": {
     "end_time": "2019-11-22T08:53:18.752573Z",
     "start_time": "2019-11-22T08:53:18.730255Z"
    }
   },
   "outputs": [],
   "source": [
    "df[:'e'] # Surprising!"
   ]
  },
  {
   "cell_type": "code",
   "execution_count": null,
   "metadata": {
    "ExecuteTime": {
     "end_time": "2019-11-22T08:55:40.263993Z",
     "start_time": "2019-11-22T08:55:40.237493Z"
    }
   },
   "outputs": [],
   "source": [
    "df['s':'g'] # Not really surprising"
   ]
  },
  {
   "cell_type": "code",
   "execution_count": null,
   "metadata": {
    "ExecuteTime": {
     "end_time": "2019-11-22T08:55:28.455415Z",
     "start_time": "2019-11-22T08:55:28.433505Z"
    }
   },
   "outputs": [],
   "source": [
    "df.sort_index()['s':'g']"
   ]
  },
  {
   "cell_type": "code",
   "execution_count": null,
   "metadata": {
    "ExecuteTime": {
     "end_time": "2019-11-22T08:56:32.903522Z",
     "start_time": "2019-11-22T08:56:32.881797Z"
    }
   },
   "outputs": [],
   "source": [
    "df['g':]"
   ]
  },
  {
   "cell_type": "code",
   "execution_count": null,
   "metadata": {
    "ExecuteTime": {
     "end_time": "2019-11-22T08:56:36.501875Z",
     "start_time": "2019-11-22T08:56:36.466043Z"
    }
   },
   "outputs": [],
   "source": [
    "df.sort_index()['g':]"
   ]
  },
  {
   "cell_type": "code",
   "execution_count": null,
   "metadata": {
    "ExecuteTime": {
     "end_time": "2019-11-22T08:58:20.863813Z",
     "start_time": "2019-11-22T08:58:20.838381Z"
    }
   },
   "outputs": [],
   "source": [
    "df"
   ]
  },
  {
   "cell_type": "code",
   "execution_count": null,
   "metadata": {
    "ExecuteTime": {
     "end_time": "2019-11-22T08:58:44.878176Z",
     "start_time": "2019-11-22T08:58:44.805843Z"
    }
   },
   "outputs": [],
   "source": [
    "df[\"s\":'z'] # No, that won't work"
   ]
  },
  {
   "cell_type": "code",
   "execution_count": null,
   "metadata": {
    "ExecuteTime": {
     "end_time": "2019-11-22T08:59:25.464237Z",
     "start_time": "2019-11-22T08:59:25.436876Z"
    }
   },
   "outputs": [],
   "source": [
    "df.sort_index()['k':'zjyyf']"
   ]
  },
  {
   "cell_type": "code",
   "execution_count": null,
   "metadata": {
    "ExecuteTime": {
     "end_time": "2019-11-22T08:59:42.487596Z",
     "start_time": "2019-11-22T08:59:42.456295Z"
    }
   },
   "outputs": [],
   "source": [
    "df.index.to_series().rank()"
   ]
  },
  {
   "cell_type": "code",
   "execution_count": null,
   "metadata": {
    "ExecuteTime": {
     "end_time": "2019-11-22T09:00:44.268888Z",
     "start_time": "2019-11-22T09:00:44.254239Z"
    }
   },
   "outputs": [],
   "source": [
    "df.sort_index().index.to_series().rank()"
   ]
  },
  {
   "cell_type": "code",
   "execution_count": null,
   "metadata": {
    "ExecuteTime": {
     "end_time": "2019-11-22T09:01:48.299527Z",
     "start_time": "2019-11-22T09:01:48.278322Z"
    }
   },
   "outputs": [],
   "source": [
    "df"
   ]
  },
  {
   "cell_type": "code",
   "execution_count": null,
   "metadata": {
    "ExecuteTime": {
     "end_time": "2019-11-22T09:02:00.334265Z",
     "start_time": "2019-11-22T09:02:00.316726Z"
    }
   },
   "outputs": [],
   "source": [
    "df['e':'s']['c'] # Not a very good idea"
   ]
  },
  {
   "cell_type": "code",
   "execution_count": null,
   "metadata": {
    "ExecuteTime": {
     "end_time": "2019-11-22T09:02:40.934224Z",
     "start_time": "2019-11-22T09:02:40.903142Z"
    }
   },
   "outputs": [],
   "source": [
    "df[(df['a']>12) | (df['b']<3)]"
   ]
  },
  {
   "cell_type": "code",
   "execution_count": null,
   "metadata": {
    "ExecuteTime": {
     "end_time": "2019-11-22T09:03:24.797326Z",
     "start_time": "2019-11-22T09:03:24.772843Z"
    }
   },
   "outputs": [],
   "source": [
    "df"
   ]
  },
  {
   "cell_type": "markdown",
   "metadata": {},
   "source": [
    "## Indexing with `.loc`"
   ]
  },
  {
   "cell_type": "code",
   "execution_count": null,
   "metadata": {
    "ExecuteTime": {
     "end_time": "2019-11-22T09:04:00.392895Z",
     "start_time": "2019-11-22T09:04:00.373083Z"
    }
   },
   "outputs": [],
   "source": [
    "df"
   ]
  },
  {
   "cell_type": "code",
   "execution_count": null,
   "metadata": {
    "ExecuteTime": {
     "end_time": "2019-11-22T09:04:19.043832Z",
     "start_time": "2019-11-22T09:04:19.021652Z"
    }
   },
   "outputs": [],
   "source": [
    "df.loc['s']"
   ]
  },
  {
   "cell_type": "code",
   "execution_count": null,
   "metadata": {
    "ExecuteTime": {
     "end_time": "2019-11-22T09:04:30.156059Z",
     "start_time": "2019-11-22T09:04:30.145622Z"
    }
   },
   "outputs": [],
   "source": [
    "df.loc['s', 'b']"
   ]
  },
  {
   "cell_type": "code",
   "execution_count": null,
   "metadata": {
    "ExecuteTime": {
     "end_time": "2019-11-22T09:05:52.068207Z",
     "start_time": "2019-11-22T09:05:52.056477Z"
    }
   },
   "outputs": [],
   "source": [
    "df.loc['g':, 'b']"
   ]
  },
  {
   "cell_type": "code",
   "execution_count": null,
   "metadata": {
    "ExecuteTime": {
     "end_time": "2019-11-22T09:06:02.309970Z",
     "start_time": "2019-11-22T09:06:02.287952Z"
    }
   },
   "outputs": [],
   "source": [
    "df.loc['e':, 'b':]"
   ]
  },
  {
   "cell_type": "code",
   "execution_count": null,
   "metadata": {
    "ExecuteTime": {
     "end_time": "2019-11-22T09:06:19.412738Z",
     "start_time": "2019-11-22T09:06:19.388547Z"
    }
   },
   "outputs": [],
   "source": [
    "df"
   ]
  },
  {
   "cell_type": "code",
   "execution_count": null,
   "metadata": {
    "ExecuteTime": {
     "end_time": "2019-11-22T09:07:25.549524Z",
     "start_time": "2019-11-22T09:07:25.531158Z"
    }
   },
   "outputs": [],
   "source": [
    "df.loc['e':, 'c':'d'].shape"
   ]
  },
  {
   "cell_type": "code",
   "execution_count": null,
   "metadata": {
    "ExecuteTime": {
     "end_time": "2019-11-22T09:08:09.574411Z",
     "start_time": "2019-11-22T09:08:09.549513Z"
    }
   },
   "outputs": [],
   "source": [
    "df"
   ]
  },
  {
   "cell_type": "code",
   "execution_count": null,
   "metadata": {
    "ExecuteTime": {
     "end_time": "2019-11-22T09:08:10.621637Z",
     "start_time": "2019-11-22T09:08:10.605010Z"
    }
   },
   "outputs": [],
   "source": [
    "df.columns.to_series().rank()"
   ]
  },
  {
   "cell_type": "code",
   "execution_count": null,
   "metadata": {
    "ExecuteTime": {
     "end_time": "2019-11-22T09:10:09.722407Z",
     "start_time": "2019-11-22T09:10:09.699539Z"
    }
   },
   "outputs": [],
   "source": [
    "df.loc['e':, 'a'::-2]"
   ]
  },
  {
   "cell_type": "code",
   "execution_count": null,
   "metadata": {
    "ExecuteTime": {
     "end_time": "2019-11-22T09:10:22.577757Z",
     "start_time": "2019-11-22T09:10:22.562860Z"
    }
   },
   "outputs": [],
   "source": [
    "df"
   ]
  },
  {
   "cell_type": "code",
   "execution_count": null,
   "metadata": {
    "ExecuteTime": {
     "end_time": "2019-11-22T09:11:06.354858Z",
     "start_time": "2019-11-22T09:11:06.324828Z"
    }
   },
   "outputs": [],
   "source": [
    "df.sort_index(axis='columns').loc['e':, 'c':'d']"
   ]
  },
  {
   "cell_type": "code",
   "execution_count": null,
   "metadata": {
    "ExecuteTime": {
     "end_time": "2019-11-22T09:12:39.442345Z",
     "start_time": "2019-11-22T09:12:39.406933Z"
    }
   },
   "outputs": [],
   "source": [
    "df.loc[:, [\"a\", \"b\"]]"
   ]
  },
  {
   "cell_type": "code",
   "execution_count": null,
   "metadata": {
    "ExecuteTime": {
     "end_time": "2019-11-22T09:12:52.870179Z",
     "start_time": "2019-11-22T09:12:52.854823Z"
    }
   },
   "outputs": [],
   "source": [
    "df.loc[\"x\", \"b\"] = 20\n",
    "df.loc[\"h\", \"c\"] = 30"
   ]
  },
  {
   "cell_type": "code",
   "execution_count": null,
   "metadata": {
    "ExecuteTime": {
     "end_time": "2019-11-22T09:12:54.231178Z",
     "start_time": "2019-11-22T09:12:54.198945Z"
    }
   },
   "outputs": [],
   "source": [
    "df"
   ]
  },
  {
   "cell_type": "code",
   "execution_count": null,
   "metadata": {
    "ExecuteTime": {
     "end_time": "2019-11-22T09:13:26.912687Z",
     "start_time": "2019-11-22T09:13:26.887465Z"
    }
   },
   "outputs": [],
   "source": [
    "df[[\"a\", \"b\"]].rank()"
   ]
  },
  {
   "cell_type": "code",
   "execution_count": null,
   "metadata": {
    "ExecuteTime": {
     "end_time": "2019-11-22T09:15:06.034962Z",
     "start_time": "2019-11-22T09:15:06.014146Z"
    }
   },
   "outputs": [],
   "source": [
    "df.loc[[\"e\", \"g\", \"s\"]]"
   ]
  },
  {
   "cell_type": "code",
   "execution_count": null,
   "metadata": {
    "ExecuteTime": {
     "end_time": "2019-11-22T09:16:34.326574Z",
     "start_time": "2019-11-22T09:16:34.298514Z"
    }
   },
   "outputs": [],
   "source": [
    "df.loc[[\"e\", \"g\", \"s\"]].rank()"
   ]
  },
  {
   "cell_type": "code",
   "execution_count": null,
   "metadata": {
    "ExecuteTime": {
     "end_time": "2019-11-22T09:17:09.040160Z",
     "start_time": "2019-11-22T09:17:09.006893Z"
    }
   },
   "outputs": [],
   "source": [
    "df = pd.DataFrame(np.arange(20).reshape((5,4)),\n",
    "                  columns=['d', 'c', 'a', 'b'],\n",
    "                  index=np.random.choice(list(string.ascii_lowercase), 5, replace=False))\n",
    "df"
   ]
  },
  {
   "cell_type": "code",
   "execution_count": null,
   "metadata": {
    "ExecuteTime": {
     "end_time": "2019-11-19T11:48:46.216539Z",
     "start_time": "2019-11-19T11:48:46.205549Z"
    }
   },
   "outputs": [],
   "source": [
    "df"
   ]
  },
  {
   "cell_type": "code",
   "execution_count": null,
   "metadata": {
    "ExecuteTime": {
     "end_time": "2019-11-19T16:52:05.758936Z",
     "start_time": "2019-11-19T16:52:05.751573Z"
    }
   },
   "outputs": [],
   "source": [
    "df.loc['v':, 'b':'d']"
   ]
  },
  {
   "cell_type": "code",
   "execution_count": null,
   "metadata": {
    "ExecuteTime": {
     "end_time": "2019-11-19T16:52:14.524967Z",
     "start_time": "2019-11-19T16:52:14.515693Z"
    }
   },
   "outputs": [],
   "source": [
    "df.columns.to_series().rank()"
   ]
  },
  {
   "cell_type": "code",
   "execution_count": null,
   "metadata": {
    "ExecuteTime": {
     "end_time": "2019-11-19T16:52:24.055213Z",
     "start_time": "2019-11-19T16:52:24.044848Z"
    }
   },
   "outputs": [],
   "source": [
    "df.sort_index(axis='columns').loc['v':, 'c':'sflng']"
   ]
  },
  {
   "cell_type": "code",
   "execution_count": null,
   "metadata": {
    "ExecuteTime": {
     "end_time": "2019-11-19T16:52:44.895781Z",
     "start_time": "2019-11-19T16:52:44.888468Z"
    }
   },
   "outputs": [],
   "source": [
    "df.sort_index(axis='columns').columns.to_series().rank()"
   ]
  },
  {
   "cell_type": "code",
   "execution_count": null,
   "metadata": {
    "ExecuteTime": {
     "end_time": "2019-11-22T09:17:59.706320Z",
     "start_time": "2019-11-22T09:17:59.685547Z"
    }
   },
   "outputs": [],
   "source": [
    "df"
   ]
  },
  {
   "cell_type": "code",
   "execution_count": null,
   "metadata": {
    "ExecuteTime": {
     "end_time": "2019-11-22T09:18:12.254423Z",
     "start_time": "2019-11-22T09:18:12.242779Z"
    }
   },
   "outputs": [],
   "source": [
    "df.loc[df['c']>10, 'c']"
   ]
  },
  {
   "cell_type": "code",
   "execution_count": null,
   "metadata": {
    "ExecuteTime": {
     "end_time": "2019-11-22T09:18:40.999162Z",
     "start_time": "2019-11-22T09:18:40.928714Z"
    }
   },
   "outputs": [],
   "source": [
    "df.loc[[1,2], 'c'] # This won't work"
   ]
  },
  {
   "cell_type": "markdown",
   "metadata": {},
   "source": [
    "## Indexing with `.iloc`"
   ]
  },
  {
   "cell_type": "code",
   "execution_count": null,
   "metadata": {
    "ExecuteTime": {
     "end_time": "2019-11-22T09:19:11.290317Z",
     "start_time": "2019-11-22T09:19:11.270182Z"
    }
   },
   "outputs": [],
   "source": [
    "df.iloc[:3]"
   ]
  },
  {
   "cell_type": "code",
   "execution_count": null,
   "metadata": {
    "ExecuteTime": {
     "end_time": "2019-11-22T09:19:11.593486Z",
     "start_time": "2019-11-22T09:19:11.570002Z"
    }
   },
   "outputs": [],
   "source": [
    "df.iloc[1:3]"
   ]
  },
  {
   "cell_type": "code",
   "execution_count": null,
   "metadata": {
    "ExecuteTime": {
     "end_time": "2019-11-22T09:19:14.330710Z",
     "start_time": "2019-11-22T09:19:14.291051Z"
    }
   },
   "outputs": [],
   "source": [
    "df.iloc[1:3, 'b'] # This won't work"
   ]
  },
  {
   "cell_type": "code",
   "execution_count": null,
   "metadata": {
    "ExecuteTime": {
     "end_time": "2019-11-22T09:19:36.060760Z",
     "start_time": "2019-11-22T09:19:36.029322Z"
    }
   },
   "outputs": [],
   "source": [
    "df.iloc[1:3, 2:]"
   ]
  },
  {
   "cell_type": "code",
   "execution_count": null,
   "metadata": {
    "ExecuteTime": {
     "end_time": "2019-11-22T09:19:52.670943Z",
     "start_time": "2019-11-22T09:19:52.655200Z"
    }
   },
   "outputs": [],
   "source": [
    "df"
   ]
  },
  {
   "cell_type": "code",
   "execution_count": null,
   "metadata": {
    "ExecuteTime": {
     "end_time": "2019-11-22T09:22:30.284008Z",
     "start_time": "2019-11-22T09:22:30.260560Z"
    }
   },
   "outputs": [],
   "source": [
    "df.values"
   ]
  },
  {
   "cell_type": "code",
   "execution_count": null,
   "metadata": {
    "ExecuteTime": {
     "end_time": "2019-11-22T09:24:31.300066Z",
     "start_time": "2019-11-22T09:24:31.279833Z"
    }
   },
   "outputs": [],
   "source": [
    "df.iloc[(df['a']>10).values, 2:]"
   ]
  },
  {
   "cell_type": "markdown",
   "metadata": {},
   "source": [
    "## `SettingWithCopyWarning`"
   ]
  },
  {
   "cell_type": "code",
   "execution_count": null,
   "metadata": {
    "ExecuteTime": {
     "end_time": "2019-11-22T09:26:00.146643Z",
     "start_time": "2019-11-22T09:26:00.120865Z"
    }
   },
   "outputs": [],
   "source": [
    "df"
   ]
  },
  {
   "cell_type": "code",
   "execution_count": null,
   "metadata": {
    "ExecuteTime": {
     "end_time": "2019-11-22T09:27:26.996006Z",
     "start_time": "2019-11-22T09:27:26.984699Z"
    }
   },
   "outputs": [],
   "source": [
    "df.loc[df['a']>10, 'c'] = 10"
   ]
  },
  {
   "cell_type": "code",
   "execution_count": null,
   "metadata": {
    "ExecuteTime": {
     "end_time": "2019-11-22T09:27:32.585750Z",
     "start_time": "2019-11-22T09:27:32.566464Z"
    }
   },
   "outputs": [],
   "source": [
    "df"
   ]
  },
  {
   "cell_type": "code",
   "execution_count": null,
   "metadata": {
    "ExecuteTime": {
     "end_time": "2019-11-22T09:28:05.238349Z",
     "start_time": "2019-11-22T09:28:05.216728Z"
    }
   },
   "outputs": [],
   "source": [
    "df.loc[df['a']>5]['c'] = 20."
   ]
  },
  {
   "cell_type": "code",
   "execution_count": null,
   "metadata": {
    "ExecuteTime": {
     "end_time": "2019-11-22T09:28:29.885905Z",
     "start_time": "2019-11-22T09:28:29.864756Z"
    }
   },
   "outputs": [],
   "source": [
    "df"
   ]
  },
  {
   "cell_type": "code",
   "execution_count": null,
   "metadata": {
    "ExecuteTime": {
     "end_time": "2019-11-22T09:35:11.615423Z",
     "start_time": "2019-11-22T09:35:11.605248Z"
    }
   },
   "outputs": [],
   "source": [
    "df_1 = df.loc[df['a']>10]"
   ]
  },
  {
   "cell_type": "code",
   "execution_count": null,
   "metadata": {
    "ExecuteTime": {
     "end_time": "2019-11-22T09:30:10.260911Z",
     "start_time": "2019-11-22T09:30:10.248733Z"
    }
   },
   "outputs": [],
   "source": [
    "df_1.is_copy"
   ]
  },
  {
   "cell_type": "code",
   "execution_count": null,
   "metadata": {
    "ExecuteTime": {
     "end_time": "2019-11-22T09:35:27.218032Z",
     "start_time": "2019-11-22T09:35:27.209555Z"
    }
   },
   "outputs": [],
   "source": [
    "df_1['c'] = 25"
   ]
  },
  {
   "cell_type": "code",
   "execution_count": null,
   "metadata": {
    "ExecuteTime": {
     "end_time": "2019-11-22T09:35:49.933381Z",
     "start_time": "2019-11-22T09:35:49.910433Z"
    }
   },
   "outputs": [],
   "source": [
    "df_1"
   ]
  },
  {
   "cell_type": "markdown",
   "metadata": {},
   "source": [
    "# Dataframe arithmetic"
   ]
  },
  {
   "cell_type": "code",
   "execution_count": null,
   "metadata": {
    "ExecuteTime": {
     "end_time": "2019-11-22T09:40:36.731176Z",
     "start_time": "2019-11-22T09:40:36.700640Z"
    }
   },
   "outputs": [],
   "source": [
    "df_1 = pd.DataFrame(np.arange(40).reshape(10,4),\n",
    "                    columns=['a', 'b', 'c', 'd'],\n",
    "                    index=np.random.choice(list(string.ascii_lowercase), 10, replace=False))\n",
    "df_1"
   ]
  },
  {
   "cell_type": "code",
   "execution_count": null,
   "metadata": {
    "ExecuteTime": {
     "end_time": "2019-11-22T09:40:54.256960Z",
     "start_time": "2019-11-22T09:40:54.230382Z"
    }
   },
   "outputs": [],
   "source": [
    "df_2 = pd.DataFrame(np.arange(40).reshape(10,4),\n",
    "                    columns=['a', 'e', 'c', 'd'],\n",
    "                    index=np.random.choice(list(string.ascii_lowercase), 10, replace=False))\n",
    "df_2"
   ]
  },
  {
   "cell_type": "code",
   "execution_count": null,
   "metadata": {
    "ExecuteTime": {
     "end_time": "2019-11-22T09:41:07.187348Z",
     "start_time": "2019-11-22T09:41:07.115604Z"
    }
   },
   "outputs": [],
   "source": [
    "# A lot of missing values\n",
    "df_1 + df_2"
   ]
  },
  {
   "cell_type": "code",
   "execution_count": null,
   "metadata": {
    "ExecuteTime": {
     "end_time": "2019-11-22T09:41:55.511000Z",
     "start_time": "2019-11-22T09:41:55.470535Z"
    }
   },
   "outputs": [],
   "source": [
    "df_1.add(df_2, fill_value=0)"
   ]
  },
  {
   "cell_type": "code",
   "execution_count": null,
   "metadata": {
    "ExecuteTime": {
     "end_time": "2019-11-22T09:43:35.200748Z",
     "start_time": "2019-11-22T09:43:35.186661Z"
    }
   },
   "outputs": [],
   "source": [
    "s_1 = pd.Series(np.arange(10),\n",
    "                name='f',\n",
    "                index=np.random.choice(list(string.ascii_lowercase), 10, replace=False))"
   ]
  },
  {
   "cell_type": "code",
   "execution_count": null,
   "metadata": {
    "ExecuteTime": {
     "end_time": "2019-11-22T09:43:36.308342Z",
     "start_time": "2019-11-22T09:43:36.294085Z"
    }
   },
   "outputs": [],
   "source": [
    "s_1"
   ]
  },
  {
   "cell_type": "code",
   "execution_count": null,
   "metadata": {
    "ExecuteTime": {
     "end_time": "2019-11-22T09:44:11.142552Z",
     "start_time": "2019-11-22T09:44:11.043506Z"
    }
   },
   "outputs": [],
   "source": [
    "df_1 + s_1"
   ]
  },
  {
   "cell_type": "code",
   "execution_count": null,
   "metadata": {
    "ExecuteTime": {
     "end_time": "2019-11-22T09:54:08.783369Z",
     "start_time": "2019-11-22T09:54:08.709416Z"
    }
   },
   "outputs": [],
   "source": [
    "s_1 + df_1"
   ]
  },
  {
   "cell_type": "code",
   "execution_count": null,
   "metadata": {
    "ExecuteTime": {
     "end_time": "2019-11-22T09:54:55.120735Z",
     "start_time": "2019-11-22T09:54:55.085559Z"
    }
   },
   "outputs": [],
   "source": [
    "s_1.add(df_1, axis='columns')"
   ]
  },
  {
   "cell_type": "code",
   "execution_count": null,
   "metadata": {
    "ExecuteTime": {
     "end_time": "2019-11-22T09:58:46.355042Z",
     "start_time": "2019-11-22T09:58:46.343209Z"
    }
   },
   "outputs": [],
   "source": [
    "df1 = df.astype(np.float).copy()"
   ]
  },
  {
   "cell_type": "code",
   "execution_count": null,
   "metadata": {
    "ExecuteTime": {
     "end_time": "2019-11-22T09:58:48.241957Z",
     "start_time": "2019-11-22T09:58:48.225669Z"
    }
   },
   "outputs": [],
   "source": [
    "df1.loc[\"h\", \"b\"] = np.nan"
   ]
  },
  {
   "cell_type": "code",
   "execution_count": null,
   "metadata": {
    "ExecuteTime": {
     "end_time": "2019-11-22T09:58:50.864167Z",
     "start_time": "2019-11-22T09:58:50.833715Z"
    }
   },
   "outputs": [],
   "source": [
    "df1"
   ]
  },
  {
   "cell_type": "code",
   "execution_count": null,
   "metadata": {
    "ExecuteTime": {
     "end_time": "2019-11-22T09:59:11.889372Z",
     "start_time": "2019-11-22T09:59:11.850245Z"
    }
   },
   "outputs": [],
   "source": [
    "(df1 - df1.mean()) / df1.std()"
   ]
  },
  {
   "cell_type": "markdown",
   "metadata": {},
   "source": [
    "# Applying functions to dataframes"
   ]
  },
  {
   "cell_type": "code",
   "execution_count": null,
   "metadata": {
    "ExecuteTime": {
     "end_time": "2019-11-22T10:15:00.470279Z",
     "start_time": "2019-11-22T10:15:00.441711Z"
    }
   },
   "outputs": [],
   "source": [
    "df"
   ]
  },
  {
   "cell_type": "code",
   "execution_count": null,
   "metadata": {
    "ExecuteTime": {
     "end_time": "2019-11-22T10:15:01.966456Z",
     "start_time": "2019-11-22T10:15:01.940446Z"
    }
   },
   "outputs": [],
   "source": [
    "df.iloc[0]"
   ]
  },
  {
   "cell_type": "code",
   "execution_count": null,
   "metadata": {
    "ExecuteTime": {
     "end_time": "2019-11-22T10:15:56.669091Z",
     "start_time": "2019-11-22T10:15:56.635493Z"
    }
   },
   "outputs": [],
   "source": [
    "df.apply(lambda x: np.sqrt(x.d), axis=1)"
   ]
  },
  {
   "cell_type": "code",
   "execution_count": null,
   "metadata": {
    "ExecuteTime": {
     "end_time": "2019-11-22T10:17:15.784527Z",
     "start_time": "2019-11-22T10:17:09.104517Z"
    }
   },
   "outputs": [],
   "source": [
    "%timeit df['d'].apply(lambda x: np.sqrt(x))"
   ]
  },
  {
   "cell_type": "code",
   "execution_count": null,
   "metadata": {
    "ExecuteTime": {
     "end_time": "2019-11-22T10:18:49.294579Z",
     "start_time": "2019-11-22T10:18:49.281772Z"
    }
   },
   "outputs": [],
   "source": [
    "np.sqrt(df['d'])"
   ]
  },
  {
   "cell_type": "code",
   "execution_count": null,
   "metadata": {
    "ExecuteTime": {
     "end_time": "2019-11-22T10:17:24.039917Z",
     "start_time": "2019-11-22T10:17:21.402214Z"
    }
   },
   "outputs": [],
   "source": [
    "%timeit np.sqrt(df['d'])"
   ]
  },
  {
   "cell_type": "code",
   "execution_count": null,
   "metadata": {
    "ExecuteTime": {
     "end_time": "2019-11-19T17:30:42.541827Z",
     "start_time": "2019-11-19T17:30:38.406769Z"
    }
   },
   "outputs": [],
   "source": [
    "# Better way\n",
    "%timeit np.sqrt(df['d'].values)"
   ]
  },
  {
   "cell_type": "code",
   "execution_count": null,
   "metadata": {
    "ExecuteTime": {
     "end_time": "2019-11-22T10:19:46.216982Z",
     "start_time": "2019-11-22T10:19:46.185123Z"
    }
   },
   "outputs": [],
   "source": [
    "df"
   ]
  },
  {
   "cell_type": "code",
   "execution_count": null,
   "metadata": {
    "ExecuteTime": {
     "end_time": "2019-11-22T10:19:53.952393Z",
     "start_time": "2019-11-22T10:19:53.931984Z"
    }
   },
   "outputs": [],
   "source": [
    "df.values"
   ]
  },
  {
   "cell_type": "code",
   "execution_count": null,
   "metadata": {
    "ExecuteTime": {
     "end_time": "2019-11-22T10:20:06.430801Z",
     "start_time": "2019-11-22T10:20:06.422498Z"
    }
   },
   "outputs": [],
   "source": [
    "df.values.sum(axis=1)"
   ]
  },
  {
   "cell_type": "code",
   "execution_count": null,
   "metadata": {
    "ExecuteTime": {
     "end_time": "2019-11-22T10:20:18.147876Z",
     "start_time": "2019-11-22T10:20:18.126223Z"
    }
   },
   "outputs": [],
   "source": [
    "df.apply(lambda x: x.sum(), axis=1)"
   ]
  },
  {
   "cell_type": "code",
   "execution_count": null,
   "metadata": {
    "ExecuteTime": {
     "end_time": "2019-11-22T10:20:36.092386Z",
     "start_time": "2019-11-22T10:20:36.078213Z"
    }
   },
   "outputs": [],
   "source": [
    "np.sum(df, axis=1)"
   ]
  },
  {
   "cell_type": "code",
   "execution_count": null,
   "metadata": {
    "ExecuteTime": {
     "end_time": "2019-11-22T10:21:26.832342Z",
     "start_time": "2019-11-22T10:21:26.811236Z"
    }
   },
   "outputs": [],
   "source": [
    "df.apply(lambda x: [x.d, x.b], axis=1)"
   ]
  },
  {
   "cell_type": "code",
   "execution_count": null,
   "metadata": {
    "ExecuteTime": {
     "end_time": "2019-11-22T10:21:59.786504Z",
     "start_time": "2019-11-22T10:21:59.752228Z"
    }
   },
   "outputs": [],
   "source": [
    "dfm = df.apply(lambda x: pd.Series({'sum': x.sum(),\n",
    "                                    'sqrt': np.sqrt(x['d'])}),\n",
    "               axis=1)"
   ]
  },
  {
   "cell_type": "code",
   "execution_count": null,
   "metadata": {
    "ExecuteTime": {
     "end_time": "2019-11-22T10:22:05.922288Z",
     "start_time": "2019-11-22T10:22:05.897324Z"
    }
   },
   "outputs": [],
   "source": [
    "dfm"
   ]
  },
  {
   "cell_type": "code",
   "execution_count": null,
   "metadata": {
    "ExecuteTime": {
     "end_time": "2019-11-22T10:24:33.326257Z",
     "start_time": "2019-11-22T10:24:33.312451Z"
    }
   },
   "outputs": [],
   "source": [
    "dfm[\"sum\"] = dfm[\"sum\"].astype(np.int)"
   ]
  },
  {
   "cell_type": "code",
   "execution_count": null,
   "metadata": {
    "ExecuteTime": {
     "end_time": "2019-11-22T10:24:39.613636Z",
     "start_time": "2019-11-22T10:24:39.589045Z"
    }
   },
   "outputs": [],
   "source": [
    "dfm.dtypes"
   ]
  },
  {
   "cell_type": "code",
   "execution_count": null,
   "metadata": {
    "ExecuteTime": {
     "end_time": "2019-11-22T10:25:25.317662Z",
     "start_time": "2019-11-22T10:25:25.289511Z"
    }
   },
   "outputs": [],
   "source": [
    "dfm[dfm.columns[dfm.dtypes==np.int64]]"
   ]
  },
  {
   "cell_type": "markdown",
   "metadata": {},
   "source": [
    "# Reading CSV files\n",
    "\n",
    "We will use [Titanic dataset](https://www.kaggle.com/c/titanic/data), which is located in `data` directory."
   ]
  },
  {
   "cell_type": "code",
   "execution_count": null,
   "metadata": {
    "ExecuteTime": {
     "end_time": "2019-11-22T10:35:07.228652Z",
     "start_time": "2019-11-22T10:35:07.203405Z"
    }
   },
   "outputs": [],
   "source": [
    "titanic_train = pd.read_csv('data/train.csv')"
   ]
  },
  {
   "cell_type": "code",
   "execution_count": null,
   "metadata": {
    "ExecuteTime": {
     "end_time": "2019-11-22T10:28:47.287841Z",
     "start_time": "2019-11-22T10:28:47.242456Z"
    }
   },
   "outputs": [],
   "source": [
    "titanic_train.head()"
   ]
  },
  {
   "cell_type": "code",
   "execution_count": null,
   "metadata": {
    "ExecuteTime": {
     "end_time": "2019-11-22T10:29:48.105282Z",
     "start_time": "2019-11-22T10:29:48.075157Z"
    }
   },
   "outputs": [],
   "source": [
    "titanic_train.tail()"
   ]
  },
  {
   "cell_type": "code",
   "execution_count": null,
   "metadata": {
    "ExecuteTime": {
     "end_time": "2019-11-22T10:30:13.035905Z",
     "start_time": "2019-11-22T10:30:13.001749Z"
    }
   },
   "outputs": [],
   "source": [
    "titanic_train.info()"
   ]
  },
  {
   "cell_type": "code",
   "execution_count": null,
   "metadata": {
    "ExecuteTime": {
     "end_time": "2019-11-22T10:31:12.258415Z",
     "start_time": "2019-11-22T10:31:12.165880Z"
    }
   },
   "outputs": [],
   "source": [
    "titanic_train.describe()"
   ]
  },
  {
   "cell_type": "code",
   "execution_count": null,
   "metadata": {
    "ExecuteTime": {
     "end_time": "2019-11-22T10:35:42.076813Z",
     "start_time": "2019-11-22T10:35:40.370862Z"
    }
   },
   "outputs": [],
   "source": [
    "%timeit titanic_train[titanic_train.PassengerId==400]"
   ]
  },
  {
   "cell_type": "code",
   "execution_count": null,
   "metadata": {
    "ExecuteTime": {
     "end_time": "2019-11-22T10:35:49.140951Z",
     "start_time": "2019-11-22T10:35:49.094692Z"
    }
   },
   "outputs": [],
   "source": [
    "titanic_train = pd.read_csv('data/train.csv', index_col='PassengerId')\n",
    "titanic_test = pd.read_csv('data/test.csv', index_col='PassengerId')"
   ]
  },
  {
   "cell_type": "code",
   "execution_count": null,
   "metadata": {
    "ExecuteTime": {
     "end_time": "2019-11-22T10:36:17.815273Z",
     "start_time": "2019-11-22T10:36:13.269503Z"
    }
   },
   "outputs": [],
   "source": [
    "%timeit titanic_train.loc[400]"
   ]
  },
  {
   "cell_type": "code",
   "execution_count": null,
   "metadata": {
    "ExecuteTime": {
     "end_time": "2019-11-22T10:37:12.769311Z",
     "start_time": "2019-11-22T10:37:12.742545Z"
    }
   },
   "outputs": [],
   "source": [
    "titanic = pd.concat([titanic_train, titanic_test])"
   ]
  },
  {
   "cell_type": "code",
   "execution_count": null,
   "metadata": {
    "ExecuteTime": {
     "end_time": "2019-11-22T10:37:56.435059Z",
     "start_time": "2019-11-22T10:37:56.354587Z"
    }
   },
   "outputs": [],
   "source": [
    "titanic"
   ]
  },
  {
   "cell_type": "code",
   "execution_count": null,
   "metadata": {
    "ExecuteTime": {
     "end_time": "2019-11-22T10:38:33.368632Z",
     "start_time": "2019-11-22T10:38:33.340260Z"
    }
   },
   "outputs": [],
   "source": [
    "titanic = pd.concat([titanic_train, titanic_test], sort=False)"
   ]
  },
  {
   "cell_type": "code",
   "execution_count": null,
   "metadata": {
    "ExecuteTime": {
     "end_time": "2019-11-22T10:38:34.565374Z",
     "start_time": "2019-11-22T10:38:34.514358Z"
    }
   },
   "outputs": [],
   "source": [
    "titanic.head()"
   ]
  },
  {
   "cell_type": "code",
   "execution_count": null,
   "metadata": {
    "ExecuteTime": {
     "end_time": "2019-11-22T10:38:42.346147Z",
     "start_time": "2019-11-22T10:38:42.286811Z"
    }
   },
   "outputs": [],
   "source": [
    "titanic.tail()"
   ]
  },
  {
   "cell_type": "markdown",
   "metadata": {},
   "source": [
    "# Dataframe statistics"
   ]
  },
  {
   "cell_type": "code",
   "execution_count": null,
   "metadata": {
    "ExecuteTime": {
     "end_time": "2019-11-22T10:39:36.664485Z",
     "start_time": "2019-11-22T10:39:36.654020Z"
    }
   },
   "outputs": [],
   "source": [
    "titanic.index.is_unique, titanic.index.is_monotonic"
   ]
  },
  {
   "cell_type": "code",
   "execution_count": null,
   "metadata": {
    "ExecuteTime": {
     "end_time": "2019-11-22T10:40:42.559595Z",
     "start_time": "2019-11-22T10:40:42.543410Z"
    }
   },
   "outputs": [],
   "source": [
    "titanic['Pclass'].value_counts()"
   ]
  },
  {
   "cell_type": "code",
   "execution_count": null,
   "metadata": {
    "ExecuteTime": {
     "end_time": "2019-11-22T10:42:18.724344Z",
     "start_time": "2019-11-22T10:42:18.669704Z"
    }
   },
   "outputs": [],
   "source": [
    "titanic[titanic.Ticket==\"CA 2144\"]"
   ]
  },
  {
   "cell_type": "code",
   "execution_count": null,
   "metadata": {
    "ExecuteTime": {
     "end_time": "2019-11-22T10:42:45.036496Z",
     "start_time": "2019-11-22T10:42:44.991580Z"
    }
   },
   "outputs": [],
   "source": [
    "titanic[titanic.SibSp==5]"
   ]
  },
  {
   "cell_type": "code",
   "execution_count": null,
   "metadata": {
    "ExecuteTime": {
     "end_time": "2019-11-22T10:45:09.725652Z",
     "start_time": "2019-11-22T10:45:09.709780Z"
    }
   },
   "outputs": [],
   "source": [
    "titanic.SibSp.value_counts()"
   ]
  },
  {
   "cell_type": "code",
   "execution_count": null,
   "metadata": {
    "ExecuteTime": {
     "end_time": "2019-11-22T10:46:47.602139Z",
     "start_time": "2019-11-22T10:46:47.587653Z"
    }
   },
   "outputs": [],
   "source": [
    "titanic.Embarked.value_counts() # S = Southampton, C = Cherbourg, Q = Queens Town"
   ]
  },
  {
   "cell_type": "code",
   "execution_count": null,
   "metadata": {
    "ExecuteTime": {
     "end_time": "2019-11-22T10:47:28.887267Z",
     "start_time": "2019-11-22T10:47:28.871328Z"
    }
   },
   "outputs": [],
   "source": [
    "titanic.Sex.value_counts()"
   ]
  },
  {
   "cell_type": "code",
   "execution_count": null,
   "metadata": {
    "ExecuteTime": {
     "end_time": "2019-11-22T10:48:47.494717Z",
     "start_time": "2019-11-22T10:48:47.458104Z"
    }
   },
   "outputs": [],
   "source": [
    "print(\"Average age: %2.2f\" % titanic['Age'].mean())\n",
    "print(\"STD of age: %2.2f\" % titanic['Age'].std())\n",
    "print(\"Minimum age: %2.2f\" % titanic['Age'].min())\n",
    "print(\"Maximum age: %2.2f\" % titanic['Age'].max())"
   ]
  },
  {
   "cell_type": "code",
   "execution_count": null,
   "metadata": {
    "ExecuteTime": {
     "end_time": "2019-11-22T10:49:45.273882Z",
     "start_time": "2019-11-22T10:49:45.249774Z"
    }
   },
   "outputs": [],
   "source": [
    "print(\"Average number of siblings/spouse: %2.2f\" % titanic['SibSp'].mean())\n",
    "print(\"Average number of siblings/spouse in class 1: %2.2f\" % titanic.loc[titanic.Pclass==1, 'SibSp'].mean())\n",
    "print(\"Average number of siblings/spouse in class 2: %2.2f\" % titanic.loc[titanic.Pclass==2, 'SibSp'].mean())\n",
    "print(\"Average number of siblings/spouse in class 3: %2.2f\" % titanic.loc[titanic.Pclass==3, 'SibSp'].mean())"
   ]
  },
  {
   "cell_type": "code",
   "execution_count": null,
   "metadata": {
    "ExecuteTime": {
     "end_time": "2019-11-22T10:50:44.216051Z",
     "start_time": "2019-11-22T10:50:44.184828Z"
    }
   },
   "outputs": [],
   "source": [
    "print(\"Minimum age (not survived): %2.2f\" % titanic.loc[titanic.Survived==0, 'Age'].min())\n",
    "print(\"Maximum age (not survived): %2.2f\" % titanic.loc[titanic.Survived==0, 'Age'].max())"
   ]
  },
  {
   "cell_type": "code",
   "execution_count": null,
   "metadata": {
    "ExecuteTime": {
     "end_time": "2019-11-22T10:50:59.214958Z",
     "start_time": "2019-11-22T10:50:59.201228Z"
    }
   },
   "outputs": [],
   "source": [
    "print(\"Minimum age (not survived): %2.2f\" % titanic.loc[titanic.Survived==1, 'Age'].min())\n",
    "print(\"Maximum age (not survived): %2.2f\" % titanic.loc[titanic.Survived==1, 'Age'].max())"
   ]
  },
  {
   "cell_type": "markdown",
   "metadata": {},
   "source": [
    "# Announcing the future"
   ]
  },
  {
   "cell_type": "code",
   "execution_count": null,
   "metadata": {
    "ExecuteTime": {
     "end_time": "2019-11-22T10:53:13.419275Z",
     "start_time": "2019-11-22T10:53:13.406902Z"
    }
   },
   "outputs": [],
   "source": [
    "titanic.groupby('Pclass')"
   ]
  },
  {
   "cell_type": "code",
   "execution_count": null,
   "metadata": {
    "ExecuteTime": {
     "end_time": "2019-11-22T10:53:28.782612Z",
     "start_time": "2019-11-22T10:53:28.747976Z"
    }
   },
   "outputs": [],
   "source": [
    "titanic.groupby('Pclass').size()"
   ]
  },
  {
   "cell_type": "code",
   "execution_count": null,
   "metadata": {
    "ExecuteTime": {
     "end_time": "2019-11-22T10:53:31.385168Z",
     "start_time": "2019-11-22T10:53:31.367376Z"
    }
   },
   "outputs": [],
   "source": [
    "titanic.Pclass.value_counts()"
   ]
  },
  {
   "cell_type": "code",
   "execution_count": null,
   "metadata": {
    "ExecuteTime": {
     "end_time": "2019-11-22T10:55:30.144318Z",
     "start_time": "2019-11-22T10:55:30.129644Z"
    }
   },
   "outputs": [],
   "source": [
    "titanic[\"AgeGroup\"] = 5 + 10*(titanic.Age//10)"
   ]
  },
  {
   "cell_type": "code",
   "execution_count": null,
   "metadata": {
    "ExecuteTime": {
     "end_time": "2019-11-22T11:05:02.690934Z",
     "start_time": "2019-11-22T11:05:02.661026Z"
    }
   },
   "outputs": [],
   "source": [
    "group_counts = titanic.groupby(['Pclass', 'AgeGroup', 'Sex']).size()/titanic.groupby('Pclass').size()"
   ]
  },
  {
   "cell_type": "code",
   "execution_count": null,
   "metadata": {
    "ExecuteTime": {
     "end_time": "2019-11-22T10:59:48.848762Z",
     "start_time": "2019-11-22T10:59:48.793822Z"
    }
   },
   "outputs": [],
   "source": [
    "group_counts[[(1, 5.0, \"female\"), (1, 15.0, \"female\")]]"
   ]
  },
  {
   "cell_type": "code",
   "execution_count": null,
   "metadata": {
    "ExecuteTime": {
     "end_time": "2019-11-22T11:05:08.153494Z",
     "start_time": "2019-11-22T11:05:08.130114Z"
    }
   },
   "outputs": [],
   "source": [
    "100*group_counts"
   ]
  },
  {
   "cell_type": "code",
   "execution_count": null,
   "metadata": {
    "ExecuteTime": {
     "end_time": "2019-11-22T11:06:34.007013Z",
     "start_time": "2019-11-22T11:06:33.993547Z"
    }
   },
   "outputs": [],
   "source": [
    "group_counts = group_counts.unstack()"
   ]
  },
  {
   "cell_type": "code",
   "execution_count": null,
   "metadata": {
    "ExecuteTime": {
     "end_time": "2019-11-22T11:05:15.565706Z",
     "start_time": "2019-11-22T11:05:15.510056Z"
    }
   },
   "outputs": [],
   "source": [
    "group_counts.unstack(level=1)"
   ]
  },
  {
   "cell_type": "code",
   "execution_count": null,
   "metadata": {
    "ExecuteTime": {
     "end_time": "2019-11-22T11:00:39.219138Z",
     "start_time": "2019-11-22T11:00:39.183065Z"
    }
   },
   "outputs": [],
   "source": [
    "group_counts"
   ]
  },
  {
   "cell_type": "code",
   "execution_count": null,
   "metadata": {
    "ExecuteTime": {
     "end_time": "2019-11-22T11:06:40.273743Z",
     "start_time": "2019-11-22T11:06:40.238751Z"
    }
   },
   "outputs": [],
   "source": [
    "group_counts.loc[1]"
   ]
  },
  {
   "cell_type": "code",
   "execution_count": null,
   "metadata": {
    "ExecuteTime": {
     "end_time": "2019-11-22T11:08:26.907297Z",
     "start_time": "2019-11-22T11:08:24.631737Z"
    }
   },
   "outputs": [],
   "source": [
    "plt.figure(figsize=(15, 5))\n",
    "\n",
    "for pclass in [1, 2, 3]:\n",
    "    plt.subplot(1, 3, pclass)\n",
    "    group_counts.loc[pclass].plot(ax=plt.gca())\n",
    "    plt.ylim(0, 0.25)\n",
    "    plt.title(\"Age distribution for Class %i\" % pclass, fontsize=12)\n",
    "plt.tight_layout()"
   ]
  },
  {
   "cell_type": "code",
   "execution_count": null,
   "metadata": {
    "ExecuteTime": {
     "end_time": "2019-11-22T11:12:10.173037Z",
     "start_time": "2019-11-22T11:12:10.155559Z"
    }
   },
   "outputs": [],
   "source": [
    "survival_groups = titanic.groupby(['Pclass', 'AgeGroup', 'Sex']).Survived.mean()"
   ]
  },
  {
   "cell_type": "code",
   "execution_count": null,
   "metadata": {
    "ExecuteTime": {
     "end_time": "2019-11-22T11:12:14.571442Z",
     "start_time": "2019-11-22T11:12:14.561127Z"
    }
   },
   "outputs": [],
   "source": [
    "survival_groups = survival_groups.unstack()"
   ]
  },
  {
   "cell_type": "code",
   "execution_count": null,
   "metadata": {
    "ExecuteTime": {
     "end_time": "2019-11-22T11:12:22.278814Z",
     "start_time": "2019-11-22T11:12:20.056884Z"
    }
   },
   "outputs": [],
   "source": [
    "plt.figure(figsize=(15, 5))\n",
    "\n",
    "for pclass in [1, 2, 3]:\n",
    "    plt.subplot(1, 3, pclass)\n",
    "    survival_groups.loc[pclass].plot(ax=plt.gca())\n",
    "    plt.ylim(0, 1)\n",
    "    plt.title(\"Survived in class %i\" % pclass, fontsize=12)\n",
    "plt.tight_layout()"
   ]
  },
  {
   "cell_type": "code",
   "execution_count": null,
   "metadata": {
    "ExecuteTime": {
     "end_time": "2019-11-22T11:14:14.288801Z",
     "start_time": "2019-11-22T11:14:14.260481Z"
    }
   },
   "outputs": [],
   "source": [
    "siblings_groups = titanic.groupby(['Pclass', 'AgeGroup', 'Sex']).SibSp.mean()"
   ]
  },
  {
   "cell_type": "code",
   "execution_count": null,
   "metadata": {
    "ExecuteTime": {
     "end_time": "2019-11-22T11:14:15.296743Z",
     "start_time": "2019-11-22T11:14:15.282315Z"
    }
   },
   "outputs": [],
   "source": [
    "siblings_groups = siblings_groups.unstack()"
   ]
  },
  {
   "cell_type": "code",
   "execution_count": null,
   "metadata": {
    "ExecuteTime": {
     "end_time": "2019-11-22T11:14:19.149100Z",
     "start_time": "2019-11-22T11:14:16.460243Z"
    }
   },
   "outputs": [],
   "source": [
    "plt.figure(figsize=(15, 5))\n",
    "\n",
    "for pclass in [1, 2, 3]:\n",
    "    plt.subplot(1, 3, pclass)\n",
    "    siblings_groups.loc[pclass].plot(ax=plt.gca())\n",
    "    plt.ylim(0, 5)\n",
    "    plt.title(\"Siblings in class %i\" % pclass, fontsize=12)\n",
    "plt.tight_layout()"
   ]
  },
  {
   "cell_type": "code",
   "execution_count": null,
   "metadata": {
    "ExecuteTime": {
     "end_time": "2019-11-19T18:46:47.536519Z",
     "start_time": "2019-11-19T18:46:47.524096Z"
    }
   },
   "outputs": [],
   "source": [
    "embark_counts = titanic.groupby(['Pclass', 'AgeGroup', 'Sex', 'Embarked']).size()/titanic.groupby('Pclass').size()"
   ]
  },
  {
   "cell_type": "code",
   "execution_count": null,
   "metadata": {
    "ExecuteTime": {
     "end_time": "2019-11-19T18:46:48.197876Z",
     "start_time": "2019-11-19T18:46:48.183380Z"
    }
   },
   "outputs": [],
   "source": [
    "embark_counts = embark_counts.unstack([-1, -2])"
   ]
  },
  {
   "cell_type": "code",
   "execution_count": null,
   "metadata": {
    "ExecuteTime": {
     "end_time": "2019-11-19T18:46:54.839719Z",
     "start_time": "2019-11-19T18:46:54.816214Z"
    }
   },
   "outputs": [],
   "source": [
    "embark_counts"
   ]
  },
  {
   "cell_type": "code",
   "execution_count": null,
   "metadata": {
    "ExecuteTime": {
     "end_time": "2019-11-19T18:46:49.032104Z",
     "start_time": "2019-11-19T18:46:49.020293Z"
    }
   },
   "outputs": [],
   "source": [
    "embark_counts.loc[3, (('S', 'male'))]"
   ]
  },
  {
   "cell_type": "markdown",
   "metadata": {},
   "source": [
    "# Replacing and renaming"
   ]
  },
  {
   "cell_type": "code",
   "execution_count": null,
   "metadata": {
    "ExecuteTime": {
     "end_time": "2019-11-19T11:59:12.928605Z",
     "start_time": "2019-11-19T11:59:12.877885Z"
    }
   },
   "outputs": [],
   "source": [
    "titanic.replace?"
   ]
  },
  {
   "cell_type": "code",
   "execution_count": null,
   "metadata": {
    "ExecuteTime": {
     "end_time": "2019-11-19T11:59:26.827188Z",
     "start_time": "2019-11-19T11:59:26.789216Z"
    }
   },
   "outputs": [],
   "source": [
    "titanic.replace(22, 122).head()"
   ]
  },
  {
   "cell_type": "code",
   "execution_count": null,
   "metadata": {
    "ExecuteTime": {
     "end_time": "2019-11-19T11:59:42.132477Z",
     "start_time": "2019-11-19T11:59:42.052209Z"
    }
   },
   "outputs": [],
   "source": [
    "import re\n",
    "titanic.replace(re.compile(r'\\(.*\\)'), '').head()"
   ]
  },
  {
   "cell_type": "code",
   "execution_count": null,
   "metadata": {
    "ExecuteTime": {
     "end_time": "2019-11-19T11:59:56.540334Z",
     "start_time": "2019-11-19T11:59:56.507153Z"
    }
   },
   "outputs": [],
   "source": [
    "titanic.rename(lambda x: x.lower(), axis=1).head()"
   ]
  },
  {
   "cell_type": "code",
   "execution_count": null,
   "metadata": {
    "ExecuteTime": {
     "end_time": "2019-11-19T12:00:01.482794Z",
     "start_time": "2019-11-19T12:00:01.446881Z"
    }
   },
   "outputs": [],
   "source": [
    "titanic.rename({'SibSp':'siblings_spouses'}, axis=1).head()"
   ]
  },
  {
   "cell_type": "markdown",
   "metadata": {},
   "source": [
    "## String operations"
   ]
  },
  {
   "cell_type": "code",
   "execution_count": null,
   "metadata": {
    "ExecuteTime": {
     "end_time": "2019-11-19T12:00:04.955128Z",
     "start_time": "2019-11-19T12:00:04.934675Z"
    }
   },
   "outputs": [],
   "source": [
    "titanic.head()"
   ]
  },
  {
   "cell_type": "code",
   "execution_count": null,
   "metadata": {
    "ExecuteTime": {
     "end_time": "2019-11-19T12:00:22.983944Z",
     "start_time": "2019-11-19T12:00:22.943064Z"
    }
   },
   "outputs": [],
   "source": [
    "(titanic\n",
    " .replace(re.compile(r'\\(.*\\)'), '')\n",
    " .Name.str\n",
    " .split(',', expand=True)\n",
    " .rename({0:'family_name', 1:'first_name'}, axis=1)\n",
    " .head())"
   ]
  },
  {
   "cell_type": "markdown",
   "metadata": {},
   "source": [
    "# Cleaning data"
   ]
  },
  {
   "cell_type": "code",
   "execution_count": null,
   "metadata": {
    "ExecuteTime": {
     "end_time": "2019-11-19T12:00:42.710118Z",
     "start_time": "2019-11-19T12:00:42.675794Z"
    }
   },
   "outputs": [],
   "source": [
    "titanic.isnull().head()"
   ]
  },
  {
   "cell_type": "code",
   "execution_count": null,
   "metadata": {
    "ExecuteTime": {
     "end_time": "2019-11-19T12:00:45.967577Z",
     "start_time": "2019-11-19T12:00:45.956190Z"
    }
   },
   "outputs": [],
   "source": [
    "titanic.isnull().any()"
   ]
  },
  {
   "cell_type": "code",
   "execution_count": null,
   "metadata": {
    "ExecuteTime": {
     "end_time": "2019-11-19T12:00:49.495136Z",
     "start_time": "2019-11-19T12:00:49.487337Z"
    }
   },
   "outputs": [],
   "source": [
    "titanic.isnull().any(axis=1).head()"
   ]
  },
  {
   "cell_type": "code",
   "execution_count": null,
   "metadata": {
    "ExecuteTime": {
     "end_time": "2019-11-19T12:00:52.858752Z",
     "start_time": "2019-11-19T12:00:52.850950Z"
    }
   },
   "outputs": [],
   "source": [
    "titanic.isnull().sum()"
   ]
  },
  {
   "cell_type": "code",
   "execution_count": null,
   "metadata": {
    "ExecuteTime": {
     "end_time": "2019-11-19T12:00:56.350334Z",
     "start_time": "2019-11-19T12:00:56.325248Z"
    }
   },
   "outputs": [],
   "source": [
    "titanic.head(15)"
   ]
  },
  {
   "cell_type": "code",
   "execution_count": null,
   "metadata": {
    "ExecuteTime": {
     "end_time": "2019-11-19T12:01:00.465120Z",
     "start_time": "2019-11-19T12:01:00.454884Z"
    }
   },
   "outputs": [],
   "source": [
    "fill_values = titanic[['Age', 'Fare']].mean()"
   ]
  },
  {
   "cell_type": "code",
   "execution_count": null,
   "metadata": {
    "ExecuteTime": {
     "end_time": "2019-11-19T12:01:03.491097Z",
     "start_time": "2019-11-19T12:01:03.458050Z"
    }
   },
   "outputs": [],
   "source": [
    "titanic[titanic.Fare.isnull()]"
   ]
  },
  {
   "cell_type": "code",
   "execution_count": null,
   "metadata": {
    "ExecuteTime": {
     "end_time": "2019-11-19T12:01:21.568586Z",
     "start_time": "2019-11-19T12:01:21.531789Z"
    }
   },
   "outputs": [],
   "source": [
    "titanic.fillna(fill_values).fillna({'AgeGroup':25.}).head(15)"
   ]
  },
  {
   "cell_type": "markdown",
   "metadata": {},
   "source": [
    "# Getting indicators and dummy variables"
   ]
  },
  {
   "cell_type": "code",
   "execution_count": null,
   "metadata": {
    "ExecuteTime": {
     "end_time": "2019-11-19T12:01:36.511785Z",
     "start_time": "2019-11-19T12:01:36.466950Z"
    }
   },
   "outputs": [],
   "source": [
    "pd.get_dummies(titanic, columns=['Pclass', 'Sex', 'Embarked']).head()"
   ]
  },
  {
   "cell_type": "code",
   "execution_count": null,
   "metadata": {},
   "outputs": [],
   "source": []
  }
 ],
 "metadata": {
  "@webio": {
   "lastCommId": null,
   "lastKernelId": null
  },
  "kernelspec": {
   "display_name": "Python 3",
   "language": "python",
   "name": "python3"
  },
  "language_info": {
   "codemirror_mode": {
    "name": "ipython",
    "version": 3
   },
   "file_extension": ".py",
   "mimetype": "text/x-python",
   "name": "python",
   "nbconvert_exporter": "python",
   "pygments_lexer": "ipython3",
   "version": "3.7.3"
  }
 },
 "nbformat": 4,
 "nbformat_minor": 2
}
