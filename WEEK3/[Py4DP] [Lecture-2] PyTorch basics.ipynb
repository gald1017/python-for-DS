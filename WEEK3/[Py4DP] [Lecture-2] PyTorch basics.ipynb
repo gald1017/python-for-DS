{
 "cells": [
  {
   "cell_type": "code",
   "execution_count": null,
   "metadata": {
    "ExecuteTime": {
     "end_time": "2019-11-08T10:22:58.718658Z",
     "start_time": "2019-11-08T10:22:58.188378Z"
    }
   },
   "outputs": [],
   "source": [
    "%pylab inline\n",
    "plt.style.use(\"bmh\")"
   ]
  },
  {
   "cell_type": "code",
   "execution_count": null,
   "metadata": {
    "ExecuteTime": {
     "end_time": "2019-11-08T10:23:14.039634Z",
     "start_time": "2019-11-08T10:23:14.033735Z"
    }
   },
   "outputs": [],
   "source": [
    "plt.rcParams[\"figure.figsize\"] = (6,6)"
   ]
  },
  {
   "cell_type": "code",
   "execution_count": null,
   "metadata": {
    "ExecuteTime": {
     "end_time": "2019-11-08T10:23:15.055164Z",
     "start_time": "2019-11-08T10:23:14.287919Z"
    }
   },
   "outputs": [],
   "source": [
    "import numpy as np\n",
    "import torch"
   ]
  },
  {
   "cell_type": "markdown",
   "metadata": {},
   "source": [
    "# Creating tensors"
   ]
  },
  {
   "cell_type": "markdown",
   "metadata": {},
   "source": [
    "## From NumPy arrays"
   ]
  },
  {
   "cell_type": "code",
   "execution_count": null,
   "metadata": {
    "ExecuteTime": {
     "end_time": "2019-11-08T10:24:42.977262Z",
     "start_time": "2019-11-08T10:24:42.967394Z"
    }
   },
   "outputs": [],
   "source": [
    "np_a = np.random.randn(2, 3)\n",
    "torch_a = torch.from_numpy(np_a)"
   ]
  },
  {
   "cell_type": "code",
   "execution_count": null,
   "metadata": {
    "ExecuteTime": {
     "end_time": "2019-11-08T10:25:01.269914Z",
     "start_time": "2019-11-08T10:25:01.207133Z"
    }
   },
   "outputs": [],
   "source": [
    "print(\"NumPy array:\")\n",
    "print(np_a, \"\\n\")\n",
    "print(\"PyTorch tensor:\")\n",
    "print(torch_a, \"\\n\")\n",
    "\n",
    "print(f\"NumPy array dtype: {np_a.dtype}\")\n",
    "print(f\"PyTorch tensor dtype: {torch_a.dtype}\")\n",
    "print(f\"Default PyTorch float: {torch.get_default_dtype()}\", \"\\n\")\n",
    "\n",
    "print(f\"Tensor shape: {torch_a.shape}\")\n",
    "print(f\"Tensor shape: {torch_a.size()}\")\n",
    "print(f\"Tensor number of dimensions: {torch_a.dim()}\")"
   ]
  },
  {
   "cell_type": "code",
   "execution_count": null,
   "metadata": {
    "ExecuteTime": {
     "end_time": "2019-11-08T10:31:01.998019Z",
     "start_time": "2019-11-08T10:31:01.992872Z"
    }
   },
   "outputs": [],
   "source": [
    "torch_a = torch.tensor(np_a, dtype=torch.float)"
   ]
  },
  {
   "cell_type": "code",
   "execution_count": null,
   "metadata": {
    "ExecuteTime": {
     "end_time": "2019-11-08T10:31:02.530714Z",
     "start_time": "2019-11-08T10:31:02.524099Z"
    }
   },
   "outputs": [],
   "source": [
    "torch_a.dtype"
   ]
  },
  {
   "cell_type": "code",
   "execution_count": null,
   "metadata": {
    "ExecuteTime": {
     "end_time": "2019-11-08T10:31:16.387707Z",
     "start_time": "2019-11-08T10:31:16.376277Z"
    }
   },
   "outputs": [],
   "source": [
    "print(\"NumPy array:\")\n",
    "print(np_a, \"\\n\")\n",
    "print(\"PyTorch tensor:\")\n",
    "print(torch_a, \"\\n\")"
   ]
  },
  {
   "cell_type": "code",
   "execution_count": null,
   "metadata": {
    "ExecuteTime": {
     "end_time": "2019-11-08T10:31:20.482849Z",
     "start_time": "2019-11-08T10:31:20.476085Z"
    }
   },
   "outputs": [],
   "source": [
    "print(type(np.float32), type(torch.float))"
   ]
  },
  {
   "cell_type": "markdown",
   "metadata": {},
   "source": [
    "## Predefined structure and values"
   ]
  },
  {
   "cell_type": "code",
   "execution_count": null,
   "metadata": {
    "ExecuteTime": {
     "end_time": "2019-11-08T10:39:43.339397Z",
     "start_time": "2019-11-08T10:39:43.331750Z"
    }
   },
   "outputs": [],
   "source": [
    "torch.arange(10)"
   ]
  },
  {
   "cell_type": "code",
   "execution_count": null,
   "metadata": {
    "ExecuteTime": {
     "end_time": "2019-11-08T10:39:44.074284Z",
     "start_time": "2019-11-08T10:39:44.064510Z"
    }
   },
   "outputs": [],
   "source": [
    "torch.zeros(2, 3)"
   ]
  },
  {
   "cell_type": "code",
   "execution_count": null,
   "metadata": {
    "ExecuteTime": {
     "end_time": "2019-11-08T10:39:45.081723Z",
     "start_time": "2019-11-08T10:39:45.073356Z"
    }
   },
   "outputs": [],
   "source": [
    "torch.linspace(0, 10, 11)"
   ]
  },
  {
   "cell_type": "code",
   "execution_count": null,
   "metadata": {
    "ExecuteTime": {
     "end_time": "2019-11-08T10:39:49.067017Z",
     "start_time": "2019-11-08T10:39:49.059267Z"
    }
   },
   "outputs": [],
   "source": [
    "torch.zeros(2, 5, dtype=torch.bool)"
   ]
  },
  {
   "cell_type": "code",
   "execution_count": null,
   "metadata": {
    "ExecuteTime": {
     "end_time": "2019-11-08T10:39:49.400515Z",
     "start_time": "2019-11-08T10:39:49.391733Z"
    }
   },
   "outputs": [],
   "source": [
    "torch.ones(2, 5, dtype=torch.bool)"
   ]
  },
  {
   "cell_type": "markdown",
   "metadata": {},
   "source": [
    "## Random numbers"
   ]
  },
  {
   "cell_type": "code",
   "execution_count": null,
   "metadata": {
    "ExecuteTime": {
     "end_time": "2019-11-08T10:41:44.387867Z",
     "start_time": "2019-11-08T10:41:44.378859Z"
    }
   },
   "outputs": [],
   "source": [
    "torch.manual_seed(8436)\n",
    "\n",
    "a = torch.Tensor(1000)"
   ]
  },
  {
   "cell_type": "code",
   "execution_count": null,
   "metadata": {
    "ExecuteTime": {
     "end_time": "2019-11-08T10:42:30.254893Z",
     "start_time": "2019-11-08T10:42:30.241685Z"
    }
   },
   "outputs": [],
   "source": [
    "a"
   ]
  },
  {
   "cell_type": "code",
   "execution_count": null,
   "metadata": {
    "ExecuteTime": {
     "end_time": "2019-11-08T10:44:04.990029Z",
     "start_time": "2019-11-08T10:44:04.651837Z"
    }
   },
   "outputs": [],
   "source": [
    "a.normal_(0, 2.)\n",
    "\n",
    "plt.hist(a.numpy());"
   ]
  },
  {
   "cell_type": "code",
   "execution_count": null,
   "metadata": {
    "ExecuteTime": {
     "end_time": "2019-11-08T10:45:05.399149Z",
     "start_time": "2019-11-08T10:45:05.059858Z"
    }
   },
   "outputs": [],
   "source": [
    "a.uniform_(-2, 2.)\n",
    "\n",
    "plt.hist(a);"
   ]
  },
  {
   "cell_type": "markdown",
   "metadata": {},
   "source": [
    "### Using distributions"
   ]
  },
  {
   "cell_type": "code",
   "execution_count": null,
   "metadata": {
    "ExecuteTime": {
     "end_time": "2019-11-08T10:47:01.261259Z",
     "start_time": "2019-11-08T10:47:01.253979Z"
    }
   },
   "outputs": [],
   "source": [
    "poisson_sampler = torch.distributions.Poisson(1.)"
   ]
  },
  {
   "cell_type": "code",
   "execution_count": null,
   "metadata": {
    "ExecuteTime": {
     "end_time": "2019-11-08T10:47:01.342635Z",
     "start_time": "2019-11-08T10:47:01.335986Z"
    }
   },
   "outputs": [],
   "source": [
    "samples = poisson_sampler.sample((500,))"
   ]
  },
  {
   "cell_type": "code",
   "execution_count": null,
   "metadata": {
    "ExecuteTime": {
     "end_time": "2019-11-08T10:47:02.513848Z",
     "start_time": "2019-11-08T10:47:02.152157Z"
    }
   },
   "outputs": [],
   "source": [
    "plt.hist(samples, range=(0, 10), bins=10)"
   ]
  },
  {
   "cell_type": "markdown",
   "metadata": {},
   "source": [
    "# Tensor operations"
   ]
  },
  {
   "cell_type": "code",
   "execution_count": null,
   "metadata": {
    "ExecuteTime": {
     "end_time": "2019-11-08T10:50:18.846887Z",
     "start_time": "2019-11-08T10:50:18.841674Z"
    }
   },
   "outputs": [],
   "source": [
    "a = torch.Tensor(2, 3)\n",
    "a.normal_();"
   ]
  },
  {
   "cell_type": "code",
   "execution_count": null,
   "metadata": {
    "ExecuteTime": {
     "end_time": "2019-11-08T10:50:28.762716Z",
     "start_time": "2019-11-08T10:50:28.744635Z"
    }
   },
   "outputs": [],
   "source": [
    "# New tensor\n",
    "\n",
    "print(a.exp())\n",
    "print(a)"
   ]
  },
  {
   "cell_type": "code",
   "execution_count": null,
   "metadata": {
    "ExecuteTime": {
     "end_time": "2019-11-08T10:51:58.638161Z",
     "start_time": "2019-11-08T10:51:58.631707Z"
    }
   },
   "outputs": [],
   "source": [
    "# Inplace version\n",
    "\n",
    "print(a.exp_())\n",
    "print(a)"
   ]
  },
  {
   "cell_type": "code",
   "execution_count": null,
   "metadata": {
    "ExecuteTime": {
     "end_time": "2019-11-08T10:52:30.057382Z",
     "start_time": "2019-11-08T10:52:30.049265Z"
    }
   },
   "outputs": [],
   "source": [
    "b = torch.ones(2, 1)\n",
    "b"
   ]
  },
  {
   "cell_type": "code",
   "execution_count": null,
   "metadata": {
    "ExecuteTime": {
     "end_time": "2019-11-08T10:52:41.511759Z",
     "start_time": "2019-11-08T10:52:41.504636Z"
    }
   },
   "outputs": [],
   "source": [
    "a + b"
   ]
  },
  {
   "cell_type": "code",
   "execution_count": null,
   "metadata": {
    "ExecuteTime": {
     "end_time": "2019-11-05T17:59:06.648145Z",
     "start_time": "2019-11-05T17:59:06.631660Z"
    }
   },
   "outputs": [],
   "source": [
    "a.add_(b)"
   ]
  },
  {
   "cell_type": "code",
   "execution_count": null,
   "metadata": {
    "ExecuteTime": {
     "end_time": "2019-11-08T10:55:26.682223Z",
     "start_time": "2019-11-08T10:55:26.676072Z"
    }
   },
   "outputs": [],
   "source": [
    "a"
   ]
  },
  {
   "cell_type": "code",
   "execution_count": null,
   "metadata": {
    "ExecuteTime": {
     "end_time": "2019-11-08T10:55:27.537981Z",
     "start_time": "2019-11-08T10:55:27.529217Z"
    }
   },
   "outputs": [],
   "source": [
    "b.normal_()"
   ]
  },
  {
   "cell_type": "code",
   "execution_count": null,
   "metadata": {
    "ExecuteTime": {
     "end_time": "2019-11-08T10:56:04.955482Z",
     "start_time": "2019-11-08T10:56:04.949141Z"
    }
   },
   "outputs": [],
   "source": [
    "a.exp()"
   ]
  },
  {
   "cell_type": "code",
   "execution_count": null,
   "metadata": {
    "ExecuteTime": {
     "end_time": "2019-11-08T10:56:05.138899Z",
     "start_time": "2019-11-08T10:56:05.130105Z"
    }
   },
   "outputs": [],
   "source": [
    "a.exp().div(b)"
   ]
  },
  {
   "cell_type": "code",
   "execution_count": null,
   "metadata": {
    "ExecuteTime": {
     "end_time": "2019-11-08T10:56:39.747882Z",
     "start_time": "2019-11-08T10:56:39.740770Z"
    }
   },
   "outputs": [],
   "source": [
    "a.exp_().div_(b)"
   ]
  },
  {
   "cell_type": "code",
   "execution_count": null,
   "metadata": {
    "ExecuteTime": {
     "end_time": "2019-11-08T10:56:53.684357Z",
     "start_time": "2019-11-08T10:56:53.675013Z"
    }
   },
   "outputs": [],
   "source": [
    "a"
   ]
  },
  {
   "cell_type": "code",
   "execution_count": null,
   "metadata": {
    "ExecuteTime": {
     "end_time": "2019-11-08T10:58:04.327153Z",
     "start_time": "2019-11-08T10:58:04.321530Z"
    }
   },
   "outputs": [],
   "source": [
    "a > 0"
   ]
  },
  {
   "cell_type": "markdown",
   "metadata": {},
   "source": [
    "# To Python and NumPy"
   ]
  },
  {
   "cell_type": "code",
   "execution_count": null,
   "metadata": {
    "ExecuteTime": {
     "end_time": "2019-11-08T10:59:17.451553Z",
     "start_time": "2019-11-08T10:59:17.446008Z"
    }
   },
   "outputs": [],
   "source": [
    "# Shape the same data with PyTorch tensor\n",
    "\n",
    "a.numpy()"
   ]
  },
  {
   "cell_type": "code",
   "execution_count": null,
   "metadata": {
    "ExecuteTime": {
     "end_time": "2019-11-08T10:59:52.917820Z",
     "start_time": "2019-11-08T10:59:52.909615Z"
    }
   },
   "outputs": [],
   "source": [
    "a[0, 1], a[0, 1].item()"
   ]
  },
  {
   "cell_type": "markdown",
   "metadata": {},
   "source": [
    "# Reshape and resize"
   ]
  },
  {
   "cell_type": "code",
   "execution_count": null,
   "metadata": {
    "ExecuteTime": {
     "end_time": "2019-11-08T11:04:29.771794Z",
     "start_time": "2019-11-08T11:04:29.763269Z"
    }
   },
   "outputs": [],
   "source": [
    "def plot_matrix(a):\n",
    "    plt.matshow(a, cmap=plt.cm.coolwarm)\n",
    "    plt.grid(False)\n",
    "\n",
    "    for i in range(a.shape[0]):\n",
    "        for j in range(a.shape[1]):\n",
    "            plt.text(j, i, f\"{a[i, j]:.4f}\",\n",
    "                     ha=\"center\", va=\"center\", color=\"w\",\n",
    "                     fontsize=12)\n",
    "    plt.show()"
   ]
  },
  {
   "cell_type": "code",
   "execution_count": null,
   "metadata": {
    "ExecuteTime": {
     "end_time": "2019-11-08T11:04:37.752912Z",
     "start_time": "2019-11-08T11:04:37.746076Z"
    }
   },
   "outputs": [],
   "source": [
    "a = torch.randn(3, 8)\n",
    "a"
   ]
  },
  {
   "cell_type": "code",
   "execution_count": null,
   "metadata": {
    "ExecuteTime": {
     "end_time": "2019-11-08T11:05:10.731177Z",
     "start_time": "2019-11-08T11:05:10.724977Z"
    }
   },
   "outputs": [],
   "source": [
    "a.view(4, -1)"
   ]
  },
  {
   "cell_type": "code",
   "execution_count": null,
   "metadata": {
    "ExecuteTime": {
     "end_time": "2019-11-08T11:05:32.182262Z",
     "start_time": "2019-11-08T11:05:32.175529Z"
    }
   },
   "outputs": [],
   "source": [
    "a[::2, ::2]"
   ]
  },
  {
   "cell_type": "code",
   "execution_count": null,
   "metadata": {
    "ExecuteTime": {
     "end_time": "2019-11-08T11:07:52.713494Z",
     "start_time": "2019-11-08T11:07:52.706272Z"
    }
   },
   "outputs": [],
   "source": [
    "a[::2, ::2].view(2,2,2)"
   ]
  },
  {
   "cell_type": "code",
   "execution_count": null,
   "metadata": {
    "ExecuteTime": {
     "end_time": "2019-11-08T11:08:22.983593Z",
     "start_time": "2019-11-08T11:08:22.975520Z"
    }
   },
   "outputs": [],
   "source": [
    "print(\"Original:\")\n",
    "print(a, \"\\n\")\n",
    "print(\"Sliced:\")\n",
    "print(a[::2, ::2])"
   ]
  },
  {
   "cell_type": "code",
   "execution_count": null,
   "metadata": {
    "ExecuteTime": {
     "end_time": "2019-11-08T11:08:26.135831Z",
     "start_time": "2019-11-08T11:08:26.130527Z"
    }
   },
   "outputs": [],
   "source": [
    "a[::2, ::2].stride(), a.stride()"
   ]
  },
  {
   "cell_type": "code",
   "execution_count": null,
   "metadata": {
    "ExecuteTime": {
     "end_time": "2019-11-08T11:09:28.025797Z",
     "start_time": "2019-11-08T11:09:27.644515Z"
    }
   },
   "outputs": [],
   "source": [
    "plot_matrix(a.numpy())"
   ]
  },
  {
   "cell_type": "code",
   "execution_count": null,
   "metadata": {
    "ExecuteTime": {
     "end_time": "2019-11-04T20:26:06.815328Z",
     "start_time": "2019-11-04T20:26:06.804158Z"
    }
   },
   "outputs": [],
   "source": [
    "a[::2, ::2].stride(), a.stride()"
   ]
  },
  {
   "cell_type": "code",
   "execution_count": null,
   "metadata": {
    "ExecuteTime": {
     "end_time": "2019-11-05T18:35:45.768130Z",
     "start_time": "2019-11-05T18:35:45.751368Z"
    }
   },
   "outputs": [],
   "source": [
    "print(\"Original:\")\n",
    "print(a, \"\\n\")\n",
    "print(\"Sliced:\")\n",
    "print(a[::2, ::2])"
   ]
  },
  {
   "cell_type": "code",
   "execution_count": null,
   "metadata": {
    "ExecuteTime": {
     "end_time": "2019-11-05T18:34:20.253175Z",
     "start_time": "2019-11-05T18:34:20.235895Z"
    }
   },
   "outputs": [],
   "source": [
    "a[::2, ::2].view(2, 2, 2)"
   ]
  },
  {
   "cell_type": "code",
   "execution_count": null,
   "metadata": {
    "ExecuteTime": {
     "end_time": "2019-11-05T18:33:34.718551Z",
     "start_time": "2019-11-05T18:33:34.705119Z"
    }
   },
   "outputs": [],
   "source": [
    "a[::2, ::2].reshape(4, 2)"
   ]
  },
  {
   "cell_type": "code",
   "execution_count": null,
   "metadata": {
    "ExecuteTime": {
     "end_time": "2019-11-08T11:10:03.875094Z",
     "start_time": "2019-11-08T11:10:03.867990Z"
    }
   },
   "outputs": [],
   "source": [
    "a.storage()"
   ]
  },
  {
   "cell_type": "code",
   "execution_count": null,
   "metadata": {
    "ExecuteTime": {
     "end_time": "2019-11-08T11:11:41.866570Z",
     "start_time": "2019-11-08T11:11:41.856011Z"
    }
   },
   "outputs": [],
   "source": [
    "a[::2, ::2].reshape(2, 2, 2).storage().data_ptr()"
   ]
  },
  {
   "cell_type": "code",
   "execution_count": null,
   "metadata": {
    "ExecuteTime": {
     "end_time": "2019-11-08T11:11:43.596262Z",
     "start_time": "2019-11-08T11:11:43.588087Z"
    }
   },
   "outputs": [],
   "source": [
    "a.view(4, 6).storage().data_ptr(), a.storage().data_ptr()"
   ]
  },
  {
   "cell_type": "code",
   "execution_count": null,
   "metadata": {},
   "outputs": [],
   "source": []
  }
 ],
 "metadata": {
  "@webio": {
   "lastCommId": null,
   "lastKernelId": null
  },
  "kernelspec": {
   "display_name": "Python 3",
   "language": "python",
   "name": "python3"
  },
  "language_info": {
   "codemirror_mode": {
    "name": "ipython",
    "version": 3
   },
   "file_extension": ".py",
   "mimetype": "text/x-python",
   "name": "python",
   "nbconvert_exporter": "python",
   "pygments_lexer": "ipython3",
   "version": "3.7.3"
  }
 },
 "nbformat": 4,
 "nbformat_minor": 2
}
